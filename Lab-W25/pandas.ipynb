{
 "cells": [
  {
   "cell_type": "code",
   "execution_count": 2,
   "id": "7a1fd0a3",
   "metadata": {},
   "outputs": [],
   "source": [
    "import pandas as pd"
   ]
  },
  {
   "cell_type": "code",
   "execution_count": 7,
   "id": "58292a22",
   "metadata": {},
   "outputs": [
    {
     "name": "stdout",
     "output_type": "stream",
     "text": [
      "    cars  passings\n",
      "0    BMW         3\n",
      "1  Volvo         7\n",
      "2   Ford         2\n"
     ]
    }
   ],
   "source": [
    "mydataset = {\n",
    "  'cars': [\"BMW\", \"Volvo\", \"Ford\"],\n",
    "  'passings': [3, 7, 2]\n",
    "}\n",
    "\n",
    "myvar = pd.DataFrame(mydataset)\n",
    "\n",
    "print(myvar)"
   ]
  },
  {
   "cell_type": "code",
   "execution_count": 4,
   "id": "9dafa8be",
   "metadata": {},
   "outputs": [
    {
     "name": "stdout",
     "output_type": "stream",
     "text": [
      "0    1\n",
      "1    7\n",
      "2    2\n",
      "dtype: int64\n"
     ]
    }
   ],
   "source": [
    "a = [1, 7, 2]\n",
    "\n",
    "myvar = pd.Series(a)\n",
    "\n",
    "print(myvar)"
   ]
  },
  {
   "cell_type": "code",
   "execution_count": 5,
   "id": "aa2ac050",
   "metadata": {},
   "outputs": [
    {
     "name": "stdout",
     "output_type": "stream",
     "text": [
      "x    1\n",
      "y    7\n",
      "z    2\n",
      "dtype: int64\n"
     ]
    }
   ],
   "source": [
    "a = [1, 7, 2]\n",
    "\n",
    "myvar = pd.Series(a, index = [\"x\", \"y\", \"z\"])\n",
    "\n",
    "print(myvar)"
   ]
  },
  {
   "cell_type": "code",
   "execution_count": 9,
   "id": "d54eb9cd",
   "metadata": {},
   "outputs": [
    {
     "name": "stdout",
     "output_type": "stream",
     "text": [
      "day1    420\n",
      "day2    380\n",
      "day3    390\n",
      "dtype: int64\n"
     ]
    }
   ],
   "source": [
    "calories = {\"day1\": 420, \"day2\": 380, \"day3\": 390}\n",
    "\n",
    "myvar = pd.Series(calories)\n",
    "\n",
    "print(myvar)"
   ]
  },
  {
   "cell_type": "code",
   "execution_count": 12,
   "id": "de568de6",
   "metadata": {},
   "outputs": [
    {
     "name": "stdout",
     "output_type": "stream",
     "text": [
      "day1    420\n",
      "day3    390\n",
      "dtype: int64\n"
     ]
    }
   ],
   "source": [
    "calories = {\"day1\": 420, \"day2\": 380, \"day3\": 390}\n",
    "\n",
    "myvar = pd.Series(calories, index = [\"day1\",'day2',\"day3\"])\n",
    "\n",
    "print(myvar)"
   ]
  },
  {
   "cell_type": "code",
   "execution_count": 48,
   "id": "a7cd3345",
   "metadata": {},
   "outputs": [
    {
     "name": "stdout",
     "output_type": "stream",
     "text": [
      "   calories  duration\n",
      "0       420        50\n",
      "1       380        40\n",
      "2       390        45\n"
     ]
    }
   ],
   "source": [
    "data = {\n",
    "  \"calories\": [420, 380, 390],\n",
    "  \"duration\": [50, 40, 45]\n",
    "}\n",
    "\n",
    "myvar = pd.DataFrame(data)\n",
    "\n",
    "print(myvar)"
   ]
  },
  {
   "cell_type": "code",
   "execution_count": 13,
   "id": "2d5b45ed",
   "metadata": {},
   "outputs": [
    {
     "name": "stdout",
     "output_type": "stream",
     "text": [
      "   calories  duration\n",
      "0       420        50\n",
      "1       380        40\n",
      "2       390        45\n",
      "3       450        65\n",
      "4       480        60\n",
      "5       420        55\n"
     ]
    }
   ],
   "source": [
    "data = {\n",
    "  \"calories\": [420, 380, 390,450,480,420],\n",
    "  \"duration\": [50, 40, 45,65,60,55]\n",
    "}\n",
    "\n",
    "#load data into a DataFrame object:\n",
    "df = pd.DataFrame(data)\n",
    "\n",
    "print(df) "
   ]
  },
  {
   "cell_type": "code",
   "execution_count": 14,
   "id": "29a7a434",
   "metadata": {},
   "outputs": [
    {
     "name": "stdout",
     "output_type": "stream",
     "text": [
      "calories    480\n",
      "duration     60\n",
      "Name: 4, dtype: int64\n"
     ]
    }
   ],
   "source": [
    "#refer to the row index:\n",
    "print(df.loc[4])"
   ]
  },
  {
   "cell_type": "code",
   "execution_count": 17,
   "id": "b09d635e",
   "metadata": {},
   "outputs": [
    {
     "name": "stdout",
     "output_type": "stream",
     "text": [
      "   calories  duration\n",
      "0       420        50\n",
      "2       390        45\n"
     ]
    }
   ],
   "source": [
    "print(df.loc[[0,2]])"
   ]
  },
  {
   "cell_type": "code",
   "execution_count": 52,
   "id": "c042ddf7",
   "metadata": {},
   "outputs": [
    {
     "name": "stdout",
     "output_type": "stream",
     "text": [
      "      calories  duration\n",
      "day1       420        50\n",
      "day2       380        40\n",
      "day3       390        45\n"
     ]
    }
   ],
   "source": [
    "data = {\n",
    "  \"calories\": [420, 380, 390],\n",
    "  \"duration\": [50, 40, 45]\n",
    "}\n",
    "\n",
    "df = pd.DataFrame(data, index = [\"day1\", \"day2\", \"day3\"])\n",
    "\n",
    "print(df) "
   ]
  },
  {
   "cell_type": "code",
   "execution_count": 19,
   "id": "2c318a76",
   "metadata": {},
   "outputs": [
    {
     "name": "stdout",
     "output_type": "stream",
     "text": [
      "        Name   Age  Test    ODI    T20          DoD\n",
      "0      rohit  34.0  43.0  227.0  119.0   23-06-2007\n",
      "1      rahul  29.0  40.0   38.0   55.0   26-12-2014\n",
      "2      virat  33.0  96.0  254.0   91.0   18-08-2008\n",
      "3    shreyas   NaN   NaN   21.0   29.0   10-12-2017\n",
      "4    rishabh  24.0  25.0   18.0   39.0   01-02-2017\n",
      "5   ravindra  33.0  56.0  168.0   50.0   08-02-2009\n",
      "6    shardul  30.0   4.0   15.0   22.0   31-08-2017\n",
      "7       axar   NaN   4.0   38.0   15.0   15-06-2014\n",
      "8    harshal  31.0   NaN    NaN    NaN  Yet to Make\n",
      "9       yuzi  31.0   NaN   56.0   50.0   11-06-2016\n",
      "10   jasprit  28.0  24.0   67.0   51.0   23-01-2016\n"
     ]
    }
   ],
   "source": [
    "df = pd.read_csv(r\"C:\\Users\\hp\\Documents\\cricket.csv\")\n",
    "\n",
    "print(df)"
   ]
  },
  {
   "cell_type": "code",
   "execution_count": 9,
   "id": "42de558c",
   "metadata": {},
   "outputs": [
    {
     "name": "stdout",
     "output_type": "stream",
     "text": [
      "        Name   Age  Test    ODI    T20          DoD\n",
      "0      rohit  34.0  43.0  227.0  119.0   23-06-2007\n",
      "1      rahul  29.0  40.0   38.0   55.0   26-12-2014\n",
      "2      virat  33.0  96.0  254.0   91.0   18-08-2008\n",
      "3    shreyas   NaN   NaN   21.0   29.0   10-12-2017\n",
      "4    rishabh  24.0  25.0   18.0   39.0   01-02-2017\n",
      "5   ravindra  33.0  56.0  168.0   50.0   08-02-2009\n",
      "6    shardul  30.0   4.0   15.0   22.0   31-08-2017\n",
      "7       axar   NaN   4.0   38.0   15.0   15-06-2014\n",
      "8    harshal  31.0   NaN    NaN    NaN  Yet to Make\n",
      "9       yuzi  31.0   NaN   56.0   50.0   11-06-2016\n",
      "10   jasprit  28.0  24.0   67.0   51.0   23-01-2016\n"
     ]
    }
   ],
   "source": [
    "print(df.to_string()) "
   ]
  },
  {
   "cell_type": "code",
   "execution_count": 20,
   "id": "120406a7",
   "metadata": {},
   "outputs": [
    {
     "name": "stdout",
     "output_type": "stream",
     "text": [
      "60\n"
     ]
    }
   ],
   "source": [
    "print(pd.options.display.max_rows) "
   ]
  },
  {
   "cell_type": "code",
   "execution_count": 11,
   "id": "0242d0a3",
   "metadata": {},
   "outputs": [
    {
     "name": "stdout",
     "output_type": "stream",
     "text": [
      "        Name   Age  Test    ODI    T20          DoD\n",
      "0      rohit  34.0  43.0  227.0  119.0   23-06-2007\n",
      "1      rahul  29.0  40.0   38.0   55.0   26-12-2014\n",
      "2      virat  33.0  96.0  254.0   91.0   18-08-2008\n",
      "3    shreyas   NaN   NaN   21.0   29.0   10-12-2017\n",
      "4    rishabh  24.0  25.0   18.0   39.0   01-02-2017\n",
      "5   ravindra  33.0  56.0  168.0   50.0   08-02-2009\n",
      "6    shardul  30.0   4.0   15.0   22.0   31-08-2017\n",
      "7       axar   NaN   4.0   38.0   15.0   15-06-2014\n",
      "8    harshal  31.0   NaN    NaN    NaN  Yet to Make\n",
      "9       yuzi  31.0   NaN   56.0   50.0   11-06-2016\n",
      "10   jasprit  28.0  24.0   67.0   51.0   23-01-2016\n"
     ]
    }
   ],
   "source": [
    "pd.options.display.max_rows = 9999\n",
    "\n",
    "print(df) "
   ]
  },
  {
   "cell_type": "code",
   "execution_count": 23,
   "id": "ea933625",
   "metadata": {},
   "outputs": [
    {
     "name": "stdout",
     "output_type": "stream",
     "text": [
      "      Name   Age  Test    ODI    T20         DoD\n",
      "0    rohit  34.0  43.0  227.0  119.0  23-06-2007\n",
      "1    rahul  29.0  40.0   38.0   55.0  26-12-2014\n",
      "2    virat  33.0  96.0  254.0   91.0  18-08-2008\n",
      "3  shreyas   NaN   NaN   21.0   29.0  10-12-2017\n",
      "4  rishabh  24.0  25.0   18.0   39.0  01-02-2017\n"
     ]
    }
   ],
   "source": [
    "print(df.head())"
   ]
  },
  {
   "cell_type": "code",
   "execution_count": 25,
   "id": "f5eee467",
   "metadata": {},
   "outputs": [
    {
     "name": "stdout",
     "output_type": "stream",
     "text": [
      "       Name   Age  Test   ODI   T20         DoD\n",
      "10  jasprit  28.0  24.0  67.0  51.0  23-01-2016\n"
     ]
    }
   ],
   "source": [
    "print(df.tail(1))"
   ]
  },
  {
   "cell_type": "code",
   "execution_count": 14,
   "id": "1bad003f",
   "metadata": {},
   "outputs": [
    {
     "name": "stdout",
     "output_type": "stream",
     "text": [
      "<class 'pandas.core.frame.DataFrame'>\n",
      "RangeIndex: 11 entries, 0 to 10\n",
      "Data columns (total 6 columns):\n",
      " #   Column  Non-Null Count  Dtype  \n",
      "---  ------  --------------  -----  \n",
      " 0   Name    11 non-null     object \n",
      " 1   Age     9 non-null      float64\n",
      " 2   Test    8 non-null      float64\n",
      " 3   ODI     10 non-null     float64\n",
      " 4   T20     10 non-null     float64\n",
      " 5   DoD     11 non-null     object \n",
      "dtypes: float64(4), object(2)\n",
      "memory usage: 656.0+ bytes\n",
      "None\n"
     ]
    }
   ],
   "source": [
    "print(df.info()) "
   ]
  },
  {
   "cell_type": "code",
   "execution_count": 26,
   "id": "f9bdf9fd",
   "metadata": {},
   "outputs": [
    {
     "name": "stdout",
     "output_type": "stream",
     "text": [
      "        Name   Age  Test    ODI    T20         DoD\n",
      "0      rohit  34.0  43.0  227.0  119.0  23-06-2007\n",
      "1      rahul  29.0  40.0   38.0   55.0  26-12-2014\n",
      "2      virat  33.0  96.0  254.0   91.0  18-08-2008\n",
      "4    rishabh  24.0  25.0   18.0   39.0  01-02-2017\n",
      "5   ravindra  33.0  56.0  168.0   50.0  08-02-2009\n",
      "6    shardul  30.0   4.0   15.0   22.0  31-08-2017\n",
      "10   jasprit  28.0  24.0   67.0   51.0  23-01-2016\n"
     ]
    }
   ],
   "source": [
    "df1 = df.dropna()\n",
    "\n",
    "print(df1)"
   ]
  },
  {
   "cell_type": "code",
   "execution_count": 16,
   "id": "1841dbd9",
   "metadata": {},
   "outputs": [
    {
     "name": "stdout",
     "output_type": "stream",
     "text": [
      "        Name   Age  Test    ODI    T20          DoD\n",
      "0      rohit  34.0  43.0  227.0  119.0   23-06-2007\n",
      "1      rahul  29.0  40.0   38.0   55.0   26-12-2014\n",
      "2      virat  33.0  96.0  254.0   91.0   18-08-2008\n",
      "3    shreyas   0.0   0.0   21.0   29.0   10-12-2017\n",
      "4    rishabh  24.0  25.0   18.0   39.0   01-02-2017\n",
      "5   ravindra  33.0  56.0  168.0   50.0   08-02-2009\n",
      "6    shardul  30.0   4.0   15.0   22.0   31-08-2017\n",
      "7       axar   0.0   4.0   38.0   15.0   15-06-2014\n",
      "8    harshal  31.0   0.0    0.0    0.0  Yet to Make\n",
      "9       yuzi  31.0   0.0   56.0   50.0   11-06-2016\n",
      "10   jasprit  28.0  24.0   67.0   51.0   23-01-2016\n",
      "        Name   Age  Test    ODI    T20          DoD\n",
      "0      rohit  34.0  43.0  227.0  119.0   23-06-2007\n",
      "1      rahul  29.0  40.0   38.0   55.0   26-12-2014\n",
      "2      virat  33.0  96.0  254.0   91.0   18-08-2008\n",
      "3    shreyas   NaN   NaN   21.0   29.0   10-12-2017\n",
      "4    rishabh  24.0  25.0   18.0   39.0   01-02-2017\n",
      "5   ravindra  33.0  56.0  168.0   50.0   08-02-2009\n",
      "6    shardul  30.0   4.0   15.0   22.0   31-08-2017\n",
      "7       axar   NaN   4.0   38.0   15.0   15-06-2014\n",
      "8    harshal  31.0   NaN    NaN    NaN  Yet to Make\n",
      "9       yuzi  31.0   NaN   56.0   50.0   11-06-2016\n",
      "10   jasprit  28.0  24.0   67.0   51.0   23-01-2016\n"
     ]
    }
   ],
   "source": [
    "df2=df.fillna(0)\n",
    "print(df2)\n",
    "print(df)"
   ]
  },
  {
   "cell_type": "code",
   "execution_count": 30,
   "id": "efd2fa13",
   "metadata": {},
   "outputs": [
    {
     "name": "stdout",
     "output_type": "stream",
     "text": [
      "        Name   Age  Test    ODI    T20          DoD\n",
      "0      rohit  34.0  43.0  227.0  119.0   23-06-2007\n",
      "1      rahul  29.0  40.0   38.0   55.0   26-12-2014\n",
      "2      virat  33.0  96.0  254.0   91.0   18-08-2008\n",
      "3    shreyas   NaN  36.5   21.0   29.0   10-12-2017\n",
      "4    rishabh  24.0  25.0   18.0   39.0   01-02-2017\n",
      "5   ravindra  33.0  56.0  168.0   50.0   08-02-2009\n",
      "6    shardul  30.0   4.0   15.0   22.0   31-08-2017\n",
      "7       axar   NaN   4.0   38.0   15.0   15-06-2014\n",
      "8    harshal  31.0  36.5   47.0   10.0  Yet to Make\n",
      "9       yuzi  31.0  36.5   56.0   50.0   11-06-2016\n",
      "10   jasprit  28.0  24.0   67.0   51.0   23-01-2016\n"
     ]
    }
   ],
   "source": [
    "df[\"T20\"].fillna(10, inplace = True)\n",
    "print(df)"
   ]
  },
  {
   "cell_type": "code",
   "execution_count": 32,
   "id": "48704eb8",
   "metadata": {},
   "outputs": [
    {
     "name": "stdout",
     "output_type": "stream",
     "text": [
      "        Name   Age  Test    ODI    T20          DoD\n",
      "0      rohit  34.0  43.0  227.0  119.0   23-06-2007\n",
      "1      rahul  29.0  40.0   38.0   55.0   26-12-2014\n",
      "2      virat  33.0  96.0  254.0   91.0   18-08-2008\n",
      "3    shreyas   NaN  36.5   21.0   29.0   10-12-2017\n",
      "4    rishabh  24.0  25.0   18.0   39.0   01-02-2017\n",
      "5   ravindra  33.0  56.0  168.0   50.0   08-02-2009\n",
      "6    shardul  30.0   4.0   15.0   22.0   31-08-2017\n",
      "7       axar   NaN   4.0   38.0   15.0   15-06-2014\n",
      "8    harshal  31.0  36.5   47.0   10.0  Yet to Make\n",
      "9       yuzi  31.0  36.5   56.0   50.0   11-06-2016\n",
      "10   jasprit  28.0  24.0   67.0   51.0   23-01-2016\n"
     ]
    }
   ],
   "source": [
    "x=df['Test'].mean()\n",
    "df['Test'].fillna(x,inplace=True)\n",
    "print(df)"
   ]
  },
  {
   "cell_type": "code",
   "execution_count": 31,
   "id": "e6064226",
   "metadata": {},
   "outputs": [
    {
     "name": "stdout",
     "output_type": "stream",
     "text": [
      "        Name   Age  Test    ODI    T20          DoD\n",
      "0      rohit  34.0  43.0  227.0  119.0   23-06-2007\n",
      "1      rahul  29.0  40.0   38.0   55.0   26-12-2014\n",
      "2      virat  33.0  96.0  254.0   91.0   18-08-2008\n",
      "3    shreyas   NaN  36.5   21.0   29.0   10-12-2017\n",
      "4    rishabh  24.0  25.0   18.0   39.0   01-02-2017\n",
      "5   ravindra  33.0  56.0  168.0   50.0   08-02-2009\n",
      "6    shardul  30.0   4.0   15.0   22.0   31-08-2017\n",
      "7       axar   NaN   4.0   38.0   15.0   15-06-2014\n",
      "8    harshal  31.0  36.5   47.0   10.0  Yet to Make\n",
      "9       yuzi  31.0  36.5   56.0   50.0   11-06-2016\n",
      "10   jasprit  28.0  24.0   67.0   51.0   23-01-2016\n"
     ]
    }
   ],
   "source": [
    "x = df[\"ODI\"].median()\n",
    "df[\"ODI\"].fillna(x, inplace = True)\n",
    "print(df)"
   ]
  },
  {
   "cell_type": "code",
   "execution_count": 43,
   "id": "dccd5980",
   "metadata": {},
   "outputs": [
    {
     "name": "stdout",
     "output_type": "stream",
     "text": [
      "        Name   Age  Test    ODI    T20          DoD\n",
      "0      rohit  34.0  43.0  227.0  119.0   23-06-2007\n",
      "1      rahul  29.0  40.0   38.0   55.0   26-12-2014\n",
      "2      virat  33.0  96.0  254.0   91.0   18-08-2008\n",
      "3    shreyas  33.0  36.5   21.0   29.0   10-12-2017\n",
      "4    rishabh  24.0  25.0   18.0   39.0   01-02-2017\n",
      "5   ravindra  33.0  56.0  168.0   50.0   08-02-2009\n",
      "6    shardul  30.0   4.0   15.0   22.0   31-08-2017\n",
      "7       axar  33.0   4.0   38.0   15.0   15-06-2014\n",
      "8    harshal  31.0  36.5   47.0   10.0  Yet to Make\n",
      "9       yuzi  31.0  36.5   56.0   50.0   11-06-2016\n",
      "10   jasprit  28.0  24.0   67.0   51.0   23-01-2016\n"
     ]
    }
   ],
   "source": [
    "x = df[\"Age\"].mode()[0]\n",
    "df[\"Age\"].fillna(x, inplace = True)\n",
    "print(df)"
   ]
  },
  {
   "cell_type": "code",
   "execution_count": null,
   "id": "a5114c50",
   "metadata": {},
   "outputs": [],
   "source": []
  },
  {
   "cell_type": "code",
   "execution_count": 21,
   "id": "f4979865",
   "metadata": {},
   "outputs": [
    {
     "name": "stdout",
     "output_type": "stream",
     "text": [
      "<class 'pandas.core.frame.DataFrame'>\n",
      "RangeIndex: 11 entries, 0 to 10\n",
      "Data columns (total 6 columns):\n",
      " #   Column  Non-Null Count  Dtype  \n",
      "---  ------  --------------  -----  \n",
      " 0   Name    11 non-null     object \n",
      " 1   Age     11 non-null     float64\n",
      " 2   Test    11 non-null     float64\n",
      " 3   ODI     11 non-null     float64\n",
      " 4   T20     11 non-null     float64\n",
      " 5   DoD     11 non-null     object \n",
      "dtypes: float64(4), object(2)\n",
      "memory usage: 656.0+ bytes\n"
     ]
    }
   ],
   "source": [
    "df.info()"
   ]
  },
  {
   "cell_type": "code",
   "execution_count": 45,
   "id": "3f7637c6",
   "metadata": {},
   "outputs": [
    {
     "name": "stdout",
     "output_type": "stream",
     "text": [
      "        Name   Age  Test    ODI    T20          DoD\n",
      "0      rohit  34.0  43.0  227.0  119.0   23-06-2007\n",
      "1      rahul  29.0  40.0   38.0   55.0   26-12-2014\n",
      "2      virat  33.0  96.0  254.0   91.0   18-08-2008\n",
      "3    shreyas  33.0  36.5   21.0   29.0   10-12-2017\n",
      "4    rishabh  24.0  25.0   18.0   39.0   01-02-2017\n",
      "5   ravindra  33.0  56.0  168.0   50.0   08-02-2009\n",
      "6    shardul  30.0   4.0   15.0   22.0   31-08-2017\n",
      "7       axar  33.0   4.0   38.0   15.0   15-06-2014\n",
      "8    harshal  31.0  36.5   47.0   10.0  Yet to Make\n",
      "9       yuzi  31.0  36.5   56.0   50.0   11-06-2016\n",
      "10   jasprit  28.0  24.0   67.0   51.0   23-01-2016\n"
     ]
    }
   ],
   "source": [
    "df3=df.dropna(subset=['DoD'])\n",
    "print(df3)"
   ]
  },
  {
   "cell_type": "code",
   "execution_count": 47,
   "id": "b131a670",
   "metadata": {},
   "outputs": [
    {
     "name": "stdout",
     "output_type": "stream",
     "text": [
      "        Name   Age  Test    ODI    T20         DoD\n",
      "0      rohit  34.0  43.0  227.0  119.0  23-06-2007\n",
      "1      rahul  29.0  40.0   38.0   55.0  26-12-2014\n",
      "2      virat  33.0  96.0  254.0   91.0  18-08-2008\n",
      "3    shreyas  33.0  36.5   21.0   29.0  10-12-2017\n",
      "4    rishabh  24.0  25.0   18.0   39.0  01-02-2017\n",
      "5   ravindra  33.0  56.0  168.0   50.0  08-02-2009\n",
      "6    shardul  30.0   4.0   15.0   22.0  31-08-2017\n",
      "7       axar  33.0   4.0   38.0   15.0  15-06-2014\n",
      "8    harshal  31.0  36.5   47.0   10.0  01-07-2022\n",
      "9       yuzi  31.0  36.5   56.0   50.0  11-06-2016\n",
      "10   jasprit  28.0  24.0   67.0   51.0  23-01-2016\n"
     ]
    }
   ],
   "source": [
    "df.loc[8,'DoD']= '01-07-2022'\n",
    "print(df)"
   ]
  },
  {
   "cell_type": "code",
   "execution_count": 48,
   "id": "bdab6676",
   "metadata": {},
   "outputs": [
    {
     "name": "stdout",
     "output_type": "stream",
     "text": [
      "        Name   Age  Test    ODI    T20         DoD  total\n",
      "0      rohit  34.0  43.0  227.0  119.0  23-06-2007  389.0\n",
      "1      rahul  29.0  40.0   38.0   55.0  26-12-2014  133.0\n",
      "2      virat  33.0  96.0  254.0   91.0  18-08-2008  441.0\n",
      "3    shreyas  33.0  36.5   21.0   29.0  10-12-2017   86.5\n",
      "4    rishabh  24.0  25.0   18.0   39.0  01-02-2017   82.0\n",
      "5   ravindra  33.0  56.0  168.0   50.0  08-02-2009  274.0\n",
      "6    shardul  30.0   4.0   15.0   22.0  31-08-2017   41.0\n",
      "7       axar  33.0   4.0   38.0   15.0  15-06-2014   57.0\n",
      "8    harshal  31.0  36.5   47.0   10.0  01-07-2022   93.5\n",
      "9       yuzi  31.0  36.5   56.0   50.0  11-06-2016  142.5\n",
      "10   jasprit  28.0  24.0   67.0   51.0  23-01-2016  142.0\n"
     ]
    }
   ],
   "source": [
    "df['total']=df['Test']+df['ODI']+df['T20']\n",
    "print(df)"
   ]
  },
  {
   "cell_type": "code",
   "execution_count": 50,
   "id": "f8804300",
   "metadata": {},
   "outputs": [
    {
     "name": "stdout",
     "output_type": "stream",
     "text": [
      "        Name   Age  Test    ODI    T20         DoD  total\n",
      "0      rohit  34.0  43.0  227.0  119.0  23-06-2007  389.0\n",
      "1      rahul  29.0  40.0   38.0   55.0  26-12-2014  133.0\n",
      "2      virat  33.0  96.0  254.0   91.0  18-08-2008    0.0\n",
      "3    shreyas  33.0  36.5   21.0   29.0  10-12-2017   86.5\n",
      "4    rishabh  24.0  25.0   18.0   39.0  01-02-2017   82.0\n",
      "5   ravindra  33.0  56.0  168.0   50.0  08-02-2009  274.0\n",
      "6    shardul  30.0   4.0   15.0   22.0  31-08-2017   41.0\n",
      "7       axar  33.0   4.0   38.0   15.0  15-06-2014   57.0\n",
      "8    harshal  31.0  36.5   47.0   10.0  01-07-2022   93.5\n",
      "9       yuzi  31.0  36.5   56.0   50.0  11-06-2016  142.5\n",
      "10   jasprit  28.0  24.0   67.0   51.0  23-01-2016  142.0\n"
     ]
    }
   ],
   "source": [
    "new_df=df\n",
    "for x in new_df.index:\n",
    "    if new_df.loc[x, \"total\"]==441:\n",
    "        new_df.loc[x, \"total\"] = 0\n",
    "print(df)"
   ]
  },
  {
   "cell_type": "code",
   "execution_count": 53,
   "id": "44fb2d3b",
   "metadata": {},
   "outputs": [
    {
     "name": "stdout",
     "output_type": "stream",
     "text": [
      "        Name   Age  Test    ODI    T20         DoD  total\n",
      "0      rohit  34.0  43.0  227.0  119.0  23-06-2007  389.0\n",
      "1      rahul  29.0  40.0   38.0   55.0  26-12-2014  133.0\n",
      "3    shreyas  33.0  36.5   21.0   29.0  10-12-2017   86.5\n",
      "4    rishabh  24.0  25.0   18.0   39.0  01-02-2017   82.0\n",
      "5   ravindra  33.0  56.0  168.0   50.0  08-02-2009  274.0\n",
      "7       axar  33.0   4.0   38.0   15.0  15-06-2014   57.0\n",
      "8    harshal  31.0  36.5   47.0   10.0  01-07-2022   93.5\n",
      "9       yuzi  31.0  36.5   56.0   50.0  11-06-2016  142.5\n",
      "10   jasprit  28.0  24.0   67.0   51.0  23-01-2016  142.0\n",
      "        Name   Age  Test    ODI    T20         DoD  total\n",
      "0      rohit  34.0  43.0  227.0  119.0  23-06-2007  389.0\n",
      "1      rahul  29.0  40.0   38.0   55.0  26-12-2014  133.0\n",
      "3    shreyas  33.0  36.5   21.0   29.0  10-12-2017   86.5\n",
      "4    rishabh  24.0  25.0   18.0   39.0  01-02-2017   82.0\n",
      "5   ravindra  33.0  56.0  168.0   50.0  08-02-2009  274.0\n",
      "7       axar  33.0   4.0   38.0   15.0  15-06-2014   57.0\n",
      "8    harshal  31.0  36.5   47.0   10.0  01-07-2022   93.5\n",
      "9       yuzi  31.0  36.5   56.0   50.0  11-06-2016  142.5\n",
      "10   jasprit  28.0  24.0   67.0   51.0  23-01-2016  142.0\n"
     ]
    }
   ],
   "source": [
    "for x in new_df.index:\n",
    "    if new_df.loc[x, \"total\"]<50:\n",
    "        new_df.drop(x, inplace=True)\n",
    "        \n",
    "print(new_df)\n",
    "print(df)"
   ]
  },
  {
   "cell_type": "code",
   "execution_count": 54,
   "id": "8ea3befb",
   "metadata": {},
   "outputs": [
    {
     "name": "stdout",
     "output_type": "stream",
     "text": [
      "0     False\n",
      "1     False\n",
      "3     False\n",
      "4     False\n",
      "5     False\n",
      "7     False\n",
      "8     False\n",
      "9     False\n",
      "10    False\n",
      "dtype: bool\n"
     ]
    }
   ],
   "source": [
    "print(df.duplicated())"
   ]
  },
  {
   "cell_type": "code",
   "execution_count": 24,
   "id": "3d2fb7df",
   "metadata": {},
   "outputs": [],
   "source": [
    "df.drop_duplicates(inplace = True)"
   ]
  },
  {
   "cell_type": "code",
   "execution_count": 25,
   "id": "83ad96cc",
   "metadata": {},
   "outputs": [
    {
     "data": {
      "text/html": [
       "<div>\n",
       "<style scoped>\n",
       "    .dataframe tbody tr th:only-of-type {\n",
       "        vertical-align: middle;\n",
       "    }\n",
       "\n",
       "    .dataframe tbody tr th {\n",
       "        vertical-align: top;\n",
       "    }\n",
       "\n",
       "    .dataframe thead th {\n",
       "        text-align: right;\n",
       "    }\n",
       "</style>\n",
       "<table border=\"1\" class=\"dataframe\">\n",
       "  <thead>\n",
       "    <tr style=\"text-align: right;\">\n",
       "      <th></th>\n",
       "      <th>Age</th>\n",
       "      <th>Test</th>\n",
       "      <th>ODI</th>\n",
       "      <th>T20</th>\n",
       "      <th>total</th>\n",
       "    </tr>\n",
       "  </thead>\n",
       "  <tbody>\n",
       "    <tr>\n",
       "      <th>Age</th>\n",
       "      <td>1.000000</td>\n",
       "      <td>0.458940</td>\n",
       "      <td>0.672304</td>\n",
       "      <td>0.410860</td>\n",
       "      <td>0.614637</td>\n",
       "    </tr>\n",
       "    <tr>\n",
       "      <th>Test</th>\n",
       "      <td>0.458940</td>\n",
       "      <td>1.000000</td>\n",
       "      <td>0.782182</td>\n",
       "      <td>0.616165</td>\n",
       "      <td>0.834662</td>\n",
       "    </tr>\n",
       "    <tr>\n",
       "      <th>ODI</th>\n",
       "      <td>0.672304</td>\n",
       "      <td>0.782182</td>\n",
       "      <td>1.000000</td>\n",
       "      <td>0.834314</td>\n",
       "      <td>0.986128</td>\n",
       "    </tr>\n",
       "    <tr>\n",
       "      <th>T20</th>\n",
       "      <td>0.410860</td>\n",
       "      <td>0.616165</td>\n",
       "      <td>0.834314</td>\n",
       "      <td>1.000000</td>\n",
       "      <td>0.888733</td>\n",
       "    </tr>\n",
       "    <tr>\n",
       "      <th>total</th>\n",
       "      <td>0.614637</td>\n",
       "      <td>0.834662</td>\n",
       "      <td>0.986128</td>\n",
       "      <td>0.888733</td>\n",
       "      <td>1.000000</td>\n",
       "    </tr>\n",
       "  </tbody>\n",
       "</table>\n",
       "</div>"
      ],
      "text/plain": [
       "            Age      Test       ODI       T20     total\n",
       "Age    1.000000  0.458940  0.672304  0.410860  0.614637\n",
       "Test   0.458940  1.000000  0.782182  0.616165  0.834662\n",
       "ODI    0.672304  0.782182  1.000000  0.834314  0.986128\n",
       "T20    0.410860  0.616165  0.834314  1.000000  0.888733\n",
       "total  0.614637  0.834662  0.986128  0.888733  1.000000"
      ]
     },
     "execution_count": 25,
     "metadata": {},
     "output_type": "execute_result"
    }
   ],
   "source": [
    "df.corr()"
   ]
  },
  {
   "cell_type": "code",
   "execution_count": 28,
   "id": "ec62c682",
   "metadata": {},
   "outputs": [
    {
     "data": {
      "image/png": "[encoded data removed]",
      "text/plain": [
       "<Figure size 432x288 with 1 Axes>"
      ]
     },
     "metadata": {
      "needs_background": "light"
     },
     "output_type": "display_data"
    }
   ],
   "source": [
    "import matplotlib.pyplot as plt\n",
    "\n",
    "df.plot(kind = 'scatter', x = 'Age', y = 'total')\n",
    "\n",
    "plt.show()"
   ]
  },
  {
   "cell_type": "code",
   "execution_count": 55,
   "id": "40e86faf",
   "metadata": {},
   "outputs": [
    {
     "data": {
      "text/plain": [
       "<AxesSubplot:ylabel='Frequency'>"
      ]
     },
     "execution_count": 55,
     "metadata": {},
     "output_type": "execute_result"
    },
    {
     "data": {
      "image/png": "[encoded data removed]",
      "text/plain": [
       "<Figure size 432x288 with 1 Axes>"
      ]
     },
     "metadata": {
      "needs_background": "light"
     },
     "output_type": "display_data"
    }
   ],
   "source": [
    "df[\"Age\"].plot(kind = 'hist')"
   ]
  },
  {
   "cell_type": "code",
   "execution_count": 57,
   "id": "d093e078",
   "metadata": {},
   "outputs": [
    {
     "name": "stdout",
     "output_type": "stream",
     "text": [
      "   person_age  person_qualified\n",
      "0          50              True\n",
      "1          40             False\n",
      "2          30             False\n",
      "3          40             False\n",
      "4          20             False\n",
      "5          10              True\n",
      "6          30              True\n"
     ]
    }
   ],
   "source": [
    "data = {\n",
    "  \"age\": [50, 40, 30, 40, 20, 10, 30],\n",
    "  \"qualified\": [True, False, False, False, False, True, True]\n",
    "}\n",
    "person_data = pd.DataFrame(data)\n",
    "\n",
    "newdf = person_data.add_prefix(\"person_\")\n",
    "print(newdf)"
   ]
  },
  {
   "cell_type": "code",
   "execution_count": 32,
   "id": "cf2f1ffa",
   "metadata": {},
   "outputs": [
    {
     "data": {
      "text/plain": [
       "Name     11\n",
       "Age      11\n",
       "Test     11\n",
       "ODI      11\n",
       "T20      11\n",
       "DoD      11\n",
       "total    11\n",
       "dtype: int64"
      ]
     },
     "execution_count": 32,
     "metadata": {},
     "output_type": "execute_result"
    }
   ],
   "source": [
    "df.count()"
   ]
  },
  {
   "cell_type": "code",
   "execution_count": 33,
   "id": "c1719988",
   "metadata": {},
   "outputs": [
    {
     "data": {
      "text/html": [
       "<div>\n",
       "<style scoped>\n",
       "    .dataframe tbody tr th:only-of-type {\n",
       "        vertical-align: middle;\n",
       "    }\n",
       "\n",
       "    .dataframe tbody tr th {\n",
       "        vertical-align: top;\n",
       "    }\n",
       "\n",
       "    .dataframe thead th {\n",
       "        text-align: right;\n",
       "    }\n",
       "</style>\n",
       "<table border=\"1\" class=\"dataframe\">\n",
       "  <thead>\n",
       "    <tr style=\"text-align: right;\">\n",
       "      <th></th>\n",
       "      <th>Age</th>\n",
       "      <th>Test</th>\n",
       "      <th>ODI</th>\n",
       "      <th>T20</th>\n",
       "      <th>total</th>\n",
       "    </tr>\n",
       "  </thead>\n",
       "  <tbody>\n",
       "    <tr>\n",
       "      <th>Age</th>\n",
       "      <td>7.672727</td>\n",
       "      <td>32.10</td>\n",
       "      <td>162.463636</td>\n",
       "      <td>37.063636</td>\n",
       "      <td>231.627273</td>\n",
       "    </tr>\n",
       "    <tr>\n",
       "      <th>Test</th>\n",
       "      <td>32.100000</td>\n",
       "      <td>637.60</td>\n",
       "      <td>1723.050000</td>\n",
       "      <td>506.700000</td>\n",
       "      <td>2867.350000</td>\n",
       "    </tr>\n",
       "    <tr>\n",
       "      <th>ODI</th>\n",
       "      <td>162.463636</td>\n",
       "      <td>1723.05</td>\n",
       "      <td>7610.818182</td>\n",
       "      <td>2370.418182</td>\n",
       "      <td>11704.286364</td>\n",
       "    </tr>\n",
       "    <tr>\n",
       "      <th>T20</th>\n",
       "      <td>37.063636</td>\n",
       "      <td>506.70</td>\n",
       "      <td>2370.418182</td>\n",
       "      <td>1060.618182</td>\n",
       "      <td>3937.736364</td>\n",
       "    </tr>\n",
       "    <tr>\n",
       "      <th>total</th>\n",
       "      <td>231.627273</td>\n",
       "      <td>2867.35</td>\n",
       "      <td>11704.286364</td>\n",
       "      <td>3937.736364</td>\n",
       "      <td>18509.372727</td>\n",
       "    </tr>\n",
       "  </tbody>\n",
       "</table>\n",
       "</div>"
      ],
      "text/plain": [
       "              Age     Test           ODI          T20         total\n",
       "Age      7.672727    32.10    162.463636    37.063636    231.627273\n",
       "Test    32.100000   637.60   1723.050000   506.700000   2867.350000\n",
       "ODI    162.463636  1723.05   7610.818182  2370.418182  11704.286364\n",
       "T20     37.063636   506.70   2370.418182  1060.618182   3937.736364\n",
       "total  231.627273  2867.35  11704.286364  3937.736364  18509.372727"
      ]
     },
     "execution_count": 33,
     "metadata": {},
     "output_type": "execute_result"
    }
   ],
   "source": [
    "df.cov()"
   ]
  },
  {
   "cell_type": "code",
   "execution_count": 34,
   "id": "bb09fb1a",
   "metadata": {},
   "outputs": [
    {
     "data": {
      "text/html": [
       "<div>\n",
       "<style scoped>\n",
       "    .dataframe tbody tr th:only-of-type {\n",
       "        vertical-align: middle;\n",
       "    }\n",
       "\n",
       "    .dataframe tbody tr th {\n",
       "        vertical-align: top;\n",
       "    }\n",
       "\n",
       "    .dataframe thead th {\n",
       "        text-align: right;\n",
       "    }\n",
       "</style>\n",
       "<table border=\"1\" class=\"dataframe\">\n",
       "  <thead>\n",
       "    <tr style=\"text-align: right;\">\n",
       "      <th></th>\n",
       "      <th>Age</th>\n",
       "      <th>Test</th>\n",
       "      <th>ODI</th>\n",
       "      <th>T20</th>\n",
       "      <th>total</th>\n",
       "    </tr>\n",
       "  </thead>\n",
       "  <tbody>\n",
       "    <tr>\n",
       "      <th>count</th>\n",
       "      <td>11.000000</td>\n",
       "      <td>11.000000</td>\n",
       "      <td>11.000000</td>\n",
       "      <td>11.000000</td>\n",
       "      <td>11.000000</td>\n",
       "    </tr>\n",
       "    <tr>\n",
       "      <th>mean</th>\n",
       "      <td>30.454545</td>\n",
       "      <td>36.500000</td>\n",
       "      <td>86.272727</td>\n",
       "      <td>48.272727</td>\n",
       "      <td>171.045455</td>\n",
       "    </tr>\n",
       "    <tr>\n",
       "      <th>std</th>\n",
       "      <td>2.769969</td>\n",
       "      <td>25.250743</td>\n",
       "      <td>87.240003</td>\n",
       "      <td>32.567133</td>\n",
       "      <td>136.049156</td>\n",
       "    </tr>\n",
       "    <tr>\n",
       "      <th>min</th>\n",
       "      <td>24.000000</td>\n",
       "      <td>4.000000</td>\n",
       "      <td>15.000000</td>\n",
       "      <td>10.000000</td>\n",
       "      <td>41.000000</td>\n",
       "    </tr>\n",
       "    <tr>\n",
       "      <th>25%</th>\n",
       "      <td>29.500000</td>\n",
       "      <td>24.500000</td>\n",
       "      <td>29.500000</td>\n",
       "      <td>25.500000</td>\n",
       "      <td>84.250000</td>\n",
       "    </tr>\n",
       "    <tr>\n",
       "      <th>50%</th>\n",
       "      <td>31.000000</td>\n",
       "      <td>36.500000</td>\n",
       "      <td>47.000000</td>\n",
       "      <td>50.000000</td>\n",
       "      <td>133.000000</td>\n",
       "    </tr>\n",
       "    <tr>\n",
       "      <th>75%</th>\n",
       "      <td>32.000000</td>\n",
       "      <td>41.500000</td>\n",
       "      <td>117.500000</td>\n",
       "      <td>53.000000</td>\n",
       "      <td>208.250000</td>\n",
       "    </tr>\n",
       "    <tr>\n",
       "      <th>max</th>\n",
       "      <td>34.000000</td>\n",
       "      <td>96.000000</td>\n",
       "      <td>254.000000</td>\n",
       "      <td>119.000000</td>\n",
       "      <td>441.000000</td>\n",
       "    </tr>\n",
       "  </tbody>\n",
       "</table>\n",
       "</div>"
      ],
      "text/plain": [
       "             Age       Test         ODI         T20       total\n",
       "count  11.000000  11.000000   11.000000   11.000000   11.000000\n",
       "mean   30.454545  36.500000   86.272727   48.272727  171.045455\n",
       "std     2.769969  25.250743   87.240003   32.567133  136.049156\n",
       "min    24.000000   4.000000   15.000000   10.000000   41.000000\n",
       "25%    29.500000  24.500000   29.500000   25.500000   84.250000\n",
       "50%    31.000000  36.500000   47.000000   50.000000  133.000000\n",
       "75%    32.000000  41.500000  117.500000   53.000000  208.250000\n",
       "max    34.000000  96.000000  254.000000  119.000000  441.000000"
      ]
     },
     "execution_count": 34,
     "metadata": {},
     "output_type": "execute_result"
    }
   ],
   "source": [
    "df.describe()"
   ]
  },
  {
   "cell_type": "code",
   "execution_count": null,
   "id": "1f75f22a",
   "metadata": {},
   "outputs": [],
   "source": []
  },
  {
   "cell_type": "code",
   "execution_count": 37,
   "id": "06cf7fb1",
   "metadata": {},
   "outputs": [
    {
     "data": {
      "text/html": [
       "<div>\n",
       "<style scoped>\n",
       "    .dataframe tbody tr th:only-of-type {\n",
       "        vertical-align: middle;\n",
       "    }\n",
       "\n",
       "    .dataframe tbody tr th {\n",
       "        vertical-align: top;\n",
       "    }\n",
       "\n",
       "    .dataframe thead th {\n",
       "        text-align: right;\n",
       "    }\n",
       "</style>\n",
       "<table border=\"1\" class=\"dataframe\">\n",
       "  <thead>\n",
       "    <tr style=\"text-align: right;\">\n",
       "      <th></th>\n",
       "      <th>Name</th>\n",
       "      <th>Age</th>\n",
       "      <th>Test</th>\n",
       "      <th>ODI</th>\n",
       "      <th>T20</th>\n",
       "      <th>DoD</th>\n",
       "      <th>total</th>\n",
       "    </tr>\n",
       "  </thead>\n",
       "  <tbody>\n",
       "    <tr>\n",
       "      <th>0</th>\n",
       "      <td>False</td>\n",
       "      <td>False</td>\n",
       "      <td>False</td>\n",
       "      <td>False</td>\n",
       "      <td>False</td>\n",
       "      <td>False</td>\n",
       "      <td>False</td>\n",
       "    </tr>\n",
       "    <tr>\n",
       "      <th>1</th>\n",
       "      <td>False</td>\n",
       "      <td>False</td>\n",
       "      <td>False</td>\n",
       "      <td>False</td>\n",
       "      <td>False</td>\n",
       "      <td>False</td>\n",
       "      <td>False</td>\n",
       "    </tr>\n",
       "    <tr>\n",
       "      <th>2</th>\n",
       "      <td>False</td>\n",
       "      <td>False</td>\n",
       "      <td>False</td>\n",
       "      <td>False</td>\n",
       "      <td>False</td>\n",
       "      <td>False</td>\n",
       "      <td>False</td>\n",
       "    </tr>\n",
       "    <tr>\n",
       "      <th>3</th>\n",
       "      <td>False</td>\n",
       "      <td>False</td>\n",
       "      <td>False</td>\n",
       "      <td>False</td>\n",
       "      <td>False</td>\n",
       "      <td>False</td>\n",
       "      <td>False</td>\n",
       "    </tr>\n",
       "    <tr>\n",
       "      <th>4</th>\n",
       "      <td>False</td>\n",
       "      <td>False</td>\n",
       "      <td>False</td>\n",
       "      <td>False</td>\n",
       "      <td>False</td>\n",
       "      <td>False</td>\n",
       "      <td>False</td>\n",
       "    </tr>\n",
       "    <tr>\n",
       "      <th>5</th>\n",
       "      <td>False</td>\n",
       "      <td>False</td>\n",
       "      <td>False</td>\n",
       "      <td>False</td>\n",
       "      <td>False</td>\n",
       "      <td>False</td>\n",
       "      <td>False</td>\n",
       "    </tr>\n",
       "    <tr>\n",
       "      <th>6</th>\n",
       "      <td>False</td>\n",
       "      <td>False</td>\n",
       "      <td>False</td>\n",
       "      <td>False</td>\n",
       "      <td>False</td>\n",
       "      <td>False</td>\n",
       "      <td>False</td>\n",
       "    </tr>\n",
       "    <tr>\n",
       "      <th>7</th>\n",
       "      <td>False</td>\n",
       "      <td>False</td>\n",
       "      <td>False</td>\n",
       "      <td>False</td>\n",
       "      <td>False</td>\n",
       "      <td>False</td>\n",
       "      <td>False</td>\n",
       "    </tr>\n",
       "    <tr>\n",
       "      <th>8</th>\n",
       "      <td>False</td>\n",
       "      <td>False</td>\n",
       "      <td>False</td>\n",
       "      <td>False</td>\n",
       "      <td>False</td>\n",
       "      <td>False</td>\n",
       "      <td>False</td>\n",
       "    </tr>\n",
       "    <tr>\n",
       "      <th>9</th>\n",
       "      <td>False</td>\n",
       "      <td>False</td>\n",
       "      <td>False</td>\n",
       "      <td>False</td>\n",
       "      <td>False</td>\n",
       "      <td>False</td>\n",
       "      <td>False</td>\n",
       "    </tr>\n",
       "    <tr>\n",
       "      <th>10</th>\n",
       "      <td>False</td>\n",
       "      <td>False</td>\n",
       "      <td>False</td>\n",
       "      <td>False</td>\n",
       "      <td>False</td>\n",
       "      <td>False</td>\n",
       "      <td>False</td>\n",
       "    </tr>\n",
       "  </tbody>\n",
       "</table>\n",
       "</div>"
      ],
      "text/plain": [
       "     Name    Age   Test    ODI    T20    DoD  total\n",
       "0   False  False  False  False  False  False  False\n",
       "1   False  False  False  False  False  False  False\n",
       "2   False  False  False  False  False  False  False\n",
       "3   False  False  False  False  False  False  False\n",
       "4   False  False  False  False  False  False  False\n",
       "5   False  False  False  False  False  False  False\n",
       "6   False  False  False  False  False  False  False\n",
       "7   False  False  False  False  False  False  False\n",
       "8   False  False  False  False  False  False  False\n",
       "9   False  False  False  False  False  False  False\n",
       "10  False  False  False  False  False  False  False"
      ]
     },
     "execution_count": 37,
     "metadata": {},
     "output_type": "execute_result"
    }
   ],
   "source": [
    "df.isnull()"
   ]
  },
  {
   "cell_type": "code",
   "execution_count": 39,
   "id": "825de425",
   "metadata": {},
   "outputs": [
    {
     "name": "stdout",
     "output_type": "stream",
     "text": [
      "    name  qualified\n",
      "0  Sally       True\n",
      "1   Mary      False\n",
      "2   John      False\n"
     ]
    }
   ],
   "source": [
    "data = {\n",
    "  \"name\": [\"Sally\", \"Mary\", \"John\"],\n",
    "  \"age\": [50, 40, 30],\n",
    "  \"qualified\": [True, False, False]\n",
    "}\n",
    "\n",
    "data1 = pd.DataFrame(data)\n",
    "\n",
    "#Remove column:\n",
    "\n",
    "data1.pop('age')\n",
    "\n",
    "print(data1)"
   ]
  },
  {
   "cell_type": "code",
   "execution_count": 5,
   "id": "79726629",
   "metadata": {},
   "outputs": [
    {
     "name": "stdout",
     "output_type": "stream",
     "text": [
      "firstname\n",
      "0    Sally\n",
      "1     Mary\n",
      "2     John\n",
      "Name: firstname, dtype: object\n",
      "age\n",
      "0    50\n",
      "1    40\n",
      "2    30\n",
      "Name: age, dtype: int64\n"
     ]
    }
   ],
   "source": [
    "data = {\n",
    "  \"firstname\": [\"Sally\", \"Mary\", \"John\"],\n",
    "  \"age\": [50, 40, 30]\n",
    "}\n",
    "\n",
    "df = pd.DataFrame(data)\n",
    "\n",
    "for x, y in df.items():\n",
    "  print(x)\n",
    "  print(y)"
   ]
  },
  {
   "cell_type": "code",
   "execution_count": null,
   "id": "3c882c49",
   "metadata": {},
   "outputs": [],
   "source": []
  },
  {
   "cell_type": "code",
   "execution_count": null,
   "id": "669aa641",
   "metadata": {},
   "outputs": [],
   "source": []
  },
  {
   "cell_type": "code",
   "execution_count": null,
   "id": "6099ea7a",
   "metadata": {},
   "outputs": [],
   "source": []
  },
  {
   "cell_type": "code",
   "execution_count": null,
   "id": "a3d34b07",
   "metadata": {},
   "outputs": [],
   "source": []
  }
 ],
 "metadata": {
  "kernelspec": {
   "display_name": "Python 3 (ipykernel)",
   "language": "python",
   "name": "python3"
  },
  "language_info": {
   "codemirror_mode": {
    "name": "ipython",
    "version": 3
   },
   "file_extension": ".py",
   "mimetype": "text/x-python",
   "name": "python",
   "nbconvert_exporter": "python",
   "pygments_lexer": "ipython3",
   "version": "3.12.4"
  }
 },
 "nbformat": 4,
 "nbformat_minor": 5
}

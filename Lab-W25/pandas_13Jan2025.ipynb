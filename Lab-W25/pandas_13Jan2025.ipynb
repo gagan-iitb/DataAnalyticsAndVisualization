{
  "metadata": {
    "kernelspec": {
      "language": "python",
      "display_name": "Python 3",
      "name": "python3"
    },
    "language_info": {
      "name": "python",
      "version": "3.10.12",
      "mimetype": "text/x-python",
      "codemirror_mode": {
        "name": "ipython",
        "version": 3
      },
      "pygments_lexer": "ipython3",
      "nbconvert_exporter": "python",
      "file_extension": ".py"
    },
    "kaggle": {
      "accelerator": "none",
      "dataSources": [
        {
          "sourceId": 10330962,
          "sourceType": "datasetVersion",
          "datasetId": 6396756
        }
      ],
      "dockerImageVersionId": 30822,
      "isInternetEnabled": true,
      "language": "python",
      "sourceType": "notebook",
      "isGpuEnabled": false
    },
    "colab": {
      "provenance": []
    }
  },
  "nbformat_minor": 0,
  "nbformat": 4,
  "cells": [
    {
      "cell_type": "markdown",
      "source": [
        "**Pandas** is a Python library used for working with data sets.\n",
        "It has functions for analyzing, cleaning, exploring, and manipulating data."
      ],
      "metadata": {
        "id": "-i5yrE5ZqpVP"
      }
    },
    {
      "cell_type": "markdown",
      "source": [
        "**Installation of Pandas**"
      ],
      "metadata": {
        "id": "BHReBZqtqpVS"
      }
    },
    {
      "cell_type": "code",
      "source": [
        "!pip install pandas"
      ],
      "metadata": {
        "trusted": true,
        "execution": {
          "iopub.status.busy": "2024-12-30T10:10:27.307798Z",
          "iopub.execute_input": "2024-12-30T10:10:27.308053Z",
          "iopub.status.idle": "2024-12-30T10:10:33.137357Z",
          "shell.execute_reply.started": "2024-12-30T10:10:27.308018Z",
          "shell.execute_reply": "2024-12-30T10:10:33.135844Z"
        },
        "id": "MVpMjpUNqpVS",
        "colab": {
          "base_uri": "https://localhost:8080/"
        },
        "outputId": "0c88c8e0-7020-4c3a-e984-6ecf5a2f656e"
      },
      "outputs": [
        {
          "output_type": "stream",
          "name": "stdout",
          "text": [
            "Requirement already satisfied: pandas in /usr/local/lib/python3.10/dist-packages (2.2.2)\n",
            "Requirement already satisfied: numpy>=1.22.4 in /usr/local/lib/python3.10/dist-packages (from pandas) (1.26.4)\n",
            "Requirement already satisfied: python-dateutil>=2.8.2 in /usr/local/lib/python3.10/dist-packages (from pandas) (2.8.2)\n",
            "Requirement already satisfied: pytz>=2020.1 in /usr/local/lib/python3.10/dist-packages (from pandas) (2024.2)\n",
            "Requirement already satisfied: tzdata>=2022.7 in /usr/local/lib/python3.10/dist-packages (from pandas) (2024.2)\n",
            "Requirement already satisfied: six>=1.5 in /usr/local/lib/python3.10/dist-packages (from python-dateutil>=2.8.2->pandas) (1.17.0)\n"
          ]
        }
      ],
      "execution_count": null
    },
    {
      "cell_type": "markdown",
      "source": [
        "**Import Pandas**"
      ],
      "metadata": {
        "id": "bAvQwxslqpVU"
      }
    },
    {
      "cell_type": "code",
      "source": [
        "import pandas as pd #importing pandas and providing it with an alias\n"
      ],
      "metadata": {
        "_uuid": "8f2839f25d086af736a60e9eeb907d3b93b6e0e5",
        "_cell_guid": "b1076dfc-b9ad-4769-8c92-a6c4dae69d19",
        "trusted": true,
        "execution": {
          "iopub.status.busy": "2024-12-30T10:10:33.138980Z",
          "iopub.execute_input": "2024-12-30T10:10:33.139368Z",
          "iopub.status.idle": "2024-12-30T10:10:33.554836Z",
          "shell.execute_reply.started": "2024-12-30T10:10:33.139337Z",
          "shell.execute_reply": "2024-12-30T10:10:33.553653Z"
        },
        "id": "3enCSXZ-qpVU"
      },
      "outputs": [],
      "execution_count": null
    },
    {
      "cell_type": "markdown",
      "source": [
        "**Series**"
      ],
      "metadata": {
        "id": "XxpVrbTPqpVU"
      }
    },
    {
      "cell_type": "markdown",
      "source": [
        "A **Pandas Series** is like a column in a table.\n",
        "\n",
        "It is a *one-dimensional array* holding data of any type."
      ],
      "metadata": {
        "id": "M4WO8m72qpVU"
      }
    },
    {
      "cell_type": "code",
      "source": [
        "a = [1, 7, 2, 4, 9, 8]\n",
        "\n",
        "myNum = pd.Series(a)\n",
        "\n",
        "print(myNum)"
      ],
      "metadata": {
        "trusted": true,
        "execution": {
          "iopub.status.busy": "2024-12-30T10:10:33.555831Z",
          "iopub.execute_input": "2024-12-30T10:10:33.556261Z",
          "iopub.status.idle": "2024-12-30T10:10:33.565128Z",
          "shell.execute_reply.started": "2024-12-30T10:10:33.556223Z",
          "shell.execute_reply": "2024-12-30T10:10:33.563957Z"
        },
        "id": "iWLXuh3NqpVV",
        "colab": {
          "base_uri": "https://localhost:8080/"
        },
        "outputId": "2ff0c5a2-8515-40fb-dd2c-b44b8023ae8e"
      },
      "outputs": [
        {
          "output_type": "stream",
          "name": "stdout",
          "text": [
            "0    1\n",
            "1    7\n",
            "2    2\n",
            "3    4\n",
            "4    9\n",
            "5    8\n",
            "dtype: int64\n"
          ]
        }
      ],
      "execution_count": null
    },
    {
      "cell_type": "code",
      "source": [
        "print(myNum[0])\n",
        "print(myNum[5])"
      ],
      "metadata": {
        "trusted": true,
        "execution": {
          "iopub.status.busy": "2024-12-30T10:10:33.566219Z",
          "iopub.execute_input": "2024-12-30T10:10:33.566549Z",
          "iopub.status.idle": "2024-12-30T10:10:33.586096Z",
          "shell.execute_reply.started": "2024-12-30T10:10:33.566523Z",
          "shell.execute_reply": "2024-12-30T10:10:33.584583Z"
        },
        "id": "Sbk9e3hcqpVV",
        "colab": {
          "base_uri": "https://localhost:8080/"
        },
        "outputId": "de5fd8d4-2220-47e9-a87a-c9f57ea3a681"
      },
      "outputs": [
        {
          "output_type": "stream",
          "name": "stdout",
          "text": [
            "1\n",
            "8\n"
          ]
        }
      ],
      "execution_count": null
    },
    {
      "cell_type": "markdown",
      "source": [
        "**Labels**"
      ],
      "metadata": {
        "id": "YXug6Sp1qpVV"
      }
    },
    {
      "cell_type": "markdown",
      "source": [
        "With the *index* argument, you can name your own labels."
      ],
      "metadata": {
        "id": "VtWOE9-FqpVV"
      }
    },
    {
      "cell_type": "code",
      "source": [
        "a = [10, 17, 21]\n",
        "\n",
        "myNum = pd.Series(a, index = [\"a\", \"b\", \"c\"])\n",
        "\n",
        "print(myNum)"
      ],
      "metadata": {
        "trusted": true,
        "execution": {
          "iopub.status.busy": "2024-12-30T10:10:33.589472Z",
          "iopub.execute_input": "2024-12-30T10:10:33.589835Z",
          "iopub.status.idle": "2024-12-30T10:10:33.616759Z",
          "shell.execute_reply.started": "2024-12-30T10:10:33.589804Z",
          "shell.execute_reply": "2024-12-30T10:10:33.615354Z"
        },
        "id": "I_K6JvIaqpVW",
        "colab": {
          "base_uri": "https://localhost:8080/"
        },
        "outputId": "2df2173a-d7aa-4828-fe31-fff8f06a73d3"
      },
      "outputs": [
        {
          "output_type": "stream",
          "name": "stdout",
          "text": [
            "a    10\n",
            "b    17\n",
            "c    21\n",
            "dtype: int64\n"
          ]
        }
      ],
      "execution_count": null
    },
    {
      "cell_type": "code",
      "source": [
        "print(myNum[\"a\"])"
      ],
      "metadata": {
        "trusted": true,
        "execution": {
          "iopub.status.busy": "2024-12-30T10:10:33.618980Z",
          "iopub.execute_input": "2024-12-30T10:10:33.619354Z",
          "iopub.status.idle": "2024-12-30T10:10:33.641824Z",
          "shell.execute_reply.started": "2024-12-30T10:10:33.619320Z",
          "shell.execute_reply": "2024-12-30T10:10:33.640002Z"
        },
        "id": "BhSoNyzGqpVW",
        "colab": {
          "base_uri": "https://localhost:8080/"
        },
        "outputId": "289af33c-57d6-4432-c271-d8b12b6cb43f"
      },
      "outputs": [
        {
          "output_type": "stream",
          "name": "stdout",
          "text": [
            "10\n"
          ]
        }
      ],
      "execution_count": null
    },
    {
      "cell_type": "markdown",
      "source": [
        "**Key/Value** Objects as Series"
      ],
      "metadata": {
        "id": "YqJAo_efqpVW"
      }
    },
    {
      "cell_type": "code",
      "source": [
        "running = {\"day1\": 2, \"day2\": 3, \"day3\": 5}\n",
        "\n",
        "myRun = pd.Series(running)\n",
        "\n",
        "print(myRun)"
      ],
      "metadata": {
        "trusted": true,
        "execution": {
          "iopub.status.busy": "2024-12-30T10:10:33.642976Z",
          "iopub.execute_input": "2024-12-30T10:10:33.643277Z",
          "iopub.status.idle": "2024-12-30T10:10:33.661270Z",
          "shell.execute_reply.started": "2024-12-30T10:10:33.643252Z",
          "shell.execute_reply": "2024-12-30T10:10:33.659872Z"
        },
        "id": "6ZJeTyazqpVW",
        "colab": {
          "base_uri": "https://localhost:8080/"
        },
        "outputId": "242525e1-9f0f-49d5-ddf9-6a91c63bfd63"
      },
      "outputs": [
        {
          "output_type": "stream",
          "name": "stdout",
          "text": [
            "day1    2\n",
            "day2    3\n",
            "day3    5\n",
            "dtype: int64\n"
          ]
        }
      ],
      "execution_count": null
    },
    {
      "cell_type": "markdown",
      "source": [
        "**DataFrames**"
      ],
      "metadata": {
        "id": "SH76fNNcqpVX"
      }
    },
    {
      "cell_type": "markdown",
      "source": [
        "Data sets in Pandas are usually *multi-dimensional* tables, called **DataFrames**.\n",
        "\n",
        "Series is like a column, a DataFrame is the whole table."
      ],
      "metadata": {
        "id": "eUgn0fgOqpVX"
      }
    },
    {
      "cell_type": "code",
      "source": [
        "data = {\n",
        "  \"kilometers\": [4, 3, 5],\n",
        "  \"duration\": [50, 40, 45]\n",
        "}\n",
        "\n",
        "myRun = pd.DataFrame(data)\n",
        "\n",
        "print(myRun)"
      ],
      "metadata": {
        "trusted": true,
        "execution": {
          "iopub.status.busy": "2024-12-30T10:10:33.662490Z",
          "iopub.execute_input": "2024-12-30T10:10:33.662875Z",
          "iopub.status.idle": "2024-12-30T10:10:33.685812Z",
          "shell.execute_reply.started": "2024-12-30T10:10:33.662849Z",
          "shell.execute_reply": "2024-12-30T10:10:33.684496Z"
        },
        "id": "XgX31cJ2qpVX",
        "colab": {
          "base_uri": "https://localhost:8080/"
        },
        "outputId": "f55b9839-0916-4dfe-eeee-ee5e9407324e"
      },
      "outputs": [
        {
          "output_type": "stream",
          "name": "stdout",
          "text": [
            "   kilometers  duration\n",
            "0           4        50\n",
            "1           3        40\n",
            "2           5        45\n"
          ]
        }
      ],
      "execution_count": null
    },
    {
      "cell_type": "code",
      "source": [
        "print(myRun.info())       # Overview of the dataset\n",
        "print(myRun.describe())   # Summary statistics"
      ],
      "metadata": {
        "trusted": true,
        "execution": {
          "iopub.status.busy": "2024-12-30T10:10:33.687051Z",
          "iopub.execute_input": "2024-12-30T10:10:33.687319Z",
          "iopub.status.idle": "2024-12-30T10:10:33.737543Z",
          "shell.execute_reply.started": "2024-12-30T10:10:33.687298Z",
          "shell.execute_reply": "2024-12-30T10:10:33.736331Z"
        },
        "id": "dqMF-3HrqpVX",
        "colab": {
          "base_uri": "https://localhost:8080/"
        },
        "outputId": "6de33da1-e94e-4577-b101-f15aaead0f2c"
      },
      "outputs": [
        {
          "output_type": "stream",
          "name": "stdout",
          "text": [
            "<class 'pandas.core.frame.DataFrame'>\n",
            "RangeIndex: 3 entries, 0 to 2\n",
            "Data columns (total 2 columns):\n",
            " #   Column      Non-Null Count  Dtype\n",
            "---  ------      --------------  -----\n",
            " 0   kilometers  3 non-null      int64\n",
            " 1   duration    3 non-null      int64\n",
            "dtypes: int64(2)\n",
            "memory usage: 176.0 bytes\n",
            "None\n",
            "       kilometers  duration\n",
            "count         3.0       3.0\n",
            "mean          4.0      45.0\n",
            "std           1.0       5.0\n",
            "min           3.0      40.0\n",
            "25%           3.5      42.5\n",
            "50%           4.0      45.0\n",
            "75%           4.5      47.5\n",
            "max           5.0      50.0\n"
          ]
        }
      ],
      "execution_count": null
    },
    {
      "cell_type": "code",
      "source": [
        "data = {'Name': ['Alice', 'Bob', 'Charlie'],\n",
        "        'Age': [25, 30, 35]}\n",
        "df = pd.DataFrame(data)\n",
        "print(df)"
      ],
      "metadata": {
        "trusted": true,
        "execution": {
          "iopub.status.busy": "2024-12-30T10:10:33.738754Z",
          "iopub.execute_input": "2024-12-30T10:10:33.739106Z",
          "iopub.status.idle": "2024-12-30T10:10:33.758575Z",
          "shell.execute_reply.started": "2024-12-30T10:10:33.739079Z",
          "shell.execute_reply": "2024-12-30T10:10:33.757464Z"
        },
        "id": "w4kvgvqVqpVX",
        "colab": {
          "base_uri": "https://localhost:8080/"
        },
        "outputId": "51ead3e2-95da-4eac-d9f3-e5525c9c53f1"
      },
      "outputs": [
        {
          "output_type": "stream",
          "name": "stdout",
          "text": [
            "      Name  Age\n",
            "0    Alice   25\n",
            "1      Bob   30\n",
            "2  Charlie   35\n"
          ]
        }
      ],
      "execution_count": null
    },
    {
      "cell_type": "markdown",
      "source": [
        "**Loading Data from a File**"
      ],
      "metadata": {
        "id": "uT7e7aszqpVX"
      }
    },
    {
      "cell_type": "code",
      "source": [
        "mydf = pd.read_csv('/content/names.csv')"
      ],
      "metadata": {
        "trusted": true,
        "execution": {
          "iopub.status.busy": "2024-12-30T10:10:33.759647Z",
          "iopub.execute_input": "2024-12-30T10:10:33.760043Z",
          "iopub.status.idle": "2024-12-30T10:10:33.782267Z",
          "shell.execute_reply.started": "2024-12-30T10:10:33.760006Z",
          "shell.execute_reply": "2024-12-30T10:10:33.781004Z"
        },
        "id": "ifY4rGOFqpVX"
      },
      "outputs": [],
      "execution_count": null
    },
    {
      "cell_type": "markdown",
      "source": [
        "Download CSV - [names.csv](https://github.com/gagan-iitb/DataAnalyticsAndVisualization/blob/main/Lab-W25/dataset/names.csv)"
      ],
      "metadata": {
        "id": "6BRQ_OPIAjgE"
      }
    },
    {
      "cell_type": "code",
      "source": [
        "print(mydf.head())  # Display the first 5 rows"
      ],
      "metadata": {
        "trusted": true,
        "execution": {
          "iopub.status.busy": "2024-12-30T10:10:33.783702Z",
          "iopub.execute_input": "2024-12-30T10:10:33.784003Z",
          "iopub.status.idle": "2024-12-30T10:10:33.791200Z",
          "shell.execute_reply.started": "2024-12-30T10:10:33.783975Z",
          "shell.execute_reply": "2024-12-30T10:10:33.789984Z"
        },
        "id": "B03Bw17cqpVY",
        "colab": {
          "base_uri": "https://localhost:8080/"
        },
        "outputId": "f193e6fb-07ca-4c05-a7b2-5205deebf8d2"
      },
      "outputs": [
        {
          "output_type": "stream",
          "name": "stdout",
          "text": [
            "      Name  Age\n",
            "0    Alice   25\n",
            "1      Bob   30\n",
            "2  Charlie   35\n",
            "3    James   23\n",
            "4     John   26\n"
          ]
        }
      ],
      "execution_count": null
    },
    {
      "cell_type": "code",
      "source": [
        "print(mydf.head(7))  # Display the first 7 rows"
      ],
      "metadata": {
        "trusted": true,
        "execution": {
          "iopub.status.busy": "2024-12-30T10:10:33.792106Z",
          "iopub.execute_input": "2024-12-30T10:10:33.792515Z",
          "iopub.status.idle": "2024-12-30T10:10:33.811524Z",
          "shell.execute_reply.started": "2024-12-30T10:10:33.792481Z",
          "shell.execute_reply": "2024-12-30T10:10:33.810223Z"
        },
        "id": "m5MlGVRgqpVY",
        "colab": {
          "base_uri": "https://localhost:8080/"
        },
        "outputId": "73b90d0e-4d9e-4e1d-fbb7-869b447562d4"
      },
      "outputs": [
        {
          "output_type": "stream",
          "name": "stdout",
          "text": [
            "      Name  Age\n",
            "0    Alice   25\n",
            "1      Bob   30\n",
            "2  Charlie   35\n",
            "3    James   23\n",
            "4     John   26\n",
            "5  William   28\n",
            "6    Caleb   25\n"
          ]
        }
      ],
      "execution_count": null
    },
    {
      "cell_type": "code",
      "source": [
        "print(mydf['Name'])  # Single column"
      ],
      "metadata": {
        "trusted": true,
        "execution": {
          "iopub.status.busy": "2024-12-30T10:10:33.812808Z",
          "iopub.execute_input": "2024-12-30T10:10:33.813148Z",
          "iopub.status.idle": "2024-12-30T10:10:33.833046Z",
          "shell.execute_reply.started": "2024-12-30T10:10:33.813121Z",
          "shell.execute_reply": "2024-12-30T10:10:33.831960Z"
        },
        "id": "nUEPdGYHqpVY",
        "colab": {
          "base_uri": "https://localhost:8080/"
        },
        "outputId": "41815685-f7df-4788-803a-f49489fb5896"
      },
      "outputs": [
        {
          "output_type": "stream",
          "name": "stdout",
          "text": [
            "0      Alice\n",
            "1        Bob\n",
            "2    Charlie\n",
            "3      James\n",
            "4       John\n",
            "5    William\n",
            "6      Caleb\n",
            "7      Helen\n",
            "Name: Name, dtype: object\n"
          ]
        }
      ],
      "execution_count": null
    },
    {
      "cell_type": "code",
      "source": [
        "print(mydf[['Age', 'Name']])  # Multiple columns"
      ],
      "metadata": {
        "trusted": true,
        "execution": {
          "iopub.status.busy": "2024-12-30T10:10:33.834190Z",
          "iopub.execute_input": "2024-12-30T10:10:33.834496Z",
          "iopub.status.idle": "2024-12-30T10:10:33.860046Z",
          "shell.execute_reply.started": "2024-12-30T10:10:33.834471Z",
          "shell.execute_reply": "2024-12-30T10:10:33.858802Z"
        },
        "id": "X3Z57bvYqpVY",
        "colab": {
          "base_uri": "https://localhost:8080/"
        },
        "outputId": "38066ea0-85a8-4cd4-a042-d31f75b194f4"
      },
      "outputs": [
        {
          "output_type": "stream",
          "name": "stdout",
          "text": [
            "   Age     Name\n",
            "0   25    Alice\n",
            "1   30      Bob\n",
            "2   35  Charlie\n",
            "3   23    James\n",
            "4   26     John\n",
            "5   28  William\n",
            "6   25    Caleb\n",
            "7   30    Helen\n"
          ]
        }
      ],
      "execution_count": null
    },
    {
      "cell_type": "markdown",
      "source": [
        "Filtering Rows"
      ],
      "metadata": {
        "id": "M925bozzqpVY"
      }
    },
    {
      "cell_type": "code",
      "source": [
        "print(mydf[mydf['Age'] > 25])"
      ],
      "metadata": {
        "trusted": true,
        "execution": {
          "iopub.status.busy": "2024-12-30T10:10:33.860923Z",
          "iopub.execute_input": "2024-12-30T10:10:33.861258Z",
          "iopub.status.idle": "2024-12-30T10:10:33.879823Z",
          "shell.execute_reply.started": "2024-12-30T10:10:33.861232Z",
          "shell.execute_reply": "2024-12-30T10:10:33.878623Z"
        },
        "id": "dZcfeIFMqpVY",
        "colab": {
          "base_uri": "https://localhost:8080/"
        },
        "outputId": "8690998f-8cd6-43d9-ba8d-8eb76c10a56a"
      },
      "outputs": [
        {
          "output_type": "stream",
          "name": "stdout",
          "text": [
            "      Name  Age\n",
            "1      Bob   30\n",
            "2  Charlie   35\n",
            "4     John   26\n",
            "5  William   28\n",
            "7    Helen   30\n"
          ]
        }
      ],
      "execution_count": null
    },
    {
      "cell_type": "markdown",
      "source": [
        "Adding/Updating Columns"
      ],
      "metadata": {
        "id": "adXqIC99qpVZ"
      }
    },
    {
      "cell_type": "code",
      "source": [
        "mydf['Salary'] = [50000, 60000, 50000, 50000, 30000, 70000, 90000, 80000]\n",
        "print(mydf)"
      ],
      "metadata": {
        "trusted": true,
        "execution": {
          "iopub.status.busy": "2024-12-30T10:10:33.883921Z",
          "iopub.execute_input": "2024-12-30T10:10:33.884295Z",
          "iopub.status.idle": "2024-12-30T10:10:33.903892Z",
          "shell.execute_reply.started": "2024-12-30T10:10:33.884253Z",
          "shell.execute_reply": "2024-12-30T10:10:33.902717Z"
        },
        "id": "uxDfOP3jqpVZ",
        "colab": {
          "base_uri": "https://localhost:8080/"
        },
        "outputId": "29ec9a57-a6fb-4cfd-b16f-962c959ec96f"
      },
      "outputs": [
        {
          "output_type": "stream",
          "name": "stdout",
          "text": [
            "      Name  Age  Salary\n",
            "0    Alice   25   50000\n",
            "1      Bob   30   60000\n",
            "2  Charlie   35   50000\n",
            "3    James   23   50000\n",
            "4     John   26   30000\n",
            "5  William   28   70000\n",
            "6    Caleb   25   90000\n",
            "7    Helen   30   80000\n"
          ]
        }
      ],
      "execution_count": null
    },
    {
      "cell_type": "markdown",
      "source": [
        "**Saving to a File**"
      ],
      "metadata": {
        "id": "1BRptwoQqpVZ"
      }
    },
    {
      "cell_type": "code",
      "source": [
        "mydf.to_csv('myDataframe.csv', index=False)"
      ],
      "metadata": {
        "trusted": true,
        "execution": {
          "iopub.status.busy": "2024-12-30T10:10:33.905812Z",
          "iopub.execute_input": "2024-12-30T10:10:33.906127Z",
          "iopub.status.idle": "2024-12-30T10:10:33.925414Z",
          "shell.execute_reply.started": "2024-12-30T10:10:33.906102Z",
          "shell.execute_reply": "2024-12-30T10:10:33.924311Z"
        },
        "id": "ch1uQ5PWqpVZ"
      },
      "outputs": [],
      "execution_count": null
    },
    {
      "cell_type": "markdown",
      "source": [
        "Dropping Columns"
      ],
      "metadata": {
        "id": "6upNin4YqpVZ"
      }
    },
    {
      "cell_type": "code",
      "source": [
        "mydf = mydf.drop('Salary', axis=1)  # Drop column"
      ],
      "metadata": {
        "trusted": true,
        "execution": {
          "iopub.status.busy": "2024-12-30T10:10:33.926620Z",
          "iopub.execute_input": "2024-12-30T10:10:33.927018Z",
          "iopub.status.idle": "2024-12-30T10:10:33.944458Z",
          "shell.execute_reply.started": "2024-12-30T10:10:33.926979Z",
          "shell.execute_reply": "2024-12-30T10:10:33.943316Z"
        },
        "id": "hy_LyZ-6qpVZ"
      },
      "outputs": [],
      "execution_count": null
    },
    {
      "cell_type": "code",
      "source": [
        "print(mydf)"
      ],
      "metadata": {
        "trusted": true,
        "execution": {
          "iopub.status.busy": "2024-12-30T10:10:33.945432Z",
          "iopub.execute_input": "2024-12-30T10:10:33.945738Z",
          "iopub.status.idle": "2024-12-30T10:10:33.964510Z",
          "shell.execute_reply.started": "2024-12-30T10:10:33.945713Z",
          "shell.execute_reply": "2024-12-30T10:10:33.963307Z"
        },
        "id": "4gAUS9gXqpVa",
        "colab": {
          "base_uri": "https://localhost:8080/"
        },
        "outputId": "01237a7c-f4b9-490f-ba0b-3801a7ce53b6"
      },
      "outputs": [
        {
          "output_type": "stream",
          "name": "stdout",
          "text": [
            "      Name  Age\n",
            "0    Alice   25\n",
            "1      Bob   30\n",
            "2  Charlie   35\n",
            "3    James   23\n",
            "4     John   26\n",
            "5  William   28\n",
            "6    Caleb   25\n",
            "7    Helen   30\n"
          ]
        }
      ],
      "execution_count": null
    },
    {
      "cell_type": "code",
      "source": [
        "#Create/Append two new columns named Marks, Department in mydf and display it"
      ],
      "metadata": {
        "trusted": true,
        "execution": {
          "iopub.status.busy": "2024-12-30T10:10:33.965432Z",
          "iopub.execute_input": "2024-12-30T10:10:33.965825Z",
          "iopub.status.idle": "2024-12-30T10:10:33.983682Z",
          "shell.execute_reply.started": "2024-12-30T10:10:33.965783Z",
          "shell.execute_reply": "2024-12-30T10:10:33.982395Z"
        },
        "id": "Nob5y4D8qpVa"
      },
      "outputs": [],
      "execution_count": null
    },
    {
      "cell_type": "code",
      "source": [
        "#Save the newly create mydf to a csv file. (Name of file = myDataframe_YourIDNumber.csv)"
      ],
      "metadata": {
        "trusted": true,
        "execution": {
          "iopub.status.busy": "2024-12-30T10:10:33.984862Z",
          "iopub.execute_input": "2024-12-30T10:10:33.985213Z",
          "iopub.status.idle": "2024-12-30T10:10:34.002560Z",
          "shell.execute_reply.started": "2024-12-30T10:10:33.985187Z",
          "shell.execute_reply": "2024-12-30T10:10:34.001036Z"
        },
        "id": "wj7BK-ubqpVa"
      },
      "outputs": [],
      "execution_count": null
    },
    {
      "cell_type": "code",
      "source": [
        "#Filter all the rows where Age falls between 25-30."
      ],
      "metadata": {
        "trusted": true,
        "execution": {
          "iopub.status.busy": "2024-12-30T10:10:34.004131Z",
          "iopub.execute_input": "2024-12-30T10:10:34.004943Z",
          "iopub.status.idle": "2024-12-30T10:10:34.023434Z",
          "shell.execute_reply.started": "2024-12-30T10:10:34.004895Z",
          "shell.execute_reply": "2024-12-30T10:10:34.022214Z"
        },
        "id": "1rF63QhpqpVa"
      },
      "outputs": [],
      "execution_count": null
    },
    {
      "cell_type": "markdown",
      "source": [
        "Unique() function"
      ],
      "metadata": {
        "id": "zQoTukGcqpVa"
      }
    },
    {
      "cell_type": "code",
      "source": [
        "mydf.Age.unique()"
      ],
      "metadata": {
        "trusted": true,
        "execution": {
          "iopub.status.busy": "2024-12-30T10:10:34.024606Z",
          "iopub.execute_input": "2024-12-30T10:10:34.025052Z",
          "iopub.status.idle": "2024-12-30T10:10:34.046710Z",
          "shell.execute_reply.started": "2024-12-30T10:10:34.025007Z",
          "shell.execute_reply": "2024-12-30T10:10:34.045605Z"
        },
        "id": "GR3LGztiqpVb",
        "colab": {
          "base_uri": "https://localhost:8080/"
        },
        "outputId": "cc7f2fac-e5dd-4d26-c829-23f3e578208c"
      },
      "outputs": [
        {
          "output_type": "execute_result",
          "data": {
            "text/plain": [
              "array([25, 30, 35, 23, 26, 28])"
            ]
          },
          "metadata": {},
          "execution_count": 149
        }
      ],
      "execution_count": null
    },
    {
      "cell_type": "markdown",
      "source": [
        "Sorting"
      ],
      "metadata": {
        "id": "s6ivfhZzqpVb"
      }
    },
    {
      "cell_type": "code",
      "source": [
        "mydf.sort_values(by=['Age'])"
      ],
      "metadata": {
        "trusted": true,
        "execution": {
          "iopub.status.busy": "2024-12-30T10:10:34.047976Z",
          "iopub.execute_input": "2024-12-30T10:10:34.048366Z",
          "iopub.status.idle": "2024-12-30T10:10:34.069164Z",
          "shell.execute_reply.started": "2024-12-30T10:10:34.048318Z",
          "shell.execute_reply": "2024-12-30T10:10:34.068071Z"
        },
        "id": "_e5CpC8FqpVb",
        "colab": {
          "base_uri": "https://localhost:8080/",
          "height": 297
        },
        "outputId": "850cef45-2d9a-470b-eeb1-12b137dbee78"
      },
      "outputs": [
        {
          "output_type": "execute_result",
          "data": {
            "text/plain": [
              "      Name  Age\n",
              "3    James   23\n",
              "0    Alice   25\n",
              "6    Caleb   25\n",
              "4     John   26\n",
              "5  William   28\n",
              "1      Bob   30\n",
              "7    Helen   30\n",
              "2  Charlie   35"
            ],
            "text/html": [
              "\n",
              "  <div id=\"df-4be2da95-15a8-48f5-bbff-2e13ab3265ed\" class=\"colab-df-container\">\n",
              "    <div>\n",
              "<style scoped>\n",
              "    .dataframe tbody tr th:only-of-type {\n",
              "        vertical-align: middle;\n",
              "    }\n",
              "\n",
              "    .dataframe tbody tr th {\n",
              "        vertical-align: top;\n",
              "    }\n",
              "\n",
              "    .dataframe thead th {\n",
              "        text-align: right;\n",
              "    }\n",
              "</style>\n",
              "<table border=\"1\" class=\"dataframe\">\n",
              "  <thead>\n",
              "    <tr style=\"text-align: right;\">\n",
              "      <th></th>\n",
              "      <th>Name</th>\n",
              "      <th>Age</th>\n",
              "    </tr>\n",
              "  </thead>\n",
              "  <tbody>\n",
              "    <tr>\n",
              "      <th>3</th>\n",
              "      <td>James</td>\n",
              "      <td>23</td>\n",
              "    </tr>\n",
              "    <tr>\n",
              "      <th>0</th>\n",
              "      <td>Alice</td>\n",
              "      <td>25</td>\n",
              "    </tr>\n",
              "    <tr>\n",
              "      <th>6</th>\n",
              "      <td>Caleb</td>\n",
              "      <td>25</td>\n",
              "    </tr>\n",
              "    <tr>\n",
              "      <th>4</th>\n",
              "      <td>John</td>\n",
              "      <td>26</td>\n",
              "    </tr>\n",
              "    <tr>\n",
              "      <th>5</th>\n",
              "      <td>William</td>\n",
              "      <td>28</td>\n",
              "    </tr>\n",
              "    <tr>\n",
              "      <th>1</th>\n",
              "      <td>Bob</td>\n",
              "      <td>30</td>\n",
              "    </tr>\n",
              "    <tr>\n",
              "      <th>7</th>\n",
              "      <td>Helen</td>\n",
              "      <td>30</td>\n",
              "    </tr>\n",
              "    <tr>\n",
              "      <th>2</th>\n",
              "      <td>Charlie</td>\n",
              "      <td>35</td>\n",
              "    </tr>\n",
              "  </tbody>\n",
              "</table>\n",
              "</div>\n",
              "    <div class=\"colab-df-buttons\">\n",
              "\n",
              "  <div class=\"colab-df-container\">\n",
              "    <button class=\"colab-df-convert\" onclick=\"convertToInteractive('df-4be2da95-15a8-48f5-bbff-2e13ab3265ed')\"\n",
              "            title=\"Convert this dataframe to an interactive table.\"\n",
              "            style=\"display:none;\">\n",
              "\n",
              "  <svg xmlns=\"http://www.w3.org/2000/svg\" height=\"24px\" viewBox=\"0 -960 960 960\">\n",
              "    <path d=\"M120-120v-720h720v720H120Zm60-500h600v-160H180v160Zm220 220h160v-160H400v160Zm0 220h160v-160H400v160ZM180-400h160v-160H180v160Zm440 0h160v-160H620v160ZM180-180h160v-160H180v160Zm440 0h160v-160H620v160Z\"/>\n",
              "  </svg>\n",
              "    </button>\n",
              "\n",
              "  <style>\n",
              "    .colab-df-container {\n",
              "      display:flex;\n",
              "      gap: 12px;\n",
              "    }\n",
              "\n",
              "    .colab-df-convert {\n",
              "      background-color: #E8F0FE;\n",
              "      border: none;\n",
              "      border-radius: 50%;\n",
              "      cursor: pointer;\n",
              "      display: none;\n",
              "      fill: #1967D2;\n",
              "      height: 32px;\n",
              "      padding: 0 0 0 0;\n",
              "      width: 32px;\n",
              "    }\n",
              "\n",
              "    .colab-df-convert:hover {\n",
              "      background-color: #E2EBFA;\n",
              "      box-shadow: 0px 1px 2px rgba(60, 64, 67, 0.3), 0px 1px 3px 1px rgba(60, 64, 67, 0.15);\n",
              "      fill: #174EA6;\n",
              "    }\n",
              "\n",
              "    .colab-df-buttons div {\n",
              "      margin-bottom: 4px;\n",
              "    }\n",
              "\n",
              "    [theme=dark] .colab-df-convert {\n",
              "      background-color: #3B4455;\n",
              "      fill: #D2E3FC;\n",
              "    }\n",
              "\n",
              "    [theme=dark] .colab-df-convert:hover {\n",
              "      background-color: #434B5C;\n",
              "      box-shadow: 0px 1px 3px 1px rgba(0, 0, 0, 0.15);\n",
              "      filter: drop-shadow(0px 1px 2px rgba(0, 0, 0, 0.3));\n",
              "      fill: #FFFFFF;\n",
              "    }\n",
              "  </style>\n",
              "\n",
              "    <script>\n",
              "      const buttonEl =\n",
              "        document.querySelector('#df-4be2da95-15a8-48f5-bbff-2e13ab3265ed button.colab-df-convert');\n",
              "      buttonEl.style.display =\n",
              "        google.colab.kernel.accessAllowed ? 'block' : 'none';\n",
              "\n",
              "      async function convertToInteractive(key) {\n",
              "        const element = document.querySelector('#df-4be2da95-15a8-48f5-bbff-2e13ab3265ed');\n",
              "        const dataTable =\n",
              "          await google.colab.kernel.invokeFunction('convertToInteractive',\n",
              "                                                    [key], {});\n",
              "        if (!dataTable) return;\n",
              "\n",
              "        const docLinkHtml = 'Like what you see? Visit the ' +\n",
              "          '<a target=\"_blank\" href=https://colab.research.google.com/notebooks/data_table.ipynb>data table notebook</a>'\n",
              "          + ' to learn more about interactive tables.';\n",
              "        element.innerHTML = '';\n",
              "        dataTable['output_type'] = 'display_data';\n",
              "        await google.colab.output.renderOutput(dataTable, element);\n",
              "        const docLink = document.createElement('div');\n",
              "        docLink.innerHTML = docLinkHtml;\n",
              "        element.appendChild(docLink);\n",
              "      }\n",
              "    </script>\n",
              "  </div>\n",
              "\n",
              "\n",
              "<div id=\"df-d5ad2753-8a8a-43b6-8823-6094b4223889\">\n",
              "  <button class=\"colab-df-quickchart\" onclick=\"quickchart('df-d5ad2753-8a8a-43b6-8823-6094b4223889')\"\n",
              "            title=\"Suggest charts\"\n",
              "            style=\"display:none;\">\n",
              "\n",
              "<svg xmlns=\"http://www.w3.org/2000/svg\" height=\"24px\"viewBox=\"0 0 24 24\"\n",
              "     width=\"24px\">\n",
              "    <g>\n",
              "        <path d=\"M19 3H5c-1.1 0-2 .9-2 2v14c0 1.1.9 2 2 2h14c1.1 0 2-.9 2-2V5c0-1.1-.9-2-2-2zM9 17H7v-7h2v7zm4 0h-2V7h2v10zm4 0h-2v-4h2v4z\"/>\n",
              "    </g>\n",
              "</svg>\n",
              "  </button>\n",
              "\n",
              "<style>\n",
              "  .colab-df-quickchart {\n",
              "      --bg-color: #E8F0FE;\n",
              "      --fill-color: #1967D2;\n",
              "      --hover-bg-color: #E2EBFA;\n",
              "      --hover-fill-color: #174EA6;\n",
              "      --disabled-fill-color: #AAA;\n",
              "      --disabled-bg-color: #DDD;\n",
              "  }\n",
              "\n",
              "  [theme=dark] .colab-df-quickchart {\n",
              "      --bg-color: #3B4455;\n",
              "      --fill-color: #D2E3FC;\n",
              "      --hover-bg-color: #434B5C;\n",
              "      --hover-fill-color: #FFFFFF;\n",
              "      --disabled-bg-color: #3B4455;\n",
              "      --disabled-fill-color: #666;\n",
              "  }\n",
              "\n",
              "  .colab-df-quickchart {\n",
              "    background-color: var(--bg-color);\n",
              "    border: none;\n",
              "    border-radius: 50%;\n",
              "    cursor: pointer;\n",
              "    display: none;\n",
              "    fill: var(--fill-color);\n",
              "    height: 32px;\n",
              "    padding: 0;\n",
              "    width: 32px;\n",
              "  }\n",
              "\n",
              "  .colab-df-quickchart:hover {\n",
              "    background-color: var(--hover-bg-color);\n",
              "    box-shadow: 0 1px 2px rgba(60, 64, 67, 0.3), 0 1px 3px 1px rgba(60, 64, 67, 0.15);\n",
              "    fill: var(--button-hover-fill-color);\n",
              "  }\n",
              "\n",
              "  .colab-df-quickchart-complete:disabled,\n",
              "  .colab-df-quickchart-complete:disabled:hover {\n",
              "    background-color: var(--disabled-bg-color);\n",
              "    fill: var(--disabled-fill-color);\n",
              "    box-shadow: none;\n",
              "  }\n",
              "\n",
              "  .colab-df-spinner {\n",
              "    border: 2px solid var(--fill-color);\n",
              "    border-color: transparent;\n",
              "    border-bottom-color: var(--fill-color);\n",
              "    animation:\n",
              "      spin 1s steps(1) infinite;\n",
              "  }\n",
              "\n",
              "  @keyframes spin {\n",
              "    0% {\n",
              "      border-color: transparent;\n",
              "      border-bottom-color: var(--fill-color);\n",
              "      border-left-color: var(--fill-color);\n",
              "    }\n",
              "    20% {\n",
              "      border-color: transparent;\n",
              "      border-left-color: var(--fill-color);\n",
              "      border-top-color: var(--fill-color);\n",
              "    }\n",
              "    30% {\n",
              "      border-color: transparent;\n",
              "      border-left-color: var(--fill-color);\n",
              "      border-top-color: var(--fill-color);\n",
              "      border-right-color: var(--fill-color);\n",
              "    }\n",
              "    40% {\n",
              "      border-color: transparent;\n",
              "      border-right-color: var(--fill-color);\n",
              "      border-top-color: var(--fill-color);\n",
              "    }\n",
              "    60% {\n",
              "      border-color: transparent;\n",
              "      border-right-color: var(--fill-color);\n",
              "    }\n",
              "    80% {\n",
              "      border-color: transparent;\n",
              "      border-right-color: var(--fill-color);\n",
              "      border-bottom-color: var(--fill-color);\n",
              "    }\n",
              "    90% {\n",
              "      border-color: transparent;\n",
              "      border-bottom-color: var(--fill-color);\n",
              "    }\n",
              "  }\n",
              "</style>\n",
              "\n",
              "  <script>\n",
              "    async function quickchart(key) {\n",
              "      const quickchartButtonEl =\n",
              "        document.querySelector('#' + key + ' button');\n",
              "      quickchartButtonEl.disabled = true;  // To prevent multiple clicks.\n",
              "      quickchartButtonEl.classList.add('colab-df-spinner');\n",
              "      try {\n",
              "        const charts = await google.colab.kernel.invokeFunction(\n",
              "            'suggestCharts', [key], {});\n",
              "      } catch (error) {\n",
              "        console.error('Error during call to suggestCharts:', error);\n",
              "      }\n",
              "      quickchartButtonEl.classList.remove('colab-df-spinner');\n",
              "      quickchartButtonEl.classList.add('colab-df-quickchart-complete');\n",
              "    }\n",
              "    (() => {\n",
              "      let quickchartButtonEl =\n",
              "        document.querySelector('#df-d5ad2753-8a8a-43b6-8823-6094b4223889 button');\n",
              "      quickchartButtonEl.style.display =\n",
              "        google.colab.kernel.accessAllowed ? 'block' : 'none';\n",
              "    })();\n",
              "  </script>\n",
              "</div>\n",
              "\n",
              "    </div>\n",
              "  </div>\n"
            ],
            "application/vnd.google.colaboratory.intrinsic+json": {
              "type": "dataframe",
              "summary": "{\n  \"name\": \"mydf\",\n  \"rows\": 8,\n  \"fields\": [\n    {\n      \"column\": \"Name\",\n      \"properties\": {\n        \"dtype\": \"string\",\n        \"num_unique_values\": 8,\n        \"samples\": [\n          \"Alice\",\n          \"Bob\",\n          \"James\"\n        ],\n        \"semantic_type\": \"\",\n        \"description\": \"\"\n      }\n    },\n    {\n      \"column\": \"Age\",\n      \"properties\": {\n        \"dtype\": \"number\",\n        \"std\": 3,\n        \"min\": 23,\n        \"max\": 35,\n        \"num_unique_values\": 6,\n        \"samples\": [\n          23,\n          25,\n          35\n        ],\n        \"semantic_type\": \"\",\n        \"description\": \"\"\n      }\n    }\n  ]\n}"
            }
          },
          "metadata": {},
          "execution_count": 150
        }
      ],
      "execution_count": null
    },
    {
      "cell_type": "code",
      "source": [
        "#Sort mydf dataframe on the basis of Name,Marks."
      ],
      "metadata": {
        "trusted": true,
        "execution": {
          "iopub.status.busy": "2024-12-30T10:10:34.070380Z",
          "iopub.execute_input": "2024-12-30T10:10:34.070768Z",
          "iopub.status.idle": "2024-12-30T10:10:34.075820Z",
          "shell.execute_reply.started": "2024-12-30T10:10:34.070730Z",
          "shell.execute_reply": "2024-12-30T10:10:34.074758Z"
        },
        "id": "VV4InI2QqpVb"
      },
      "outputs": [],
      "execution_count": null
    },
    {
      "cell_type": "markdown",
      "source": [
        "Missing Data"
      ],
      "metadata": {
        "id": "XeigsV2EqpVb"
      }
    },
    {
      "cell_type": "code",
      "source": [
        "data = {\n",
        "    \"Name\": [\"Alice\", \"Bob\", \"Charlie\", \"Diana\", \"Eve\", \"Frank\", \"Grace\", \"Hank\"],\n",
        "    \"Gender\": [\"Female\", \"Male\", None, \"Female\", None, \"Male\", \"Female\", None],\n",
        "}\n",
        "df = pd.DataFrame(data)\n",
        "print(df)"
      ],
      "metadata": {
        "trusted": true,
        "execution": {
          "iopub.status.busy": "2024-12-30T10:10:34.076811Z",
          "iopub.execute_input": "2024-12-30T10:10:34.077151Z",
          "iopub.status.idle": "2024-12-30T10:10:34.098310Z",
          "shell.execute_reply.started": "2024-12-30T10:10:34.077110Z",
          "shell.execute_reply": "2024-12-30T10:10:34.096944Z"
        },
        "id": "Kg7TKG2eqpVb",
        "colab": {
          "base_uri": "https://localhost:8080/"
        },
        "outputId": "32f6b503-2bec-4e1a-cc98-781134ba15c7"
      },
      "outputs": [
        {
          "output_type": "stream",
          "name": "stdout",
          "text": [
            "      Name  Gender\n",
            "0    Alice  Female\n",
            "1      Bob    Male\n",
            "2  Charlie    None\n",
            "3    Diana  Female\n",
            "4      Eve    None\n",
            "5    Frank    Male\n",
            "6    Grace  Female\n",
            "7     Hank    None\n"
          ]
        }
      ],
      "execution_count": null
    },
    {
      "cell_type": "code",
      "source": [
        "print(\"\\nCheck for missing values:\")\n",
        "print(pd.isnull(df))"
      ],
      "metadata": {
        "trusted": true,
        "execution": {
          "iopub.status.busy": "2024-12-30T10:10:34.099708Z",
          "iopub.execute_input": "2024-12-30T10:10:34.100168Z",
          "iopub.status.idle": "2024-12-30T10:10:34.119960Z",
          "shell.execute_reply.started": "2024-12-30T10:10:34.100137Z",
          "shell.execute_reply": "2024-12-30T10:10:34.118724Z"
        },
        "id": "J9C6KqRVqpVb",
        "colab": {
          "base_uri": "https://localhost:8080/"
        },
        "outputId": "92dc4817-f302-477a-de66-eddd00aa5008"
      },
      "outputs": [
        {
          "output_type": "stream",
          "name": "stdout",
          "text": [
            "\n",
            "Check for missing values:\n",
            "    Name  Gender\n",
            "0  False   False\n",
            "1  False   False\n",
            "2  False    True\n",
            "3  False   False\n",
            "4  False    True\n",
            "5  False   False\n",
            "6  False   False\n",
            "7  False    True\n"
          ]
        }
      ],
      "execution_count": null
    },
    {
      "cell_type": "code",
      "source": [
        "print(\"\\nCheck for missing values(Column):\")\n",
        "print(pd.isnull(df['Gender']))"
      ],
      "metadata": {
        "trusted": true,
        "execution": {
          "iopub.status.busy": "2024-12-30T10:10:34.121036Z",
          "iopub.execute_input": "2024-12-30T10:10:34.121364Z",
          "iopub.status.idle": "2024-12-30T10:10:34.140562Z",
          "shell.execute_reply.started": "2024-12-30T10:10:34.121337Z",
          "shell.execute_reply": "2024-12-30T10:10:34.139444Z"
        },
        "id": "mGIPYtfsqpVb",
        "colab": {
          "base_uri": "https://localhost:8080/"
        },
        "outputId": "901ad943-5556-45ef-f7f1-d66a9dd7fb4c"
      },
      "outputs": [
        {
          "output_type": "stream",
          "name": "stdout",
          "text": [
            "\n",
            "Check for missing values(Column):\n",
            "0    False\n",
            "1    False\n",
            "2     True\n",
            "3    False\n",
            "4     True\n",
            "5    False\n",
            "6    False\n",
            "7     True\n",
            "Name: Gender, dtype: bool\n"
          ]
        }
      ],
      "execution_count": null
    },
    {
      "cell_type": "code",
      "source": [
        "# Fill missing values in the 'Gender' column with a default value\n",
        "df['Gender'] = df['Gender'].fillna(\"Not Specified\")"
      ],
      "metadata": {
        "trusted": true,
        "execution": {
          "iopub.status.busy": "2024-12-30T10:10:34.141520Z",
          "iopub.execute_input": "2024-12-30T10:10:34.141881Z",
          "iopub.status.idle": "2024-12-30T10:10:34.164417Z",
          "shell.execute_reply.started": "2024-12-30T10:10:34.141843Z",
          "shell.execute_reply": "2024-12-30T10:10:34.163112Z"
        },
        "id": "tCYqUfKOqpVc"
      },
      "outputs": [],
      "execution_count": null
    },
    {
      "cell_type": "code",
      "source": [
        "#updated dataframe\n",
        "print(df)"
      ],
      "metadata": {
        "trusted": true,
        "execution": {
          "iopub.status.busy": "2024-12-30T10:10:34.165844Z",
          "iopub.execute_input": "2024-12-30T10:10:34.166255Z",
          "iopub.status.idle": "2024-12-30T10:10:34.186943Z",
          "shell.execute_reply.started": "2024-12-30T10:10:34.166218Z",
          "shell.execute_reply": "2024-12-30T10:10:34.185796Z"
        },
        "id": "hSPN_ZFgqpVc",
        "colab": {
          "base_uri": "https://localhost:8080/"
        },
        "outputId": "09a9b9cd-1e4b-460e-ebcc-7c6599f0c06a"
      },
      "outputs": [
        {
          "output_type": "stream",
          "name": "stdout",
          "text": [
            "      Name         Gender\n",
            "0    Alice         Female\n",
            "1      Bob           Male\n",
            "2  Charlie  Not Specified\n",
            "3    Diana         Female\n",
            "4      Eve  Not Specified\n",
            "5    Frank           Male\n",
            "6    Grace         Female\n",
            "7     Hank  Not Specified\n"
          ]
        }
      ],
      "execution_count": null
    },
    {
      "cell_type": "code",
      "source": [
        "#Read myStudentDataFrame.csv"
      ],
      "metadata": {
        "trusted": true,
        "execution": {
          "iopub.status.busy": "2024-12-30T10:10:34.188272Z",
          "iopub.execute_input": "2024-12-30T10:10:34.188775Z",
          "iopub.status.idle": "2024-12-30T10:10:34.204614Z",
          "shell.execute_reply.started": "2024-12-30T10:10:34.188727Z",
          "shell.execute_reply": "2024-12-30T10:10:34.203454Z"
        },
        "id": "sPZr8pOfqpVc"
      },
      "outputs": [],
      "execution_count": null
    },
    {
      "cell_type": "code",
      "source": [
        "#Check for missing data in all columns using appropriate pandas functions."
      ],
      "metadata": {
        "trusted": true,
        "execution": {
          "iopub.status.busy": "2024-12-30T10:10:34.205730Z",
          "iopub.execute_input": "2024-12-30T10:10:34.206123Z",
          "iopub.status.idle": "2024-12-30T10:10:34.225280Z",
          "shell.execute_reply.started": "2024-12-30T10:10:34.206085Z",
          "shell.execute_reply": "2024-12-30T10:10:34.224054Z"
        },
        "id": "aF4dJ2htqpVc"
      },
      "outputs": [],
      "execution_count": null
    },
    {
      "cell_type": "code",
      "source": [
        "#Drop Rows with Missing Data"
      ],
      "metadata": {
        "trusted": true,
        "execution": {
          "iopub.status.busy": "2024-12-30T10:10:34.226437Z",
          "iopub.execute_input": "2024-12-30T10:10:34.226768Z",
          "iopub.status.idle": "2024-12-30T10:10:34.245791Z",
          "shell.execute_reply.started": "2024-12-30T10:10:34.226741Z",
          "shell.execute_reply": "2024-12-30T10:10:34.244569Z"
        },
        "id": "aIIUacqCqpVc"
      },
      "outputs": [],
      "execution_count": null
    },
    {
      "cell_type": "code",
      "source": [
        "#Compute Summary Statistics (AVG,MEAN,MAX,MIN)"
      ],
      "metadata": {
        "trusted": true,
        "execution": {
          "iopub.status.busy": "2024-12-30T10:10:34.246865Z",
          "iopub.execute_input": "2024-12-30T10:10:34.247154Z",
          "iopub.status.idle": "2024-12-30T10:10:34.265222Z",
          "shell.execute_reply.started": "2024-12-30T10:10:34.247129Z",
          "shell.execute_reply": "2024-12-30T10:10:34.264041Z"
        },
        "id": "4flC8pC5qpVc"
      },
      "outputs": [],
      "execution_count": null
    },
    {
      "cell_type": "code",
      "source": [
        "#Filter Data and Compute Pass/Fail\n",
        "#mark >= 40: Pass\n",
        "#mark < 40: Fail"
      ],
      "metadata": {
        "trusted": true,
        "execution": {
          "iopub.status.busy": "2024-12-30T10:10:34.266391Z",
          "iopub.execute_input": "2024-12-30T10:10:34.266793Z",
          "iopub.status.idle": "2024-12-30T10:10:34.285394Z",
          "shell.execute_reply.started": "2024-12-30T10:10:34.266764Z",
          "shell.execute_reply": "2024-12-30T10:10:34.284473Z"
        },
        "id": "OKDQeNCKqpVc"
      },
      "outputs": [],
      "execution_count": null
    },
    {
      "cell_type": "code",
      "source": [
        "#Add a new column Result to the DataFrame indicating Pass or Fail."
      ],
      "metadata": {
        "trusted": true,
        "execution": {
          "iopub.status.busy": "2024-12-30T10:10:34.286564Z",
          "iopub.execute_input": "2024-12-30T10:10:34.286905Z",
          "iopub.status.idle": "2024-12-30T10:10:34.306002Z",
          "shell.execute_reply.started": "2024-12-30T10:10:34.286874Z",
          "shell.execute_reply": "2024-12-30T10:10:34.304770Z"
        },
        "id": "4Of8ayExqpVc"
      },
      "outputs": [],
      "execution_count": null
    },
    {
      "cell_type": "code",
      "source": [
        "#Save the Final DataFrame\n",
        "#Save the updated DataFrame (with the Result column) to a new CSV file named Result_YourIDNumber.csv."
      ],
      "metadata": {
        "trusted": true,
        "execution": {
          "iopub.status.busy": "2024-12-30T10:10:34.307039Z",
          "iopub.execute_input": "2024-12-30T10:10:34.307399Z",
          "iopub.status.idle": "2024-12-30T10:10:34.327343Z",
          "shell.execute_reply.started": "2024-12-30T10:10:34.307354Z",
          "shell.execute_reply": "2024-12-30T10:10:34.325996Z"
        },
        "id": "PmgBHX07qpVc"
      },
      "outputs": [],
      "execution_count": null
    },
    {
      "cell_type": "markdown",
      "source": [
        "Additional Practice Questions - [Click Here](https://colab.research.google.com/drive/1_Hc9yV2RIgvau6BsLiYXn87orXqa52RX?usp=sharing)"
      ],
      "metadata": {
        "id": "vPQHIUbn_9g8"
      }
    },
    {
      "cell_type": "code",
      "source": [],
      "metadata": {
        "id": "X26bXXM7rYj2"
      },
      "execution_count": null,
      "outputs": []
    }
  ]
}
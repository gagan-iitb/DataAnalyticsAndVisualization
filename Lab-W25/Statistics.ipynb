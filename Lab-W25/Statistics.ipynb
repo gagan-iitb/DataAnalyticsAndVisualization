{
  "nbformat": 4,
  "nbformat_minor": 0,
  "metadata": {
    "colab": {
      "provenance": []
    },
    "kernelspec": {
      "name": "python3",
      "display_name": "Python 3"
    },
    "language_info": {
      "name": "python"
    }
  },
  "cells": [
    {
      "cell_type": "code",
      "execution_count": 45,
      "metadata": {
        "id": "alKNboMIPESS"
      },
      "outputs": [],
      "source": [
        "# Statistics in Python"
      ]
    },
    {
      "cell_type": "markdown",
      "source": [
        "# Traditional Methods for Calculating Statistics"
      ],
      "metadata": {
        "id": "QCuCcfYxRNlU"
      }
    },
    {
      "cell_type": "code",
      "source": [
        "# Example Data:\n",
        "data = [10, 20, 30, 40, 50]"
      ],
      "metadata": {
        "id": "sp_ECnyzRO7P"
      },
      "execution_count": 46,
      "outputs": []
    },
    {
      "cell_type": "markdown",
      "source": [
        "# Mean Calculation (Traditional Method)\n",
        "### Formula: Mean = (Sum of all values) / (Number of values)"
      ],
      "metadata": {
        "id": "pmVc41-pRXYa"
      }
    },
    {
      "cell_type": "code",
      "source": [
        "sum_data = sum(data)  # Sum of all values in the data set\n",
        "n = len(data)  # Number of values in the data set\n",
        "mean_traditional = sum_data / n  # Mean calculation\n",
        "print(\"Mean (Traditional Method):\", mean_traditional)"
      ],
      "metadata": {
        "colab": {
          "base_uri": "https://localhost:8080/"
        },
        "id": "tk5m3WhzRj1F",
        "outputId": "875af5a3-9039-4674-aecb-8593be50bb40"
      },
      "execution_count": 47,
      "outputs": [
        {
          "output_type": "stream",
          "name": "stdout",
          "text": [
            "Mean (Traditional Method): 30.0\n"
          ]
        }
      ]
    },
    {
      "cell_type": "markdown",
      "source": [
        "# Using Python's statistics Module\n"
      ],
      "metadata": {
        "id": "XSR8W4-5Rt6A"
      }
    },
    {
      "cell_type": "code",
      "source": [
        "import statistics as stats"
      ],
      "metadata": {
        "id": "ibm-8bTXRzpu"
      },
      "execution_count": 48,
      "outputs": []
    },
    {
      "cell_type": "markdown",
      "source": [],
      "metadata": {
        "id": "AJt7UrHiRmfw"
      }
    },
    {
      "cell_type": "code",
      "source": [
        "# Mean Calculation\n",
        "data = [10, 20, 30, 40, 50]\n",
        "mean_value = stats.mean(data)\n",
        "print(\"Mean (Using statistics Module):\", mean_value)"
      ],
      "metadata": {
        "colab": {
          "base_uri": "https://localhost:8080/"
        },
        "id": "yssme4S5RURc",
        "outputId": "8dfd4908-97a7-42c6-96fc-eedfe7652233"
      },
      "execution_count": 49,
      "outputs": [
        {
          "output_type": "stream",
          "name": "stdout",
          "text": [
            "Mean (Using statistics Module): 30\n"
          ]
        }
      ]
    },
    {
      "cell_type": "markdown",
      "source": [
        "# Median Calculation (Traditional Method)\n",
        "### The median is the middle value in a sorted data set. If the number of values is even, the median is the average of the two middle values.\n"
      ],
      "metadata": {
        "id": "w2k8UKNNSCta"
      }
    },
    {
      "cell_type": "code",
      "source": [
        "sorted_data = sorted(data)  # Sort the data\n",
        "data_len = len(sorted_data)\n",
        "\n",
        "if data_len % 2 == 1:  # Odd number of elements\n",
        "    median_traditional = sorted_data[data_len // 2]\n",
        "else:  # Even number of elements\n",
        "    mid1 = sorted_data[data_len // 2 - 1]\n",
        "    mid2 = sorted_data[data_len // 2]\n",
        "    median_traditional = (mid1 + mid2) / 2\n",
        "\n",
        "print(\"Median (Traditional Method):\", median_traditional)"
      ],
      "metadata": {
        "colab": {
          "base_uri": "https://localhost:8080/"
        },
        "id": "aX6pFHkfSNn0",
        "outputId": "5feb36eb-ea3a-4a98-f01f-3773cf13c7be"
      },
      "execution_count": 50,
      "outputs": [
        {
          "output_type": "stream",
          "name": "stdout",
          "text": [
            "Median (Traditional Method): 30\n"
          ]
        }
      ]
    },
    {
      "cell_type": "code",
      "source": [
        "# Median Calculation\n",
        "median_value = stats.median(data)\n",
        "print(\"Median (Using statistics Module):\", median_value)"
      ],
      "metadata": {
        "colab": {
          "base_uri": "https://localhost:8080/"
        },
        "id": "REXr1fz2SYzE",
        "outputId": "bb10318a-5b53-43e2-be9b-5c78e9b8a409"
      },
      "execution_count": 51,
      "outputs": [
        {
          "output_type": "stream",
          "name": "stdout",
          "text": [
            "Median (Using statistics Module): 30\n"
          ]
        }
      ]
    },
    {
      "cell_type": "markdown",
      "source": [
        "# Mode Calculation (Traditional Method)\n",
        "### The mode is the value that appears most frequently in the data set.\n"
      ],
      "metadata": {
        "id": "fbNRSK0_SjJz"
      }
    },
    {
      "cell_type": "code",
      "source": [
        "from collections import Counter\n",
        "\n",
        "data_with_mode = [10, 20, 20, 30, 40]\n",
        "data_counts = Counter(data_with_mode)  # Count the occurrences of each value\n",
        "max_count = max(data_counts.values())  # Maximum occurrence count\n",
        "modes_traditional = [key for key, count in data_counts.items() if count == max_count]\n",
        "\n",
        "print(\"Mode (Traditional Method):\", modes_traditional)"
      ],
      "metadata": {
        "colab": {
          "base_uri": "https://localhost:8080/"
        },
        "id": "_C9ELRLESoSQ",
        "outputId": "e7a9616e-ae86-4ef1-bd06-c7ae58fa8d87"
      },
      "execution_count": 52,
      "outputs": [
        {
          "output_type": "stream",
          "name": "stdout",
          "text": [
            "Mode (Traditional Method): [20]\n"
          ]
        }
      ]
    },
    {
      "cell_type": "code",
      "source": [
        "# Mode Calculation\n",
        "data_with_mode = [10, 20, 20, 30, 40]\n",
        "mode_value = stats.mode(data_with_mode)\n",
        "print(\"Mode (Using statistics Module):\", mode_value)"
      ],
      "metadata": {
        "colab": {
          "base_uri": "https://localhost:8080/"
        },
        "id": "k5gSIUSZS5IY",
        "outputId": "d5255199-f72b-4f55-e79d-49075b781aff"
      },
      "execution_count": 53,
      "outputs": [
        {
          "output_type": "stream",
          "name": "stdout",
          "text": [
            "Mode (Using statistics Module): 20\n"
          ]
        }
      ]
    },
    {
      "cell_type": "markdown",
      "source": [
        "# Standard Deviation & Variance\n",
        "![Screenshot 2025-01-06 at 12.04.34.png](data:image/png;base64,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)"
      ],
      "metadata": {
        "id": "-FY32485RHtB"
      }
    },
    {
      "cell_type": "code",
      "source": [
        "# Sample Variance\n",
        "variance_sample_traditional = sum((x - mean_value) ** 2 for x in data) / (n - 1)\n",
        "# Sample Standard Deviation\n",
        "stdev_sample_traditional = variance_sample_traditional ** 0.5\n",
        "\n",
        "print(\"Variance (Sample, Traditional Method):\", variance_sample_traditional)\n",
        "print(\"Standard Deviation (Sample, Traditional Method):\", stdev_sample_traditional)\n"
      ],
      "metadata": {
        "colab": {
          "base_uri": "https://localhost:8080/"
        },
        "id": "WE7xTvJlTFn3",
        "outputId": "405db355-485a-4ba9-b738-4ab5d48e71cd"
      },
      "execution_count": 54,
      "outputs": [
        {
          "output_type": "stream",
          "name": "stdout",
          "text": [
            "Variance (Sample, Traditional Method): 250.0\n",
            "Standard Deviation (Sample, Traditional Method): 15.811388300841896\n"
          ]
        }
      ]
    },
    {
      "cell_type": "markdown",
      "source": [],
      "metadata": {
        "id": "AJPv9PSyTXzb"
      }
    },
    {
      "cell_type": "code",
      "source": [
        "# Standard Deviation\n",
        "stdev_value = stats.stdev(data)\n",
        "print(\"Standard Deviation (Using statistics Module):\", stdev_value)\n",
        "\n",
        "# Variance\n",
        "variance_value = stats.variance(data)\n",
        "print(\"Variance (Using statistics Module):\", variance_value)"
      ],
      "metadata": {
        "colab": {
          "base_uri": "https://localhost:8080/"
        },
        "id": "dr8Teb0bTGKM",
        "outputId": "ef2dd01f-6661-44c6-bcf9-0c3b8f66d7f0"
      },
      "execution_count": 55,
      "outputs": [
        {
          "output_type": "stream",
          "name": "stdout",
          "text": [
            "Standard Deviation (Using statistics Module): 15.811388300841896\n",
            "Variance (Using statistics Module): 250\n"
          ]
        }
      ]
    },
    {
      "cell_type": "markdown",
      "source": [
        "# 1. Calculate the *mean, median, mode, standard deviation, and variance* for the dataset:\n",
        "### [5.0, 10.0, 15.0, 20.0, 25.0, 30.0, 35.0]"
      ],
      "metadata": {
        "id": "ZYeHed0QT1Cm"
      }
    },
    {
      "cell_type": "code",
      "source": [
        "#Answer1"
      ],
      "metadata": {
        "id": "LCFjWEh-Vzxg"
      },
      "execution_count": 56,
      "outputs": []
    },
    {
      "cell_type": "markdown",
      "source": [
        "# 2. Generate a random data set of size 100 with values between 1 and 50. Calculate all the statistical measures discussed above.\n"
      ],
      "metadata": {
        "id": "0s4x2NhrV1_z"
      }
    },
    {
      "cell_type": "code",
      "source": [
        "#Answer2"
      ],
      "metadata": {
        "id": "m9DFKWWoV41-"
      },
      "execution_count": 57,
      "outputs": []
    }
  ]
}
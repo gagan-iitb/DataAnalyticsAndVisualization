{
  "nbformat": 4,
  "nbformat_minor": 0,
  "metadata": {
    "colab": {
      "provenance": []
    },
    "kernelspec": {
      "name": "python3",
      "display_name": "Python 3"
    },
    "language_info": {
      "name": "python"
    }
  },
  "cells": [
    {
      "cell_type": "markdown",
      "source": [
        "**Numpy**\n",
        "\n",
        "---\n",
        "\n",
        "\n",
        "**Definition:** NumPy (Numerical Python) is a fundamental library for scientific computing in Python. It provides powerful data structures, such as multi-dimensional arrays, and a large collection of mathematical functions that make it easier and faster to work with numerical data. It’s widely used in fields like data science, machine learning, scientific computing, and more."
      ],
      "metadata": {
        "id": "ez9a7X12Gb2Z"
      }
    },
    {
      "cell_type": "code",
      "execution_count": 9,
      "metadata": {
        "id": "JB8tV4pIEgi1"
      },
      "outputs": [],
      "source": [
        "#import Library\n",
        "import numpy as np"
      ]
    },
    {
      "cell_type": "markdown",
      "source": [
        "**Array Creation Functions**\n",
        "\n",
        "**1. **\n",
        "\n",
        "**np.array():** Creates a NumPy array from a Python list or another array.\n",
        "\n",
        "**np.zeros():** Creates an array filled with zeros.\n",
        "\n",
        "**np.ones():** Creates an array filled with ones.\n",
        "\n",
        "**np.arange():** Creates an array with evenly spaced values within a specified range.\n",
        "\n",
        "**np.linspace():** Creates an array with a specified number of evenly spaced values between a start and end value.\n",
        "\n",
        "**np.eye():** Creates an identity matrix."
      ],
      "metadata": {
        "id": "0qGtjphlHp3x"
      }
    },
    {
      "cell_type": "code",
      "source": [
        "import numpy as np\n",
        "\n",
        "# Creating a NumPy array from a Python list\n",
        "print('Creating Array : ')\n",
        "arr = np.array([1, 2, 3, 4])\n",
        "print(arr)\n",
        "#zero filling\n",
        "print('Creating Array with 0 fill : ')\n",
        "arr_zeros = np.zeros((3, 3))\n",
        "print(arr_zeros)\n",
        "#One filling\n",
        "print('Creating Array with 1 fill : ')\n",
        "arr_ones = np.ones((2, 3))\n",
        "print(arr_ones)\n",
        "# Creating an array with values from 0 to 9 (exclusive)\n",
        "print('Creating Array with sequence value : ')\n",
        "arr_range = np.arange(10)\n",
        "print(arr_range)\n",
        "# 5 evenly spaced numbers between 0 and 10\n",
        "print('Creating Array with evenly spaced numbers between 0 and 10 : ')\n",
        "arr = np.linspace(0, 10, 5)\n",
        "print(\"Linspace:\", arr)\n",
        "print('Creating identity matrix : ')\n",
        "arr = np.eye(3)  # 3x3 identity matrix\n",
        "print(\"Creating opposite of Identity Matrix:\\n\", arr)\n",
        "arr = np.fliplr(arr)\n",
        "print(\"Matrix with ones on the opposite diagonal:\\n\", arr)"
      ],
      "metadata": {
        "colab": {
          "base_uri": "https://localhost:8080/"
        },
        "id": "W13dBecNG4nY",
        "outputId": "1729245c-9048-485b-bf38-482579c556ce"
      },
      "execution_count": 23,
      "outputs": [
        {
          "output_type": "stream",
          "name": "stdout",
          "text": [
            "Creating Array : \n",
            "[1 2 3 4]\n",
            "Creating Array with 0 fill : \n",
            "[[0. 0. 0.]\n",
            " [0. 0. 0.]\n",
            " [0. 0. 0.]]\n",
            "Creating Array with 1 fill : \n",
            "[[1. 1. 1.]\n",
            " [1. 1. 1.]]\n",
            "Creating Array with sequence value : \n",
            "[0 1 2 3 4 5 6 7 8 9]\n",
            "Creating Array with evenly spaced numbers between 0 and 10 : \n",
            "Linspace: [ 0.   2.5  5.   7.5 10. ]\n",
            "Creating identity matrix : \n",
            "Creating opposite of Identity Matrix:\n",
            " [[1. 0. 0.]\n",
            " [0. 1. 0.]\n",
            " [0. 0. 1.]]\n",
            "Matrix with ones on the opposite diagonal:\n",
            " [[0. 0. 1.]\n",
            " [0. 1. 0.]\n",
            " [1. 0. 0.]]\n"
          ]
        }
      ]
    },
    {
      "cell_type": "markdown",
      "source": [
        "**2.** The **ndim** function in NumPy is an attribute that returns the number of dimensions (also called the rank) of a NumPy array"
      ],
      "metadata": {
        "id": "UWN1t96YVq5R"
      }
    },
    {
      "cell_type": "code",
      "source": [
        "# 1. Scalar (0D Array): A scalar is just a single number, so it has 0 dimensions.\n",
        "import numpy as np\n",
        "scalar = np.array(5)\n",
        "print(scalar.ndim)  # Output: 0\n",
        "\n",
        "# 2. 1D Array (Vector): A 1D array is like a list or vector.\n",
        "vector = np.array([1, 2, 3, 4])\n",
        "print(vector.ndim)  # Output: 1\n",
        "\n",
        "# 3. 2D Array (Matrix): A 2D array is a matrix (rows and columns).\n",
        "matrix = np.array([[1, 2, 3], [4, 5, 6]])\n",
        "print(matrix.ndim)  # Output: 2\n",
        "\n",
        "# 4. 3D Array: A 3D array is a \"cube\" of numbers, with layers.\n",
        "cube = np.array([[[1, 2], [3, 4]], [[5, 6], [7, 8]]])\n",
        "print(cube.ndim)  # Output: 3\n",
        "\n",
        "# 5. Higher-Dimensional Array: For higher-dimensional arrays, ndim will return the number of axes.\n",
        "high_dim_array = np.random.rand(2, 3, 4, 5)\n",
        "print(high_dim_array.ndim)  # Output: 4 (4-dimensional array)"
      ],
      "metadata": {
        "colab": {
          "base_uri": "https://localhost:8080/"
        },
        "id": "iqjKVo34JUMH",
        "outputId": "e734628f-e45f-4248-ab07-a08ab21fd94b"
      },
      "execution_count": 26,
      "outputs": [
        {
          "output_type": "stream",
          "name": "stdout",
          "text": [
            "0\n",
            "1\n",
            "2\n",
            "3\n",
            "4\n"
          ]
        }
      ]
    },
    {
      "cell_type": "markdown",
      "source": [
        "**3.** The **shape** function in NumPy is an attribute that returns the dimensions of an array."
      ],
      "metadata": {
        "id": "Gu8c3cERQbuF"
      }
    },
    {
      "cell_type": "code",
      "source": [
        "import numpy as np\n",
        "print('A scalar is a single number, so the shape is an empty tuple')\n",
        "scalar = np.array(5)\n",
        "print(scalar.shape)  # Output: ()\n",
        "print('A 1D array (vector) has only one axis')\n",
        "vector = np.array([1, 2, 3, 4])\n",
        "print(vector.shape)  # Output: (4,)  -> 4 elements in a 1D array\n",
        "\n",
        "print('A 2D array (matrix) has two axes: rows and columns.')\n",
        "matrix = np.array([[1, 2, 3], [4, 5, 6]])\n",
        "print(matrix.shape)  # Output: (2, 3)  -> 2 rows and 3 columns\n",
        "\n",
        "print('A 3D array has three axes: depth, rows, and columns.')\n",
        "cube = np.array([[[1, 2], [3, 4]], [[5, 6], [7, 8]]])\n",
        "print(cube.shape)  # Output: (2, 2, 2)  -> 2 layers, each with 2 rows and 2 columns\n",
        "\n",
        "print('For higher-dimensional arrays, shape will return a tuple with the size of each dimension.')\n",
        "high_dim_array = np.random.rand(2, 3, 4, 5)\n",
        "print(high_dim_array.shape)  # Output: (2, 3, 4, 5) -> 2 layers, 3 rows, 4 columns, 5 depth\n"
      ],
      "metadata": {
        "colab": {
          "base_uri": "https://localhost:8080/"
        },
        "id": "UelnlAE7QVhE",
        "outputId": "7297f267-e431-49dc-81f3-92f42d0ea5c7"
      },
      "execution_count": 32,
      "outputs": [
        {
          "output_type": "stream",
          "name": "stdout",
          "text": [
            "A scalar is a single number, so the shape is an empty tuple\n",
            "()\n",
            "A 1D array (vector) has only one axis\n",
            "(4,)\n",
            "A 2D array (matrix) has two axes: rows and columns.\n",
            "(2, 3)\n",
            "A 3D array has three axes: depth, rows, and columns.\n",
            "(2, 2, 2)\n",
            "For higher-dimensional arrays, shape will return a tuple with the size of each dimension.\n",
            "(2, 3, 4, 5)\n"
          ]
        }
      ]
    },
    {
      "cell_type": "markdown",
      "source": [
        "**Modifying the Shape:** **reshape()**\n"
      ],
      "metadata": {
        "id": "ibk3PUmIY5u-"
      }
    },
    {
      "cell_type": "code",
      "source": [
        "# We can reshape an array to a different shape as long as the total number of elements remains the same.\n",
        "arr = np.array([1, 2, 3, 4, 5, 6])\n",
        "print(arr.shape)\n",
        "reshaped_arr = arr.reshape(2, 3)  # 2 rows, 3 columns\n",
        "print(reshaped_arr.shape)\n",
        "print('Actual Arrary')\n",
        "print(arr)\n",
        "print('Reshaped')\n",
        "print(reshaped_arr)\n"
      ],
      "metadata": {
        "colab": {
          "base_uri": "https://localhost:8080/"
        },
        "id": "go68-Tj8TMfP",
        "outputId": "68f30d0f-16a6-4462-e885-a038a853cdab"
      },
      "execution_count": 14,
      "outputs": [
        {
          "output_type": "stream",
          "name": "stdout",
          "text": [
            "(6,)\n",
            "(2, 3)\n",
            "Actual Arrary\n",
            "[1 2 3 4 5 6]\n",
            "Reshaped\n",
            "[[1 2 3]\n",
            " [4 5 6]]\n"
          ]
        }
      ]
    },
    {
      "cell_type": "code",
      "source": [
        "import random\n",
        "\n",
        "random_float = random.random()\n",
        "print(f\"Random float between 0 and 1: {random_float}\")\n"
      ],
      "metadata": {
        "colab": {
          "base_uri": "https://localhost:8080/"
        },
        "id": "w0TIz0oSEsZn",
        "outputId": "b0a58c17-ef0b-408d-cdec-e26df5e6dce2"
      },
      "execution_count": 1,
      "outputs": [
        {
          "output_type": "stream",
          "name": "stdout",
          "text": [
            "Random float between 0 and 1: 0.6568543881233202\n"
          ]
        }
      ]
    },
    {
      "cell_type": "code",
      "source": [
        "random_int = random.randint(1, 100)  # Random integer between 1 and 100\n",
        "print(f\"Random integer between 1 and 100: {random_int}\")\n"
      ],
      "metadata": {
        "colab": {
          "base_uri": "https://localhost:8080/"
        },
        "id": "u_vARzngEtXa",
        "outputId": "960261bb-5aa2-473b-cf69-9bb35e02104c"
      },
      "execution_count": 3,
      "outputs": [
        {
          "output_type": "stream",
          "name": "stdout",
          "text": [
            "Random integer between 1 and 100: 72\n"
          ]
        }
      ]
    },
    {
      "cell_type": "code",
      "source": [
        "choices = ['apple', 'banana', 'cherry', 'date']\n",
        "random_choice = random.choice(choices)\n",
        "print(f\"Random choice from list: {random_choice}\")\n"
      ],
      "metadata": {
        "colab": {
          "base_uri": "https://localhost:8080/"
        },
        "id": "4j5WZwVNE8r5",
        "outputId": "8350c450-7d87-4962-fcb5-7db69bff6d15"
      },
      "execution_count": 7,
      "outputs": [
        {
          "output_type": "stream",
          "name": "stdout",
          "text": [
            "Random choice from list: date\n"
          ]
        }
      ]
    },
    {
      "cell_type": "markdown",
      "source": [
        "\n",
        "**Create a 5x5 array filled with random integers from 0 to 10.**\n",
        "1. Create a 1D array of shape (5,) that will be added to each row of the 5x5 array using broadcasting.\n",
        "2. Multiply each column of the 5x5 array by a 1D array of shape (5,) using broadcasting.\n",
        "3. Display the final result."
      ],
      "metadata": {
        "id": "7oEzDNttMcdO"
      }
    },
    {
      "cell_type": "code",
      "source": [],
      "metadata": {
        "id": "4q06HgKYFu1c"
      },
      "execution_count": 6,
      "outputs": []
    },
    {
      "cell_type": "markdown",
      "source": [
        "**Array Manipulation**\n",
        "1. Create a 1D array with values from 1 to 20.\n",
        "2. Reshape the array into a 4x5 matrix.\n",
        "3. Flatten the reshaped matrix back into a 1D array.\n",
        "4. ind the mean, standard deviation, and sum of the reshaped matrix."
      ],
      "metadata": {
        "id": "0f6SlL_wM3gi"
      }
    },
    {
      "cell_type": "code",
      "source": [],
      "metadata": {
        "id": "XsyxXVneNAFs"
      },
      "execution_count": null,
      "outputs": []
    }
  ]
}
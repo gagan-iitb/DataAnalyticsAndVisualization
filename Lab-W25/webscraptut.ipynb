{
  "nbformat": 4,
  "nbformat_minor": 0,
  "metadata": {
    "colab": {
      "provenance": []
    },
    "kernelspec": {
      "name": "python3",
      "display_name": "Python 3"
    }
  },
  "cells": [
    {
      "cell_type": "code",
      "metadata": {
        "id": "h8gog_SyPBTC"
      },
      "source": [
        "import pandas as pd\n",
        "import requests\n",
        "from bs4 import BeautifulSoup\n",
        "import numpy as np"
      ],
      "execution_count": null,
      "outputs": []
    },
    {
      "cell_type": "code",
      "metadata": {
        "id": "TLs7qzd-5FEX"
      },
      "source": [],
      "execution_count": null,
      "outputs": []
    },
    {
      "cell_type": "code",
      "metadata": {
        "id": "jTydSea9PcHE"
      },
      "source": [
        "webpage=requests.get('https://www.ambitionbox.com/list-of-companies?page=1').text\n",
        "\n"
      ],
      "execution_count": null,
      "outputs": []
    },
    {
      "cell_type": "code",
      "metadata": {
        "id": "ZpcHZyDiQayL"
      },
      "source": [
        "soup=BeautifulSoup(webpage,'lxml')"
      ],
      "execution_count": null,
      "outputs": []
    },
    {
      "cell_type": "code",
      "metadata": {
        "id": "pVlSaG1v1ufv"
      },
      "source": [
        "#print(soup.prettify())"
      ],
      "execution_count": null,
      "outputs": []
    },
    {
      "cell_type": "code",
      "metadata": {
        "id": "K15yMsdx14gX",
        "colab": {
          "base_uri": "https://localhost:8080/",
          "height": 35
        },
        "outputId": "a9bf3a0e-2b7c-4904-8426-d6aab8841d37"
      },
      "source": [
        "soup.find_all('h1')[0].text"
      ],
      "execution_count": null,
      "outputs": [
        {
          "output_type": "execute_result",
          "data": {
            "application/vnd.google.colaboratory.intrinsic+json": {
              "type": "string"
            },
            "text/plain": [
              "'List of companies in India'"
            ]
          },
          "metadata": {
            "tags": []
          },
          "execution_count": 6
        }
      ]
    },
    {
      "cell_type": "markdown",
      "metadata": {
        "id": "nlrJOjtw6Q-V"
      },
      "source": [
        "# TO FIND OUT NAMES OF THE COMPANIES"
      ]
    },
    {
      "cell_type": "code",
      "metadata": {
        "id": "if5OqNWI3Atj",
        "colab": {
          "base_uri": "https://localhost:8080/",
          "height": 527
        },
        "outputId": "b160b5d5-bb21-487e-9bba-d5b7316433d9"
      },
      "source": [
        "for i in soup.find_all('h2'):\n",
        "  print(i.text.strip())"
      ],
      "execution_count": null,
      "outputs": [
        {
          "output_type": "stream",
          "text": [
            "TCS\n",
            "Accenture\n",
            "ICICI Bank\n",
            "Cognizant\n",
            "HDFC Bank\n",
            "Capgemini\n",
            "Tech Mahindra\n",
            "HCL Technologies\n",
            "L&T\n",
            "Infosys\n",
            "Tata Motors\n",
            "IBM\n",
            "Genpact\n",
            "Reliance jio\n",
            "Axis Bank\n",
            "Wipro\n",
            "Concentrix Corporation\n",
            "HDB Financial Services\n",
            "Vodafone\n",
            "Bharti Airtel\n",
            "Kotak Mahindra Bank\n",
            "Amazon\n",
            "Reliance\n",
            "Bajaj Finserv\n",
            "IndusInd Bank\n",
            "Indian Army\n",
            "Teleperformance\n",
            "Hinduja Global Solutions\n",
            "Samsung\n",
            "Mahindra & Mahindra\n"
          ],
          "name": "stdout"
        }
      ]
    },
    {
      "cell_type": "code",
      "metadata": {
        "id": "QpjmJvQz3L_4",
        "colab": {
          "base_uri": "https://localhost:8080/",
          "height": 1000
        },
        "outputId": "2d1a706a-2740-49e3-8199-2a05c031a8a4"
      },
      "source": [
        "for i in soup.find_all('p'):\n",
        "  print(i.text.strip())"
      ],
      "execution_count": null,
      "outputs": [
        {
          "output_type": "stream",
          "text": [
            "Company Overview\n",
            "477,887 unique\n",
            "\t\t\tcompanies found\n",
            "Sort By:\n",
            "Popular\n",
            "3.9\n",
            "Public\n",
            "Mumbai + 164 more\n",
            "52 years old\n",
            "10000+ employees\n",
            "Tata Consultancy Services is an IT services, consulting and business solutions organisation that has been partnering with the world’s largest businesses in their transformation journeys for the last 50 years. \n",
            "\n",
            "A part of the Tata group, India's largest multinational business group, TCS has over 436,000 of the world’s best-trained consultants in 46 countries. The company is listed on the BSE (formerly Bombay Stock Exchange) and the NSE (National Stock Exchange) in India. \n",
            "\n",
            "TCS'​ proactive stance on climate change and award winning work with communities across the world have earned it a place in leading sustainability indices such as the Dow Jones Sustainability Index (DJSI), MSCI Global Sustainability Index and the FTSE4Good Emerging Index.\n",
            "4.0\n",
            "Private\n",
            "Dublin + 98 more\n",
            "31 years old\n",
            "10000+ employees\n",
            "Accenture is a leading global professional services company, providing a broad range of services and solutions in strategy, consulting, digital, technology and operations. Combining unmatched experience and specialized skills across more than 40 industries and all business functions – underpinned by the world’s largest delivery network – Accenture works at the intersection of business and technology to help clients improve their performance and create sustainable value for their stakeholders. With 449,000 people serving clients in more than 120 countries, Accenture drives innovation to improve the way the world works and lives. Visit us at www.accenture.com.\n",
            "4.1\n",
            "Public\n",
            "Mumbai + 743 more\n",
            "26 years old\n",
            "10000+ employees\n",
            "ICICI Bank is India's largest private sector bank with total consolidated assets of Rs. 11,242.81 billion (US$ 172.5 billion) at March 31, 2018 and profit after tax of Rs. 67.77 billion (US$ 1.0 billion) for the year ended March 31, 2018. \n",
            "\n",
            "ICICI Bank currently has a network of 4,867 Branches and 14,367 ATMs across India.\n",
            "\n",
            "ICICI Bank offers a wide range of banking products and financial services to corporate and retail customers through a variety of delivery channels and through its specialised subsidiaries in the areas of investment banking, life and non-life insurance, venture capital and asset management.\n",
            "3.9\n",
            "Private\n",
            "Teaneck + 46 more\n",
            "26 years old\n",
            "10000+ employees\n",
            "Cognizant (NASDAQ-100: CTSH) is one of the world’s leading professional services companies,\n",
            "transforming clients’ business, operating and technology models for the digital era. Our unique industry-based, consultative approach helps many of the best-known organizations in every industry and geography envision, build and run more innovative and efficient businesses.\n",
            "Founded in 1994 as a technology development arm of The Dun & Bradstreet Corporation, we were spun off as an independent company in 1996, and have worked closely with large organizations to help them build stronger businesses ever since. Today, Cognizant specializes in helping some of the world’s most established companies to stay the most loved brands in today’s fast-changing technology landscape by advancing every aspect of how they serve their customers: digitizing their products, services and customer experiences; automating their business processes; and modernizing their technology infrastructures\n",
            "4.0\n",
            "Public\n",
            "Mumbai + 729 more\n",
            "26 years old\n",
            "10000+ employees\n",
            "HDFC Bank is one of India’s leading private banks and was among the first to receive approval from the Reserve Bank of India (RBI) to set up a private sector bank in 1994.\n",
            "\n",
            "Today, HDFC Bank has a banking network of 5,314 branches and 13,640  ATMs spread across 2,768 cities and towns.\n",
            "\n",
            "HDFC Bank offers a diverse range of financial products and banking services to customers through a growing branch and ATM network and digital channels such as Netbanking, Phonebanking and MobileBanking.\n",
            "3.4\n",
            "Private\n",
            "Paris + 45 more\n",
            "53 years old\n",
            "10000+ employees\n",
            "Capgemini is a global leader in consulting, digital transformation, technology and engineering services. The Group is at the forefront of innovation to address the entire breadth of clients’ opportunities in the evolving world of cloud, digital and platforms. Building on its strong 50-year+ heritage and deep industry-specific expertise, Capgemini enables organizations to realize their business ambitions through an array of services from strategy to operations. Capgemini is driven by the conviction that the business value of technology comes from and through people. Today, it is a multicultural company of 270,000 team members in almost 50 countries. With Altran, the Group reported 2019 combined revenues of €17billion.\n",
            "\n",
            "Visit us at www.capgemini.com. People matter, results count.\n",
            "3.6\n",
            "Public\n",
            "Pune + 160 more\n",
            "34 years old\n",
            "10000+ employees\n",
            "Tech Mahindra represents the connected world, offering innovative and customer-centric information technology experiences, enabling Enterprises, Associates and the Society to Rise™. We are a USD 4.9 billion company with 125,700+ professionals across 90 countries, helping 941 global customers including Fortune 500 companies. Our convergent, digital, design experiences, innovation platforms and reusable assets connect across a number of technologies to deliver tangible business value and experiences to our stakeholders. Tech Mahindra is the highest ranked Non-U.S. company in the Forbes Global Digital 100 list (2018) and in the Forbes Fab 50 companies in Asia (2018).\n",
            "3.7\n",
            "Public\n",
            "Noida + 111 more\n",
            "14 years old\n",
            "10000+ employees\n",
            "HCL Learning, a wholly owned subsidiary of HCL Infosystems, offers education and training content to schools, colleges, individuals and enterprises. Flagship product DigiSchool is a classroom learning solution with interactive content for K-12. Provides customized content repository that caters to the students’ learning needs. Content is designed and developed by HCL Learning Development Centre, certified by Department of Scientific and Industrial Research.  Also offers vocational trainings in the field of IT and ITES. As of June 2015, claims to be catering to 3,500 schools and 3.5M+ students.\n",
            "4.2\n",
            "Public\n",
            "Mumbai + 337 more\n",
            "82 years old\n",
            "10000+ employees\n",
            "Larsen & Toubro is a major technology, engineering, construction, manufacturing and financial services conglomerate, with global operations. L&T addresses critical needs in key sectors - Hydrocarbon, Infrastructure, Power, Process Industries and Defence - for customers in over 30 countries around the world.\n",
            "\n",
            "L&T is engaged in core, high impact sectors of the economy and our integrated capabilities span the entire spectrum of ‘design to deliver’. With 8 decades of a strong, customer focused approach and a continuous quest for world-class quality, we have unmatched expertise across Technology, Engineering, Construction, Infrastructure Projects and Manufacturing, and maintain a leadership in all our major lines of business.\n",
            "\n",
            "Every aspect of L&T's businesses is characterised by professionalism and high standards of corporate governance. Sustainability is embedded into our long-term strategy for growth.\n",
            "3.9\n",
            "Public\n",
            "Bangalore + 68 more\n",
            "39 years old\n",
            "10000+ employees\n",
            "Infosys is a global leader in next-generation digital services and consulting. We enable clients in 45 countries to navigate their digital transformation. With over three decades of experience in managing the systems and workings of global enterprises, we expertly steer our clients through the many nexts of their digital journey. We do it by enabling the enterprise with an AI-powered core that helps prioritize the execution of change. We also empower the business with agile digital at scale to deliver unprecedented levels of performance and customer delight. Our always-on learning agenda drives their continuous improvement through building and transferring digital skills, expertise and ideas from our innovation ecosystem.\n",
            "4.1\n",
            "Public\n",
            "Pune + 344 more\n",
            "75 years old\n",
            "10000+ employees\n",
            "Tata Motors Limited, a USD 45 billion organisation, is a leading automobile manufacturer with a portfolio that includes a wide range of cars, utility vehicles, trucks, buses and defence vehicles. Our marque can be found on and off-road in over 175 countries around the globe.\n",
            "\n",
            "Our focus on connecting aspirations and our pipeline of tech-enabled products keeps us at the forefront of the market. We have identified six key mobility drivers that will lead us into the future – modular architecture, complexity reduction in manufacturing, connected & autonomous vehicles, clean drivelines, shared mobility, and low total cost of ownership. Our sub-brand TAMO is an incubating centre of innovation that will spark new mobility solutions through new technologies, business models and partnerships.\n",
            "4.1\n",
            "Private\n",
            "New York + 73 more\n",
            "109 years old\n",
            "10000+ employees\n",
            "At IBM, work is more than a job - it's a calling: To build. To design. To code. To consult. To think along with clients and sell. To make markets. To invent. To collaborate. Not just to do something better, but to attempt things you've never thought possible. To lead in this new era of technology and solve some of the world's most challenging problems.\n",
            " \n",
            "IBM is a leading cloud platform and cognitive solutions company. Restlessly reinventing since 1911, we are the largest technology and consulting employer in the world, with more than 350,000 employees serving clients in 170 countries. With Watson, the AI platform for business, powered by data, we are building industry-based solutions to real-world problems. For more than seven decades, IBM Research has defined the future of information technology with more than 3,000 researchers in 12 labs located across six continents.\n",
            "4.0\n",
            "Private\n",
            "New York + 31 more\n",
            "23 years old\n",
            "10000+ employees\n",
            "Genpact (NYSE: G) is a global professional services firm that makes business transformation real. We drive digital-led innovation and digitally-enabled intelligent operations for our clients, guided by our experience running thousands of processes primarily for Global Fortune 500 companies. We think with design, dream in digital, and solve problems with data and analytics. Combining our expertise in end-to-end operations and our AI-based platform, Genpact Cora, we focus on the details – all 87,000+ of us. From New York to New Delhi and more than 25 countries in between, we connect every dot, reimagine every process, and reinvent companies’ ways of working. We know that reimagining each step from start to finish will create better business outcomes. Whatever it is, we’ll be there with you – accelerating digital transformation to create bold, lasting results – because transformation happens here.\n",
            "\n",
            "Genpact began in 1997 as a business unit within General Electric. In January 2005, Genpact became an independent company to bring our process expertise and unique DNA in Lean management to clients beyond GE, and then in August 2007, we became a publicly-traded company. Bain Capital became Genpact’s largest shareholder in November 2012, with the strategic objective to grow the company further. Since December 31, 2005, we have expanded from 19,000+ employees and annual revenues of US$491.90 million to 87,000+ employees and annual revenues of US$3.00 billion as of December 31, 2018.\n",
            "4.0\n",
            "Public\n",
            "Navi Mumbai + 606 more\n",
            "10 years old\n",
            "10000+ employees\n",
            "Make a new start. A start that will build beautiful relationships, shape millions of ideas. Enable a new way to live, learn, work and play.\n",
            "\n",
            "At Jio, we build products and services of the future to empower billions of Indians make their dreams a reality.\n",
            "\n",
            "Jio is about YOU. Join the movement to make India Digital.\n",
            "4.0\n",
            "Public\n",
            "Mumbai + 670 more\n",
            "27 years old\n",
            "10000+ employees\n",
            "Axis Bank is the third largest private sector bank in India. The Bank offers the entire spectrum of financial services to customer segments covering Large and Mid-Corporates, MSME, Agriculture and Retail Businesses.\n",
            "\n",
            "The Bank has a large footprint of 4,050 domestic branches (including extension counters) with 11,801 ATMs & 4,917 cash recyclers spread across the country as on 31st March, 2019. The overseas operations of the Bank are spread over nine international offices with branches at Singapore, Hong Kong, Dubai (at the DIFC), Colombo and Shanghai; representative offices at Dhaka, Dubai, Abu Dhabi and an overseas subsidiary at London, UK. The international offices focus on corporate lending, trade finance, syndication, investment banking and liability businesses.\n",
            "3.8\n",
            "Public\n",
            "Bangalore + 123 more\n",
            "75 years old\n",
            "10000+ employees\n",
            "Wipro Limited (NYSE: WIT, BSE: 507685, NSE: WIPRO) is a leading global information technology, consulting and business process services company. We harness the power of cognitive computing, hyper-automation, robotics, cloud, analytics and emerging technologies to help our clients adapt to the digital world and make them successful. A company recognized globally for its comprehensive portfolio of services, a strong commitment to sustainability and good corporate citizenship, we have over 160,000 dedicated employees serving clients across six continents. Together, we discover ideas and connect the dots to build a better and a bold new future.\n",
            "4.0\n",
            "Public\n",
            "Fremont + 39 more\n",
            "37 years old\n",
            "10000+ employees\n",
            "Concentrix is a technology-enabled global business services company specializing in customer engagement and improving business performance. We partner with ambitious, progressive executives around the world to future-proof their business and stay ahead of the competition and customer expectations.\n",
            "\n",
            "It’s all about tapping into sentiment and building an emotional connection that keeps customers and staff fanatical about your brand. That’s where we come in—we create exceptional customer engagement, accelerate digital transformation, and deliver actionable CX insights.\n",
            "\n",
            "We help you reimagine your business—and get you there faster than you ever thought possible.\n",
            "4.0\n",
            "Private\n",
            "Ahmedabad + 463 more\n",
            "13 years old\n",
            "10000+ employees\n",
            "HDB Financial Services (HDBFS) is a leading Non-Banking Financial Company (NBFC) that caters to the growing needs of an Aspirational India, serving both Individual & Business Clients.\n",
            "\n",
            "Incorporated in 2007, we are a well-established business with strong capitalization. HDBFS is accredited with CARE AAA & CRISIL AAA ratings for its long-term debt & Bank facilities and an A1+ rating for its short-term debt & commercial papers, making it a strong and reliable financial institution.\n",
            "\n",
            "HDBFS maintains a strong commitment to ethical conduct. Transparency is ingrained in the structure of our Code of Ethics and our compliance policies to ensure that the highest standards of professional conduct are consistently reinforced and embedded in every corner of the organisation.\n",
            "4.2\n",
            "Public\n",
            "Berkshire + 364 more\n",
            "38 years old\n",
            "10000+ employees\n",
            "Vodafone is a leader in technology communications through mobile, fixed, broadband and TV.\n",
            "We have extensive experience in connectivity, convergence and the Internet of Things, as well as championing mobile financial services and digital transformation in emerging markets.\n",
            "\n",
            "Since making the first mobile call in the UK on 1 January 1985, Vodafone has grown into an international business and one of the most valuable brands in the world. We have mobile operations in 24 countries, partner with mobile networks in 42 more, and provide fixed broadband in 19 markets.\n",
            "\n",
            "As of 30 September 2019, Vodafone Group had approximately 625 million mobile customers, 27 million fixed broadband customers and 22 million TV customers, including all of the customers in Vodafone’s joint ventures and associates.\n",
            "\n",
            "We’re working hard to build a digital future that works for everyone\n",
            "4.2\n",
            "Public\n",
            "New Delhi + 347 more\n",
            "25 years old\n",
            "10000+ employees\n",
            "Bharti Airtel is a leading alternative provider of telecommunications services in India and among the top ten global carriers offering services in about 20 other countries, particularly in Africa. Through subsidiaries, the company operates three business units: Telemedia Services (broadband and telephone), Enterprise Services, and Mobile Services. The Enterprise Services group aids both long-distance carriers and corporate clients. Bharti Airtel has more than 220 million mainly mobile subscribers. It provides digital television service for 5 million in India. The company is a unit of Bharti Enterprises, a conglomerate with interests in financial services, food, and retail, besides telecom.\n",
            "3.8\n",
            "Public\n",
            "Mumbai + 361 more\n",
            "17 years old\n",
            "10000+ employees\n",
            "In February 2003, Kotak Mahindra Finance Ltd. (KMFL), the Group's flagship company, received banking license from the Reserve Bank of India (RBI), becoming the first non-banking finance company in India to convert into a bank - Kotak Mahindra Bank Ltd.\n",
            "Effective April 1, 2015, ING Vysya Bank Ltd. merged with Kotak Mahindra Bank Ltd. \n",
            "The Bank has four Strategic Business Units – Consumer Banking, Corporate Banking, Commercial Banking and Treasury, which cater to retail and corporate customers across urban and rural India.\n",
            "\n",
            "The Group offers a wide range of financial services that encompass every sphere of life. From commercial banking, to stock broking, mutual funds, life insurance and investment banking, the Group caters to the diverse financial needs of individuals and the corporate sector. The Group has a wide distribution network through branches and franchisees across India, and international offices in London, New York, California, Dubai, Abu Dhabi, Bahrain, Mauritius and Singapore.\n",
            "4.1\n",
            "Private\n",
            "Washington + 182 more\n",
            "26 years old\n",
            "10000+ employees\n",
            "Amazon is guided by four principles: customer obsession rather than competitor focus, passion for invention, commitment to operational excellence, and long-term thinking. We are driven by the excitement of building technologies, inventing products, and providing services that change lives. We embrace new ways of doing things, make decisions quickly, and are not afraid to fail. We have the scope and capabilities of a large company, and the spirit and heart of a small one.\n",
            "\n",
            "Together, Amazonians research and develop new technologies from Amazon Web Services to Alexa on behalf of our customers: shoppers, sellers, content creators, and developers around the world.\n",
            "4.2\n",
            "Public\n",
            "Mumbai + 216 more\n",
            "54 years old\n",
            "10000+ employees\n",
            "Reliance Industries Limited is a Fortune 500 company and the largest private sector corporation in India.\n",
            "\n",
            "Our motto “Growth is Life” aptly captures the ever-evolving spirit of Reliance. We have evolved from being a textiles and polyester company to an integrated player across energy, materials, retail, entertainment and digital services. In each of these areas, we are committed to innovation-led, exponential growth. Our vision has pushed us to achieve global leadership in many of our businesses.\n",
            "\n",
            "Reliance's products and services portfolio touches almost all Indians on a daily basis, across economic and social spectrums. We are now focussed on building platforms that will herald the Fourth Industrial Revolution and will create opportunities and avenues for India and all its citizens to realise their true potential.\n",
            "4.1\n",
            "Public\n",
            "Pune + 478 more\n",
            "13 years old\n",
            "10000+ employees\n",
            "Bajaj Finserv was formed in April 2007 as a result of its demerger from Bajaj Auto Limited to further the Group’s interests in financial services. This demerger enabled Bajaj Finserv to independently run the core businesses of Lending, Protection and savings. Bajaj Finserv Limited is the holding company for the businesses dealing with financial services of the Bajaj Group. It serves millions of customers in the financial services space by providing solutions for asset acquisition through financing, asset protection through general insurance, family protection and income protection in the form of life and health insurance and retirement and savings solutions\n",
            "3.6\n",
            "Public\n",
            "Mumbai + 365 more\n",
            "26 years old\n",
            "10000+ employees\n",
            "IndusInd Bank is a Mumbai based scheduled private bank founded in Mumbai in April 1994. This bank offers a wide range of banking as well as financial products and services to the customers and is headquartered in Mumbai, Maharashtra. The bank has over 745 branches with a total network of over 1635 operating ATMs. It has two representative offices outside India in London and Dubai respectively.\n",
            "IndusInd Bank stands tall today as one of the reputed banking brands in the country. The bank has been continuously investing in various advertising & marketing programs to enhance the brand image & recall. In an endeavor to emerge as best-in-class brand, IndusInd Bank has made 'Responsive Innovation' as a central theme of its brand building program. The Bank has combined responsiveness with innovation to launch a wide range of banking products and services which are unique, convenient and very relevant to Indian consumer.\n",
            "4.7\n",
            "Govt agency\n",
            "New Delhi + 211 more\n",
            "125 years old\n",
            "10000+ employees\n",
            "The principal task of the Ministry is to frame policy directions on defence and security related matters and communicate them for implementation to the Services Headquarters, Inter-Service Organisations, Production Establishments and Research & Development Organisations. It is required to ensure effective implementation of the Government's policy directions and the execution of approved programmes within the allocated resources.\n",
            "3.7\n",
            "Private\n",
            "Paris + 45 more\n",
            "42 years old\n",
            "10000+ employees\n",
            "Teleperformance is the agile business services partner that companies need in this digital world.\n",
            "For over 40 years, Teleperformance has been connecting customers with the world’s most successful companies. It is the global leader in customer experience outsourcing management and the trusted provider of digitally integrated business services.\n",
            "At Teleperformance, we combine human touch and high technology to deliver extraordinary customer experiences. While technology creates new and agile ways of working, our interaction experts remain committed to creating unique connections through empathy, adaptive communication skills, and more importantly, a passion to make it happen.\n",
            "3.8\n",
            "Public\n",
            "Bangalore + 52 more\n",
            "20 years old\n",
            "10000+ employees\n",
            "A global leader in business process management (BPM) and optimizing the customer experience lifecycle, HGS is helping make its clients more competitive every day. HGS combines technology-powered services in automation, analytics, and digital with domain expertise focusing on back-office processing, contact centers, and HRO solutions to deliver transformational impact to clients. HGS takes a true “globally local” approach, with our employees making a difference to some of the world’s leading brands across nine key verticals.\n",
            "\n",
            "HGS expertise spans the telecommunications and media, healthcare, insurance, banking, consumer electronics and technology, retail, and consumer packaged goods industries, as well as the public sector. HGS operates on a global landscape with around 37000 employees in 61 worldwide locations delivering localized solutions. For the year ended 31st March 2020, HGS had revenues of US$ 737 million. HGS, part of the multi-billion dollar Hinduja Group, has more than four decades of experience working with some of the world’s most recognized brands.\n",
            "4.2\n",
            "Private\n",
            "Seoul + 292 more\n",
            "82 years old\n",
            "10000+ employees\n",
            "Samsung Electronics is a global leader in technology, opening new possibilities for people everywhere. Through relentless innovation and discovery, we are transforming the worlds of TVs, smartphones, wearable devices, tablets, digital appliances, network systems, medical devices, semiconductors and LED solutions. Samsung is also leading in the Internet of Things space through, among others, our Smart Home and Digital Health initiatives. \n",
            "\n",
            "Since being established in 1969, Samsung Electronics has grown into one of the world’s leading technology companies, and become recognized as one of the top 10 global brands. Our network now extends across the world, and Samsung takes great pride in the creativity and diversity of its talented people, who drive our growth.  To discover more, please visit our website at www.samsung.com and our official newsroom at news.samsung.com\n",
            "4.2\n",
            "Public\n",
            "Mumbai + 268 more\n",
            "75 years old\n",
            "10000+ employees\n",
            "Mahindra & Mahindra Limited is an Indian multinational car manufacturing corporation headquartered in Mumbai, Maharashtra, India.  It is one of the largest vehicle manufacturers by production in India and the largest manufacturer of tractors in the world.\n",
            "\n",
            "Established in 1947, our core automotive business has grown to become India’s No.1 Utility Vehicle maker. But we’re not content to stop there. With a portfolio that extends from pick-ups to SUVs to LCVs & HCVs, we’re committed to making “Mahindra” synonymous with world-class automobiles and we’re building an innovation ecosystem that spans USA, Europe, India and S.Korea. Whether it’s our commitment to the Future of Mobility, social responsibility, or creating customer delight - you’ll find that our vehicles today are as global as the customers we serve.\n",
            "Helping over 2 million job seekers every month in choosing their right fit\n",
            "\t\t\t\tcompany\n",
            "Reviews\n",
            "Salaries\n",
            "Interviews\n",
            "Users/month\n",
            "Trademarks belong to their respective owners. All rights reserved © 2020 Info Edge\n",
            "\t\t\t(India) Ltd.\n"
          ],
          "name": "stdout"
        }
      ]
    },
    {
      "cell_type": "code",
      "metadata": {
        "id": "q0cDFHe94QTn"
      },
      "source": [
        "#for in soup.find_all('p'):\n",
        "  #print(i.text.strip())"
      ],
      "execution_count": null,
      "outputs": []
    },
    {
      "cell_type": "markdown",
      "metadata": {
        "id": "Sy9oKse_6WdF"
      },
      "source": [
        "## TO FIND OUT THE RATINGS"
      ]
    },
    {
      "cell_type": "code",
      "metadata": {
        "id": "oTJRDIHc4aPz",
        "colab": {
          "base_uri": "https://localhost:8080/",
          "height": 34
        },
        "outputId": "4c8e54c2-73a8-4147-ec2b-96153fd87d3a"
      },
      "source": [
        "len(soup.find_all('p',class_='rating'))"
      ],
      "execution_count": null,
      "outputs": [
        {
          "output_type": "execute_result",
          "data": {
            "text/plain": [
              "30"
            ]
          },
          "metadata": {
            "tags": []
          },
          "execution_count": 10
        }
      ]
    },
    {
      "cell_type": "markdown",
      "metadata": {
        "id": "aVLBIp1q6bKi"
      },
      "source": [
        "## TO FIND OUT THE NUMBER OF REVIEWS"
      ]
    },
    {
      "cell_type": "code",
      "metadata": {
        "id": "aee5Z2bK48Gf",
        "colab": {
          "base_uri": "https://localhost:8080/",
          "height": 34
        },
        "outputId": "90210131-9c03-408c-b059-82bd7244eb37"
      },
      "source": [
        "len(soup.find_all('a' , class_='review-count'))"
      ],
      "execution_count": null,
      "outputs": [
        {
          "output_type": "execute_result",
          "data": {
            "text/plain": [
              "30"
            ]
          },
          "metadata": {
            "tags": []
          },
          "execution_count": 11
        }
      ]
    },
    {
      "cell_type": "markdown",
      "metadata": {
        "id": "PA8HCbVD7dho"
      },
      "source": [
        "# CONSIDERING THE WHOLE CONTAINER\n",
        "\n"
      ]
    },
    {
      "cell_type": "code",
      "metadata": {
        "id": "5xH_T95B9wWO"
      },
      "source": [
        "company=soup.find_all('div',class_='company-content-wrapper')"
      ],
      "execution_count": null,
      "outputs": []
    },
    {
      "cell_type": "code",
      "metadata": {
        "id": "2ALc15yw9w2E",
        "colab": {
          "base_uri": "https://localhost:8080/",
          "height": 34
        },
        "outputId": "d33cf99f-364a-4598-fdb8-736dee63bf5b"
      },
      "source": [
        "len(company)"
      ],
      "execution_count": null,
      "outputs": [
        {
          "output_type": "execute_result",
          "data": {
            "text/plain": [
              "30"
            ]
          },
          "metadata": {
            "tags": []
          },
          "execution_count": 13
        }
      ]
    },
    {
      "cell_type": "code",
      "metadata": {
        "id": "lNrFbe6I9wzM"
      },
      "source": [
        "name=[]\n",
        "rating=[]\n",
        "reviews=[]\n",
        "ctype=[]\n",
        "hq=[]\n",
        "how_old=[]\n",
        "no_of_employee=[]\n",
        "\n",
        "for i in company:\n",
        "\n",
        "  name.append(i.find('h2').text.strip())\n",
        "  rating.append(i.find('p',class_='rating').text.strip())\n",
        "  reviews.append(i.find('a' , class_='review-count').text.strip())\n",
        "  ctype.append(i.find_all('p',class_='infoEntity')[0].text.strip())\n",
        "  hq.append(i.find_all('p',class_='infoEntity')[1].text.strip())\n",
        "  how_old.append(i.find_all('p',class_='infoEntity')[2].text.strip())\n",
        "  no_of_employee.append(i.find_all('p',class_='infoEntity')[3].text.strip())\n",
        "\n",
        "df=pd.DataFrame({'name':name,\n",
        "   'rating':rating,\n",
        "   'reviews':reviews,\n",
        "   'company_type':ctype,\n",
        "   'Head_Quarters':hq,\n",
        "   'Company_Age':how_old,\n",
        "   'No_of_Employee':no_of_employee,\n",
        "   })\n",
        "\n"
      ],
      "execution_count": null,
      "outputs": []
    },
    {
      "cell_type": "code",
      "metadata": {
        "id": "cqbu_DVu68V1",
        "colab": {
          "base_uri": "https://localhost:8080/",
          "height": 527
        },
        "outputId": "82ea9fda-e0a1-4de3-c2a2-a06cc862f809"
      },
      "source": [
        "name"
      ],
      "execution_count": null,
      "outputs": [
        {
          "output_type": "execute_result",
          "data": {
            "text/plain": [
              "['TCS',\n",
              " 'Accenture',\n",
              " 'ICICI Bank',\n",
              " 'Cognizant',\n",
              " 'HDFC Bank',\n",
              " 'Capgemini',\n",
              " 'Tech Mahindra',\n",
              " 'HCL Technologies',\n",
              " 'L&T',\n",
              " 'Infosys',\n",
              " 'Tata Motors',\n",
              " 'IBM',\n",
              " 'Genpact',\n",
              " 'Reliance jio',\n",
              " 'Axis Bank',\n",
              " 'Wipro',\n",
              " 'Concentrix Corporation',\n",
              " 'HDB Financial Services',\n",
              " 'Vodafone',\n",
              " 'Bharti Airtel',\n",
              " 'Kotak Mahindra Bank',\n",
              " 'Amazon',\n",
              " 'Reliance',\n",
              " 'Bajaj Finserv',\n",
              " 'IndusInd Bank',\n",
              " 'Indian Army',\n",
              " 'Teleperformance',\n",
              " 'Hinduja Global Solutions',\n",
              " 'Samsung',\n",
              " 'Mahindra & Mahindra']"
            ]
          },
          "metadata": {
            "tags": []
          },
          "execution_count": 15
        }
      ]
    },
    {
      "cell_type": "code",
      "metadata": {
        "id": "ge7M03Fr_Fz0",
        "colab": {
          "base_uri": "https://localhost:8080/",
          "height": 527
        },
        "outputId": "dd8461c8-83eb-4a19-b0da-876d17c44aba"
      },
      "source": [
        "rating"
      ],
      "execution_count": null,
      "outputs": [
        {
          "output_type": "execute_result",
          "data": {
            "text/plain": [
              "['3.9',\n",
              " '4.0',\n",
              " '4.1',\n",
              " '3.9',\n",
              " '4.0',\n",
              " '3.4',\n",
              " '3.6',\n",
              " '3.7',\n",
              " '4.2',\n",
              " '3.9',\n",
              " '4.1',\n",
              " '4.1',\n",
              " '4.0',\n",
              " '4.0',\n",
              " '4.0',\n",
              " '3.8',\n",
              " '4.0',\n",
              " '4.0',\n",
              " '4.2',\n",
              " '4.2',\n",
              " '3.8',\n",
              " '4.1',\n",
              " '4.2',\n",
              " '4.1',\n",
              " '3.6',\n",
              " '4.7',\n",
              " '3.7',\n",
              " '3.8',\n",
              " '4.2',\n",
              " '4.2']"
            ]
          },
          "metadata": {
            "tags": []
          },
          "execution_count": 16
        }
      ]
    },
    {
      "cell_type": "code",
      "metadata": {
        "id": "U1AdxIWh_cT2",
        "colab": {
          "base_uri": "https://localhost:8080/",
          "height": 527
        },
        "outputId": "fa8a2757-558e-4609-bfb4-8e68eb273087"
      },
      "source": [
        "reviews\n"
      ],
      "execution_count": null,
      "outputs": [
        {
          "output_type": "execute_result",
          "data": {
            "text/plain": [
              "['17.1k Reviews',\n",
              " '15k Reviews',\n",
              " '13.8k Reviews',\n",
              " '12.9k Reviews',\n",
              " '12k Reviews',\n",
              " '10k Reviews',\n",
              " '9.8k Reviews',\n",
              " '9.2k Reviews',\n",
              " '9.1k Reviews',\n",
              " '8.7k Reviews',\n",
              " '8.6k Reviews',\n",
              " '8.5k Reviews',\n",
              " '8.3k Reviews',\n",
              " '8.3k Reviews',\n",
              " '8.3k Reviews',\n",
              " '7.3k Reviews',\n",
              " '7.3k Reviews',\n",
              " '6.2k Reviews',\n",
              " '5.7k Reviews',\n",
              " '5.7k Reviews',\n",
              " '5.7k Reviews',\n",
              " '5.6k Reviews',\n",
              " '4.8k Reviews',\n",
              " '4.1k Reviews',\n",
              " '3.9k Reviews',\n",
              " '3.9k Reviews',\n",
              " '3.8k Reviews',\n",
              " '3.8k Reviews',\n",
              " '3.6k Reviews',\n",
              " '3.6k Reviews']"
            ]
          },
          "metadata": {
            "tags": []
          },
          "execution_count": 17
        }
      ]
    },
    {
      "cell_type": "code",
      "metadata": {
        "id": "qD7dwe_3A0zX",
        "colab": {
          "base_uri": "https://localhost:8080/",
          "height": 527
        },
        "outputId": "17c8084e-e4c4-4d34-8b46-0a5b7edbbe17"
      },
      "source": [
        "ctype"
      ],
      "execution_count": null,
      "outputs": [
        {
          "output_type": "execute_result",
          "data": {
            "text/plain": [
              "['Public',\n",
              " 'Private',\n",
              " 'Public',\n",
              " 'Private',\n",
              " 'Public',\n",
              " 'Private',\n",
              " 'Public',\n",
              " 'Public',\n",
              " 'Public',\n",
              " 'Public',\n",
              " 'Public',\n",
              " 'Private',\n",
              " 'Private',\n",
              " 'Public',\n",
              " 'Public',\n",
              " 'Public',\n",
              " 'Public',\n",
              " 'Private',\n",
              " 'Public',\n",
              " 'Public',\n",
              " 'Public',\n",
              " 'Private',\n",
              " 'Public',\n",
              " 'Public',\n",
              " 'Public',\n",
              " 'Govt agency',\n",
              " 'Private',\n",
              " 'Public',\n",
              " 'Private',\n",
              " 'Public']"
            ]
          },
          "metadata": {
            "tags": []
          },
          "execution_count": 18
        }
      ]
    },
    {
      "cell_type": "code",
      "metadata": {
        "id": "gaBl79RWC6C9",
        "colab": {
          "base_uri": "https://localhost:8080/",
          "height": 527
        },
        "outputId": "d0846f29-36ff-4dfb-931d-af142040ea50"
      },
      "source": [
        "hq"
      ],
      "execution_count": null,
      "outputs": [
        {
          "output_type": "execute_result",
          "data": {
            "text/plain": [
              "['Mumbai + 164 more',\n",
              " 'Dublin + 98 more',\n",
              " 'Mumbai + 743 more',\n",
              " 'Teaneck + 46 more',\n",
              " 'Mumbai + 729 more',\n",
              " 'Paris + 45 more',\n",
              " 'Pune + 160 more',\n",
              " 'Noida + 111 more',\n",
              " 'Mumbai + 337 more',\n",
              " 'Bangalore + 68 more',\n",
              " 'Pune + 344 more',\n",
              " 'New York + 73 more',\n",
              " 'New York + 31 more',\n",
              " 'Navi Mumbai + 606 more',\n",
              " 'Mumbai + 670 more',\n",
              " 'Bangalore + 123 more',\n",
              " 'Fremont + 39 more',\n",
              " 'Ahmedabad + 463 more',\n",
              " 'Berkshire + 364 more',\n",
              " 'New Delhi + 347 more',\n",
              " 'Mumbai + 361 more',\n",
              " 'Washington + 182 more',\n",
              " 'Mumbai + 216 more',\n",
              " 'Pune + 478 more',\n",
              " 'Mumbai + 365 more',\n",
              " 'New Delhi + 211 more',\n",
              " 'Paris + 45 more',\n",
              " 'Bangalore + 52 more',\n",
              " 'Seoul + 292 more',\n",
              " 'Mumbai + 268 more']"
            ]
          },
          "metadata": {
            "tags": []
          },
          "execution_count": 19
        }
      ]
    },
    {
      "cell_type": "code",
      "metadata": {
        "id": "qKvcL-RSDNA_",
        "colab": {
          "base_uri": "https://localhost:8080/",
          "height": 527
        },
        "outputId": "2de2b0ee-8cfc-4390-dd42-bd92dd1a83de"
      },
      "source": [
        "how_old"
      ],
      "execution_count": null,
      "outputs": [
        {
          "output_type": "execute_result",
          "data": {
            "text/plain": [
              "['52 years old',\n",
              " '31 years old',\n",
              " '26 years old',\n",
              " '26 years old',\n",
              " '26 years old',\n",
              " '53 years old',\n",
              " '34 years old',\n",
              " '14 years old',\n",
              " '82 years old',\n",
              " '39 years old',\n",
              " '75 years old',\n",
              " '109 years old',\n",
              " '23 years old',\n",
              " '10 years old',\n",
              " '27 years old',\n",
              " '75 years old',\n",
              " '37 years old',\n",
              " '13 years old',\n",
              " '38 years old',\n",
              " '25 years old',\n",
              " '17 years old',\n",
              " '26 years old',\n",
              " '54 years old',\n",
              " '13 years old',\n",
              " '26 years old',\n",
              " '125 years old',\n",
              " '42 years old',\n",
              " '20 years old',\n",
              " '82 years old',\n",
              " '75 years old']"
            ]
          },
          "metadata": {
            "tags": []
          },
          "execution_count": 20
        }
      ]
    },
    {
      "cell_type": "code",
      "metadata": {
        "id": "xoZK-cnADjZh",
        "colab": {
          "base_uri": "https://localhost:8080/",
          "height": 527
        },
        "outputId": "c109aa60-e69f-4de4-d203-2a985e79f5c9"
      },
      "source": [
        "no_of_employee"
      ],
      "execution_count": null,
      "outputs": [
        {
          "output_type": "execute_result",
          "data": {
            "text/plain": [
              "['10000+ employees',\n",
              " '10000+ employees',\n",
              " '10000+ employees',\n",
              " '10000+ employees',\n",
              " '10000+ employees',\n",
              " '10000+ employees',\n",
              " '10000+ employees',\n",
              " '10000+ employees',\n",
              " '10000+ employees',\n",
              " '10000+ employees',\n",
              " '10000+ employees',\n",
              " '10000+ employees',\n",
              " '10000+ employees',\n",
              " '10000+ employees',\n",
              " '10000+ employees',\n",
              " '10000+ employees',\n",
              " '10000+ employees',\n",
              " '10000+ employees',\n",
              " '10000+ employees',\n",
              " '10000+ employees',\n",
              " '10000+ employees',\n",
              " '10000+ employees',\n",
              " '10000+ employees',\n",
              " '10000+ employees',\n",
              " '10000+ employees',\n",
              " '10000+ employees',\n",
              " '10000+ employees',\n",
              " '10000+ employees',\n",
              " '10000+ employees',\n",
              " '10000+ employees']"
            ]
          },
          "metadata": {
            "tags": []
          },
          "execution_count": 21
        }
      ]
    },
    {
      "cell_type": "code",
      "metadata": {
        "id": "2Tr21ds3Dnqg",
        "colab": {
          "base_uri": "https://localhost:8080/",
          "height": 34
        },
        "outputId": "180d642b-87f9-4b0a-b82d-380297fe462a"
      },
      "source": [
        "df.shape"
      ],
      "execution_count": null,
      "outputs": [
        {
          "output_type": "execute_result",
          "data": {
            "text/plain": [
              "(30, 7)"
            ]
          },
          "metadata": {
            "tags": []
          },
          "execution_count": 22
        }
      ]
    },
    {
      "cell_type": "markdown",
      "metadata": {
        "id": "BQr_Y1UYHKM2"
      },
      "source": [
        "# creating dataframe for all the pages"
      ]
    },
    {
      "cell_type": "code",
      "metadata": {
        "id": "vu0soRadFf2J"
      },
      "source": [
        "final=pd.DataFrame()\n",
        "for j in range(1,1001):\n",
        "  webpage=requests.get('https://www.ambitionbox.com/list-of-companies?page={}'.format(j)).text\n",
        "  soup=BeautifulSoup(webpage,'lxml')\n",
        "  company=soup.find_all('div',class_='company-content-wrapper')\n",
        "  name=[]\n",
        "  rating=[]\n",
        "  reviews=[]\n",
        "  ctype=[]\n",
        "  hq=[]\n",
        "  how_old=[]\n",
        "  no_of_employee=[]\n",
        "\n",
        "  for i in company:\n",
        "\n",
        "    try:\n",
        "       name.append(i.find('h2').text.strip())\n",
        "    except:\n",
        "       name.append(np.nan)\n",
        "\n",
        "    try:\n",
        "       rating.append(i.find('p',class_='rating').text.strip())\n",
        "    except:\n",
        "       rating.append(np.nan)\n",
        "\n",
        "    try:\n",
        "\n",
        "      reviews.append(i.find('a' , class_='review-count').text.strip())\n",
        "    except:\n",
        "      reviews.append(np.nan)\n",
        "\n",
        "    try:\n",
        "\n",
        "      ctype.append(i.find_all('p',class_='infoEntity')[0].text.strip())\n",
        "    except:\n",
        "      ctype.append(np.nan)\n",
        "    try:\n",
        "\n",
        "      hq.append(i.find_all('p',class_='infoEntity')[1].text.strip())\n",
        "    except:\n",
        "      hq.append(np.nan)\n",
        "\n",
        "    try:\n",
        "\n",
        "      how_old.append(i.find_all('p',class_='infoEntity')[2].text.strip())\n",
        "    except:\n",
        "      how_old.append(np.nan)\n",
        "    try:\n",
        "      no_of_employee.append(i.find_all('p',class_='infoEntity')[3].text.strip())\n",
        "    except:\n",
        "      no_of_employee.append(np.nan)\n",
        "\n",
        "\n",
        "  df=pd.DataFrame({'name':name,\n",
        "    'rating':rating,\n",
        "    'reviews':reviews,\n",
        "    'company_type':ctype,\n",
        "    'Head_Quarters':hq,\n",
        "    'Company_Age':how_old,\n",
        "    'No_of_Employee':no_of_employee,\n",
        "    })\n",
        "\n",
        "  final=final.append(df,ignore_index=True)\n",
        "\n",
        "\n",
        "\n"
      ],
      "execution_count": null,
      "outputs": []
    },
    {
      "cell_type": "code",
      "metadata": {
        "id": "nZwtx4cJD9K-",
        "colab": {
          "base_uri": "https://localhost:8080/",
          "height": 204
        },
        "outputId": "c54166f2-2c19-4870-c9bc-6b1df638a661"
      },
      "source": [
        "df.sample(5)"
      ],
      "execution_count": null,
      "outputs": [
        {
          "output_type": "execute_result",
          "data": {
            "text/html": [
              "<div>\n",
              "<style scoped>\n",
              "    .dataframe tbody tr th:only-of-type {\n",
              "        vertical-align: middle;\n",
              "    }\n",
              "\n",
              "    .dataframe tbody tr th {\n",
              "        vertical-align: top;\n",
              "    }\n",
              "\n",
              "    .dataframe thead th {\n",
              "        text-align: right;\n",
              "    }\n",
              "</style>\n",
              "<table border=\"1\" class=\"dataframe\">\n",
              "  <thead>\n",
              "    <tr style=\"text-align: right;\">\n",
              "      <th></th>\n",
              "      <th>name</th>\n",
              "      <th>rating</th>\n",
              "      <th>reviews</th>\n",
              "      <th>company_type</th>\n",
              "      <th>Head_Quarters</th>\n",
              "      <th>Company_Age</th>\n",
              "      <th>No_of_Employee</th>\n",
              "    </tr>\n",
              "  </thead>\n",
              "  <tbody>\n",
              "    <tr>\n",
              "      <th>2</th>\n",
              "      <td>Bank of America</td>\n",
              "      <td>4.3</td>\n",
              "      <td>831 Reviews</td>\n",
              "      <td>Private</td>\n",
              "      <td>Charlotte + 21 more</td>\n",
              "      <td>22 years old</td>\n",
              "      <td>10000+ employees</td>\n",
              "    </tr>\n",
              "    <tr>\n",
              "      <th>22</th>\n",
              "      <td>R.R. Donnelley</td>\n",
              "      <td>4.1</td>\n",
              "      <td>781 Reviews</td>\n",
              "      <td>Private</td>\n",
              "      <td>Chicago + 7 more</td>\n",
              "      <td>156 years old</td>\n",
              "      <td>10000+ employees</td>\n",
              "    </tr>\n",
              "    <tr>\n",
              "      <th>11</th>\n",
              "      <td>Mahindra Holidays &amp; Reso...</td>\n",
              "      <td>3.9</td>\n",
              "      <td>808 Reviews</td>\n",
              "      <td>Private</td>\n",
              "      <td>Mumbai + 70 more</td>\n",
              "      <td>24 years old</td>\n",
              "      <td>10000+ employees</td>\n",
              "    </tr>\n",
              "    <tr>\n",
              "      <th>23</th>\n",
              "      <td>GVK Emergency Management...</td>\n",
              "      <td>3.9</td>\n",
              "      <td>781 Reviews</td>\n",
              "      <td>Partnership</td>\n",
              "      <td>Hyderabad + 70 more</td>\n",
              "      <td>15 years old</td>\n",
              "      <td>10000+ employees</td>\n",
              "    </tr>\n",
              "    <tr>\n",
              "      <th>9</th>\n",
              "      <td>Itc Infotech India</td>\n",
              "      <td>3.4</td>\n",
              "      <td>814 Reviews</td>\n",
              "      <td>Private</td>\n",
              "      <td>Kolkata + 24 more</td>\n",
              "      <td>20 years old</td>\n",
              "      <td>10000+ employees</td>\n",
              "    </tr>\n",
              "  </tbody>\n",
              "</table>\n",
              "</div>"
            ],
            "text/plain": [
              "                           name rating  ...    Company_Age    No_of_Employee\n",
              "2               Bank of America    4.3  ...   22 years old  10000+ employees\n",
              "22               R.R. Donnelley    4.1  ...  156 years old  10000+ employees\n",
              "11  Mahindra Holidays & Reso...    3.9  ...   24 years old  10000+ employees\n",
              "23  GVK Emergency Management...    3.9  ...   15 years old  10000+ employees\n",
              "9            Itc Infotech India    3.4  ...   20 years old  10000+ employees\n",
              "\n",
              "[5 rows x 7 columns]"
            ]
          },
          "metadata": {
            "tags": []
          },
          "execution_count": 31
        }
      ]
    },
    {
      "cell_type": "code",
      "metadata": {
        "id": "Fj-21N8oD-0C",
        "colab": {
          "base_uri": "https://localhost:8080/",
          "height": 34
        },
        "outputId": "f6379099-423e-4279-ce90-cb4285890529"
      },
      "source": [
        "df.shape"
      ],
      "execution_count": null,
      "outputs": [
        {
          "output_type": "execute_result",
          "data": {
            "text/plain": [
              "(30, 7)"
            ]
          },
          "metadata": {
            "tags": []
          },
          "execution_count": 32
        }
      ]
    },
    {
      "cell_type": "code",
      "metadata": {
        "id": "bADESucpEM2p",
        "colab": {
          "base_uri": "https://localhost:8080/",
          "height": 34
        },
        "outputId": "8845ebe2-57c6-40cb-e49d-de6b9471fa16"
      },
      "source": [
        "final.shape"
      ],
      "execution_count": null,
      "outputs": [
        {
          "output_type": "execute_result",
          "data": {
            "text/plain": [
              "(30000, 7)"
            ]
          },
          "metadata": {
            "tags": []
          },
          "execution_count": 39
        }
      ]
    },
    {
      "cell_type": "code",
      "metadata": {
        "id": "ua1yezMhEdi5"
      },
      "source": [],
      "execution_count": null,
      "outputs": []
    }
  ]
}
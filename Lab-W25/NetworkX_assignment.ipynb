{
  "nbformat": 4,
  "nbformat_minor": 0,
  "metadata": {
    "colab": {
      "provenance": []
    },
    "kernelspec": {
      "name": "python3",
      "display_name": "Python 3"
    },
    "language_info": {
      "name": "python"
    }
  },
  "cells": [
    {
      "cell_type": "markdown",
      "source": [
        "Create an empty graph G.\n",
        "\n",
        "Add the following nodes: A, B, C, D\n",
        "\n",
        "Add the following edges: A-B, B-C, C-D, D-A, B-D"
      ],
      "metadata": {
        "id": "mEfWZy09rQ8y"
      }
    },
    {
      "cell_type": "code",
      "execution_count": null,
      "metadata": {
        "id": "yTTRilv8rJmW"
      },
      "outputs": [],
      "source": []
    },
    {
      "cell_type": "markdown",
      "source": [
        "Visualize the Graph"
      ],
      "metadata": {
        "id": "iVpQHLSBrWJW"
      }
    },
    {
      "cell_type": "code",
      "source": [],
      "metadata": {
        "id": "SLUpO8qsrZZy"
      },
      "execution_count": null,
      "outputs": []
    },
    {
      "cell_type": "markdown",
      "source": [
        "Add an attribute color to node A with value 'red'.\n",
        "\n",
        "Add a weight attribute to edge (B, D) with value 5.\n"
      ],
      "metadata": {
        "id": "6L8CwZbWrZ34"
      }
    },
    {
      "cell_type": "code",
      "source": [],
      "metadata": {
        "id": "dBArA0QkreTC"
      },
      "execution_count": null,
      "outputs": []
    },
    {
      "cell_type": "markdown",
      "source": [
        "How many nodes are there in the graph?\n",
        "\n",
        "How many edges are there?\n",
        "\n",
        "List all the neighbors of node B."
      ],
      "metadata": {
        "id": "5LjqHH8Pre5w"
      }
    },
    {
      "cell_type": "code",
      "source": [],
      "metadata": {
        "id": "AJDQw9Lprlks"
      },
      "execution_count": null,
      "outputs": []
    },
    {
      "cell_type": "markdown",
      "source": [
        "Find the shortest path between node A and node C (assuming unweighted edges).\n"
      ],
      "metadata": {
        "id": "mI3nWBedrmUv"
      }
    },
    {
      "cell_type": "code",
      "source": [],
      "metadata": {
        "id": "j_fZ1bSdrru8"
      },
      "execution_count": null,
      "outputs": []
    }
  ]
}
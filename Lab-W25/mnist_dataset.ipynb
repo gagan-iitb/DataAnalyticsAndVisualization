{
  "nbformat": 4,
  "nbformat_minor": 0,
  "metadata": {
    "colab": {
      "provenance": [],
      "gpuType": "T4"
    },
    "kernelspec": {
      "name": "python3",
      "display_name": "Python 3"
    },
    "language_info": {
      "name": "python"
    },
    "accelerator": "GPU"
  },
  "cells": [
    {
      "cell_type": "code",
      "execution_count": 1,
      "metadata": {
        "colab": {
          "base_uri": "https://localhost:8080/"
        },
        "id": "I3NgAGrwaeGn",
        "outputId": "6ad115d4-51c6-46b6-d903-b77e77b53b4c"
      },
      "outputs": [
        {
          "output_type": "stream",
          "name": "stdout",
          "text": [
            "(70000, 784)\n",
            "(70000,)\n"
          ]
        }
      ],
      "source": [
        "from sklearn.datasets import fetch_openml\n",
        "\n",
        "# Load MNIST dataset from OpenML\n",
        "mnist = fetch_openml('mnist_784', version=1)\n",
        "\n",
        "# The dataset is now in the `mnist` object\n",
        "X = mnist.data  # Features (28x28 pixel values)\n",
        "y = mnist.target  # Labels (0-9 digits)\n",
        "\n",
        "print(X.shape)  # (70000, 784), 70000 images, 28x28 pixels flattened\n",
        "print(y.shape)  # (70000,), 70000 labels\n"
      ]
    },
    {
      "cell_type": "code",
      "source": [
        "import matplotlib.pyplot as plt"
      ],
      "metadata": {
        "id": "6PfvkZHma457"
      },
      "execution_count": 4,
      "outputs": []
    },
    {
      "cell_type": "code",
      "source": [
        "image_data = mnist.data.iloc[0].values  # First image as a 784-length array\n",
        "image_data = image_data.reshape(28, 28)  # Reshape to 28x28 pixels\n",
        "\n",
        "# Display the image\n",
        "plt.imshow(image_data, cmap='gray')\n",
        "plt.title(f\"Label: {mnist.target.iloc[0]}\")\n",
        "plt.axis('off')  # Hide axes\n",
        "plt.show()"
      ],
      "metadata": {
        "colab": {
          "base_uri": "https://localhost:8080/",
          "height": 428
        },
        "id": "381du8Lvajhr",
        "outputId": "081e2124-397b-47d5-c154-73a5ec383e62"
      },
      "execution_count": 5,
      "outputs": [
        {
          "output_type": "display_data",
          "data": {
            "text/plain": [
              "<Figure size 640x480 with 1 Axes>"
            ],
            "image/png": "[encoded data removed]"
          },
          "metadata": {}
        }
      ]
    },
    {
      "cell_type": "markdown",
      "source": [
        "This is the mnist dataset.It consists of hand written digits and thier labels."
      ],
      "metadata": {
        "id": "wxZ8DEkibP46"
      }
    },
    {
      "cell_type": "markdown",
      "source": [
        "Run the classification algorithmns such as LogisticRegression,KNeighborsClassifier, GaussianNB, SVM, Decision Trees, Random forest, KMeans and compare the accuracies of all the classifications models."
      ],
      "metadata": {
        "id": "RGVNORv3bYT6"
      }
    },
    {
      "cell_type": "markdown",
      "source": [
        "You have to import the model from sklearn"
      ],
      "metadata": {
        "id": "FMbxFB2IbmGG"
      }
    },
    {
      "cell_type": "code",
      "source": [],
      "metadata": {
        "id": "bQNdH48DbN-t"
      },
      "execution_count": null,
      "outputs": []
    },
    {
      "cell_type": "code",
      "source": [],
      "metadata": {
        "id": "xiew5Kwca1OJ"
      },
      "execution_count": null,
      "outputs": []
    }
  ]
}
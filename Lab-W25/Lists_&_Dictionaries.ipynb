{
  "nbformat": 4,
  "nbformat_minor": 0,
  "metadata": {
    "colab": {
      "provenance": []
    },
    "kernelspec": {
      "name": "python3",
      "display_name": "Python 3"
    },
    "language_info": {
      "name": "python"
    }
  },
  "cells": [
    {
      "cell_type": "markdown",
      "source": [
        "# **Tutorial: Understanding List and Dictionary Operations in Python**"
      ],
      "metadata": {
        "id": "i2jsjws5a-60"
      }
    },
    {
      "cell_type": "markdown",
      "source": [
        "## **Part 1: List Operations**\n",
        "Lists are ordered, mutable collections that allow duplicates. Below, we explain commonly used list operations with examples."
      ],
      "metadata": {
        "id": "0Uqv0c0kbDtx"
      }
    },
    {
      "cell_type": "markdown",
      "source": [
        "### **1. Adding Elements**\n",
        "- **`append()`**: Adds an element to the end of the list."
      ],
      "metadata": {
        "id": "I0KrqulQb1PQ"
      }
    },
    {
      "cell_type": "code",
      "source": [
        "numbers = [10, 20, 30]\n",
        "numbers.append(40)  # Adds 40 to the end\n",
        "print(numbers)  # Output: [10, 20, 30, 40]"
      ],
      "metadata": {
        "id": "fl9j1Sqvb8YW"
      },
      "execution_count": null,
      "outputs": []
    },
    {
      "cell_type": "markdown",
      "source": [
        "- **`insert(index, element)`**: Inserts an element at a specific position."
      ],
      "metadata": {
        "id": "gUE56wVpb7LF"
      }
    },
    {
      "cell_type": "code",
      "source": [
        "numbers.insert(1, 25)  # Inserts 25 at index 1\n",
        "print(numbers)  # Output: [10, 25, 20, 30, 40]"
      ],
      "metadata": {
        "id": "iL8LvDpUce4y"
      },
      "execution_count": null,
      "outputs": []
    },
    {
      "cell_type": "markdown",
      "source": [
        "### **2. Removing Elements**\n",
        "- **`remove(element)`**: Removes the first occurrence of a value.\n"
      ],
      "metadata": {
        "id": "Eq7xU9DEcjOP"
      }
    },
    {
      "cell_type": "code",
      "source": [
        "numbers.remove(30)  # Removes the first occurrence of 30\n",
        "print(numbers)  # Output: [10, 25, 20, 40]"
      ],
      "metadata": {
        "id": "ltgZckakcr_Y"
      },
      "execution_count": null,
      "outputs": []
    },
    {
      "cell_type": "markdown",
      "source": [
        "- **`pop(index)`**: Removes and returns the element at the given index (default is the last element).\n",
        "\n"
      ],
      "metadata": {
        "id": "aUeI2SSrcwAV"
      }
    },
    {
      "cell_type": "code",
      "source": [
        "removed = numbers.pop(2)  # Removes the element at index 2\n",
        "print(removed)  # Output: 20\n",
        "print(numbers)  # Output: [10, 25, 40]"
      ],
      "metadata": {
        "id": "yal8FPgrcxaF"
      },
      "execution_count": null,
      "outputs": []
    },
    {
      "cell_type": "markdown",
      "source": [
        "### **3. Finding Elements**\n",
        "- **`index(element)`**: Returns the index of the first occurrence of a value.\n",
        "\n"
      ],
      "metadata": {
        "id": "X7rqvJ__c14n"
      }
    },
    {
      "cell_type": "code",
      "source": [
        "index = numbers.index(25)\n",
        "print(index)  # Output: 1"
      ],
      "metadata": {
        "id": "3B74duhoc2hN"
      },
      "execution_count": null,
      "outputs": []
    },
    {
      "cell_type": "markdown",
      "source": [
        "- **`count(element)`**: Counts the occurrences of a value.\n"
      ],
      "metadata": {
        "id": "hy-tvTpzh2nb"
      }
    },
    {
      "cell_type": "code",
      "source": [
        "count = numbers.count(40)\n",
        "print(count)  # Output: 1"
      ],
      "metadata": {
        "id": "EE4r9ShKh30y"
      },
      "execution_count": null,
      "outputs": []
    },
    {
      "cell_type": "markdown",
      "source": [
        "### **4. Sorting and Reversing**\n",
        "- **`sort()`**: Sorts the list in ascending order (in-place).\n"
      ],
      "metadata": {
        "id": "lg9AINdGh8BL"
      }
    },
    {
      "cell_type": "code",
      "source": [
        "numbers.sort()\n",
        "print(numbers)  # Output: [10, 25, 40]"
      ],
      "metadata": {
        "id": "Mgx9BFDSh_VO"
      },
      "execution_count": null,
      "outputs": []
    },
    {
      "cell_type": "markdown",
      "source": [
        "- **`reverse()`**: Reverses the list (in-place).\n"
      ],
      "metadata": {
        "id": "FVohLsRMiHRx"
      }
    },
    {
      "cell_type": "code",
      "source": [
        "numbers.reverse()\n",
        "print(numbers)  # Output: [40, 25, 10]"
      ],
      "metadata": {
        "id": "AA8y9qvwiIgg"
      },
      "execution_count": null,
      "outputs": []
    },
    {
      "cell_type": "markdown",
      "source": [
        "### **5. Copying and Clearing**\n",
        "- **`copy()`**: Creates a shallow copy of the list.\n"
      ],
      "metadata": {
        "id": "2Jjn5ICAiKJ3"
      }
    },
    {
      "cell_type": "code",
      "source": [
        "copy_numbers = numbers.copy()\n",
        "print(copy_numbers)  # Output: [40, 25, 10]"
      ],
      "metadata": {
        "id": "aMsgugqyiMvk"
      },
      "execution_count": null,
      "outputs": []
    },
    {
      "cell_type": "markdown",
      "source": [
        "- **`clear()`**: Removes all elements from the list.\n",
        "\n",
        "\n"
      ],
      "metadata": {
        "id": "Ohsx0TVEiO6M"
      }
    },
    {
      "cell_type": "code",
      "source": [
        "numbers.clear()\n",
        "print(numbers)  # Output: []"
      ],
      "metadata": {
        "id": "vnhgTf77iRrI"
      },
      "execution_count": null,
      "outputs": []
    },
    {
      "cell_type": "markdown",
      "source": [
        "### **6. Extending a List**\n",
        "- **`extend(iterable)`**: Adds all elements of an iterable to the end of the list.\n"
      ],
      "metadata": {
        "id": "FpjT9kdkiuuy"
      }
    },
    {
      "cell_type": "code",
      "source": [
        "numbers = [10, 20]\n",
        "numbers.extend([30, 40, 50])\n",
        "print(numbers)  # Output: [10, 20, 30, 40, 50]"
      ],
      "metadata": {
        "id": "gWqh6Urwixbv"
      },
      "execution_count": null,
      "outputs": []
    },
    {
      "cell_type": "markdown",
      "source": [
        "---"
      ],
      "metadata": {
        "id": "d175SK1sk0w_"
      }
    },
    {
      "cell_type": "markdown",
      "source": [
        "## **Part 2: Dictionary Operations**\n",
        "Dictionaries are unordered collections of key-value pairs. Keys must be unique and immutable."
      ],
      "metadata": {
        "id": "UJpkd8wCk3d4"
      }
    },
    {
      "cell_type": "markdown",
      "source": [
        "### **1. Adding and Updating Elements**\n",
        "- Add a new key-value pair:\n",
        "\n",
        "\n"
      ],
      "metadata": {
        "id": "zUrgNpdik5vu"
      }
    },
    {
      "cell_type": "code",
      "source": [
        "student_grades = {'Alice': 85, 'Bob': 90}\n",
        "student_grades['Charlie'] = 78  # Adds Charlie\n",
        "print(student_grades)  # Output: {'Alice': 85, 'Bob': 90, 'Charlie': 78}"
      ],
      "metadata": {
        "id": "yODLidJgk84S"
      },
      "execution_count": null,
      "outputs": []
    },
    {
      "cell_type": "markdown",
      "source": [
        "- Update an existing key's value:\n"
      ],
      "metadata": {
        "id": "XkB0AtE8k_2O"
      }
    },
    {
      "cell_type": "code",
      "source": [
        "student_grades['Alice'] = 88  # Updates Alice's grade\n",
        "print(student_grades)  # Output: {'Alice': 88, 'Bob': 90, 'Charlie': 78}"
      ],
      "metadata": {
        "id": "uBWEHhtFlDBd"
      },
      "execution_count": null,
      "outputs": []
    },
    {
      "cell_type": "markdown",
      "source": [
        "### **2. Removing Elements**\n",
        "- **`pop(key)`**: Removes and returns the value associated with the key.\n"
      ],
      "metadata": {
        "id": "mWy4x2_4lIfT"
      }
    },
    {
      "cell_type": "code",
      "source": [
        "removed = student_grades.pop('Bob')\n",
        "print(removed)  # Output: 90\n",
        "print(student_grades)  # Output: {'Alice': 88, 'Charlie': 78}"
      ],
      "metadata": {
        "id": "BVcxeYtnlKAv"
      },
      "execution_count": null,
      "outputs": []
    },
    {
      "cell_type": "markdown",
      "source": [
        "- **`clear()`**: Removes all key-value pairs.\n"
      ],
      "metadata": {
        "id": "0L0QAdvYlM0R"
      }
    },
    {
      "cell_type": "code",
      "source": [
        "student_grades.clear()\n",
        "print(student_grades)  # Output: {}"
      ],
      "metadata": {
        "id": "mrcj0Q_BlOEf"
      },
      "execution_count": null,
      "outputs": []
    },
    {
      "cell_type": "markdown",
      "source": [
        "### **3. Retrieving Elements**\n",
        "- **`get(key)`**: Returns the value for a key or `None` if the key doesn’t exist.\n",
        "\n"
      ],
      "metadata": {
        "id": "RxQqeQA5n7pH"
      }
    },
    {
      "cell_type": "code",
      "source": [
        "bob_grade = student_grades.get('Bob', 'Not Found')\n",
        "print(bob_grade)  # Output: Not Found"
      ],
      "metadata": {
        "id": "LJZvQZYpn-zF"
      },
      "execution_count": null,
      "outputs": []
    },
    {
      "cell_type": "markdown",
      "source": [
        "- Check for a key:\n",
        "\n"
      ],
      "metadata": {
        "id": "jSGVJXBKoAmu"
      }
    },
    {
      "cell_type": "code",
      "source": [
        "is_present = 'Alice' in student_grades\n",
        "print(is_present)  # Output: True"
      ],
      "metadata": {
        "id": "cngav4XpoDQ7"
      },
      "execution_count": null,
      "outputs": []
    },
    {
      "cell_type": "markdown",
      "source": [
        "### **4. Keys, Values, and Items**\n",
        "- **`keys()`**: Returns a view of all keys.\n"
      ],
      "metadata": {
        "id": "UdhBx0IvoGFg"
      }
    },
    {
      "cell_type": "code",
      "source": [
        "keys = student_grades.keys()\n",
        "print(keys)  # Output: dict_keys(['Alice', 'Charlie'])"
      ],
      "metadata": {
        "id": "B4Gdu8k3oJAR"
      },
      "execution_count": null,
      "outputs": []
    },
    {
      "cell_type": "markdown",
      "source": [
        "- **`values()`**: Returns a view of all values.\n",
        "\n"
      ],
      "metadata": {
        "id": "lyZLx0SMoKqz"
      }
    },
    {
      "cell_type": "code",
      "source": [
        "values = student_grades.values()\n",
        "print(values)  # Output: dict_values([88, 78])"
      ],
      "metadata": {
        "id": "oZYpFzqnoM7c"
      },
      "execution_count": null,
      "outputs": []
    },
    {
      "cell_type": "markdown",
      "source": [
        "- **`items()`**: Returns a view of all key-value pairs as tuples.\n",
        "\n"
      ],
      "metadata": {
        "id": "3k9LRmpBoOx_"
      }
    },
    {
      "cell_type": "code",
      "source": [
        "items = student_grades.items()\n",
        "print(items)  # Output: dict_items([('Alice', 88), ('Charlie', 78)])"
      ],
      "metadata": {
        "id": "hsFIzUIwoR6y"
      },
      "execution_count": null,
      "outputs": []
    },
    {
      "cell_type": "markdown",
      "source": [
        "### **5. Merging Dictionaries**\n",
        "- **`update()`**: Adds or updates key-value pairs from another dictionary.\n"
      ],
      "metadata": {
        "id": "ZCcycI1UoVAm"
      }
    },
    {
      "cell_type": "code",
      "source": [
        "new_grades = {'Diana': 92, 'Eve': 87}\n",
        "student_grades.update(new_grades)\n",
        "print(student_grades)  # Output: {'Alice': 88, 'Charlie': 78, 'Diana': 92, 'Eve': 87}"
      ],
      "metadata": {
        "id": "HoRkQ7-7oYKW"
      },
      "execution_count": null,
      "outputs": []
    },
    {
      "cell_type": "markdown",
      "source": [
        "---"
      ],
      "metadata": {
        "id": "VfNJZBTvoa1I"
      }
    },
    {
      "cell_type": "markdown",
      "source": [
        "## **Summary**\n",
        "- Lists are best for ordered, sequential data, while dictionaries are ideal for key-value mappings.\n",
        "- Both data structures offer a range of methods to manipulate, retrieve, and update their contents."
      ],
      "metadata": {
        "id": "cNy4wJW8omvL"
      }
    },
    {
      "cell_type": "markdown",
      "source": [
        "---"
      ],
      "metadata": {
        "id": "nXDvnzPxovfC"
      }
    },
    {
      "cell_type": "markdown",
      "source": [
        "## Exercises"
      ],
      "metadata": {
        "id": "akv1MXLhozgm"
      }
    },
    {
      "cell_type": "markdown",
      "source": [
        "### On Lists"
      ],
      "metadata": {
        "id": "ocQ6_AhAo25y"
      }
    },
    {
      "cell_type": "code",
      "source": [
        "# Given list\n",
        "numbers = [10, 20, 30, 40, 50, 60, 70, 80, 90, 100]"
      ],
      "metadata": {
        "id": "7dNI39fEop5g"
      },
      "execution_count": null,
      "outputs": []
    },
    {
      "cell_type": "code",
      "source": [
        "# 1. Add a new number (e.g., 110) to the end of the list\n",
        "numbers.append(______)"
      ],
      "metadata": {
        "id": "ucgfGqAGpOTI"
      },
      "execution_count": null,
      "outputs": []
    },
    {
      "cell_type": "code",
      "source": [
        "# 2. Insert the number 25 at the 2nd position\n",
        "numbers.insert(______, ______)"
      ],
      "metadata": {
        "id": "ikouEzb7pOJu"
      },
      "execution_count": null,
      "outputs": []
    },
    {
      "cell_type": "code",
      "source": [
        "# 3. Remove the number 40 from the list\n",
        "numbers.remove(______)"
      ],
      "metadata": {
        "id": "dzyYxBr2pOGU"
      },
      "execution_count": null,
      "outputs": []
    },
    {
      "cell_type": "code",
      "source": [
        "# 4. Find the index of the number 60 in the list\n",
        "index = numbers.index(______)"
      ],
      "metadata": {
        "id": "P1e-8RRxpOD1"
      },
      "execution_count": null,
      "outputs": []
    },
    {
      "cell_type": "code",
      "source": [
        "# 5. Sort the list in descending order\n",
        "numbers.sort(______)"
      ],
      "metadata": {
        "id": "qX-LdsK7pOBo"
      },
      "execution_count": null,
      "outputs": []
    },
    {
      "cell_type": "code",
      "source": [
        "# 6. Reverse the order of the list\n",
        "numbers.______()"
      ],
      "metadata": {
        "id": "Kp8lEarFpN39"
      },
      "execution_count": null,
      "outputs": []
    },
    {
      "cell_type": "code",
      "source": [
        "# 7. Count the occurrences of the number 30 in the list\n",
        "count = numbers.count(______)"
      ],
      "metadata": {
        "id": "z90JFL1bpjX0"
      },
      "execution_count": null,
      "outputs": []
    },
    {
      "cell_type": "code",
      "source": [
        "# 8. Create a copy of the list\n",
        "numbers_copy = numbers.______()"
      ],
      "metadata": {
        "id": "3n0ZQnQ5pjUR"
      },
      "execution_count": null,
      "outputs": []
    },
    {
      "cell_type": "code",
      "source": [
        "# 9. Clear all elements from the list\n",
        "numbers.______()"
      ],
      "metadata": {
        "id": "J257DaympjKf"
      },
      "execution_count": null,
      "outputs": []
    },
    {
      "cell_type": "code",
      "source": [
        "# 10. Extend the list by adding another list [200, 300, 400]\n",
        "numbers.extend(______)"
      ],
      "metadata": {
        "id": "yQg6BpAQpppU"
      },
      "execution_count": null,
      "outputs": []
    },
    {
      "cell_type": "markdown",
      "source": [
        "---"
      ],
      "metadata": {
        "id": "z93jf5gXpsUG"
      }
    },
    {
      "cell_type": "markdown",
      "source": [
        "### On Dictionaries"
      ],
      "metadata": {
        "id": "dZRCQ4-ypuil"
      }
    },
    {
      "cell_type": "code",
      "source": [
        "# Given dictionary\n",
        "student_grades = {\n",
        "    'Alice': 85,\n",
        "    'Bob': 90,\n",
        "    'Charlie': 78,\n",
        "    'Diana': 92\n",
        "}"
      ],
      "metadata": {
        "id": "n47Tx2BNpwZC"
      },
      "execution_count": null,
      "outputs": []
    },
    {
      "cell_type": "code",
      "source": [
        "# 1. Add a new student 'Eve' with a grade of 88\n",
        "student_grades[______] = ______"
      ],
      "metadata": {
        "id": "sbJMulEDp8dB"
      },
      "execution_count": null,
      "outputs": []
    },
    {
      "cell_type": "code",
      "source": [
        "# 2. Update Charlie's grade to 80\n",
        "student_grades[______] = ______"
      ],
      "metadata": {
        "id": "8DAPn7ZOp8Yb"
      },
      "execution_count": null,
      "outputs": []
    },
    {
      "cell_type": "code",
      "source": [
        "# 3. Remove Diana from the dictionary\n",
        "student_grades.pop(______)"
      ],
      "metadata": {
        "id": "2y2-gk4zp8VB"
      },
      "execution_count": null,
      "outputs": []
    },
    {
      "cell_type": "code",
      "source": [
        "# 4. Retrieve the grade for Bob\n",
        "bob_grade = student_grades.get(______)"
      ],
      "metadata": {
        "id": "JNZ7W3hpp8Sg"
      },
      "execution_count": null,
      "outputs": []
    },
    {
      "cell_type": "code",
      "source": [
        "# 5. Check if 'Alice' is in the dictionary\n",
        "is_alice_present = 'Alice' in ______"
      ],
      "metadata": {
        "id": "SbxWMbupp8Ps"
      },
      "execution_count": null,
      "outputs": []
    },
    {
      "cell_type": "code",
      "source": [
        "# 6. Get all the keys in the dictionary\n",
        "keys = student_grades.______()"
      ],
      "metadata": {
        "id": "T0O7KHXJp8NY"
      },
      "execution_count": null,
      "outputs": []
    },
    {
      "cell_type": "code",
      "source": [
        "# 7. Get all the values in the dictionary\n",
        "values = student_grades.______()"
      ],
      "metadata": {
        "id": "xdIw03rcp8LB"
      },
      "execution_count": null,
      "outputs": []
    },
    {
      "cell_type": "code",
      "source": [
        "# 8. Get all key-value pairs as a list of tuples\n",
        "items = student_grades.______()"
      ],
      "metadata": {
        "id": "VRWnHQ0tp8IZ"
      },
      "execution_count": null,
      "outputs": []
    },
    {
      "cell_type": "code",
      "source": [
        "# 9. Clear all entries in the dictionary\n",
        "student_grades.______()"
      ],
      "metadata": {
        "id": "NshZW21Fp8F7"
      },
      "execution_count": null,
      "outputs": []
    },
    {
      "cell_type": "code",
      "source": [
        "# 10. Merge another dictionary {'Frank': 75, 'Grace': 88} into student_grades\n",
        "student_grades.update(______)"
      ],
      "metadata": {
        "id": "u3l_XSP-p8Dx"
      },
      "execution_count": null,
      "outputs": []
    },
    {
      "cell_type": "markdown",
      "source": [
        "---"
      ],
      "metadata": {
        "id": "KjQLh2pcvnHF"
      }
    },
    {
      "cell_type": "markdown",
      "source": [
        "## Some Advanced Exercises"
      ],
      "metadata": {
        "id": "q3piBK9wqwJT"
      }
    },
    {
      "cell_type": "markdown",
      "source": [
        "### On Lists"
      ],
      "metadata": {
        "id": "lauU6ARNq1gS"
      }
    },
    {
      "cell_type": "markdown",
      "source": [
        "1. Write a function to find the second largest number in a list."
      ],
      "metadata": {
        "id": "Gv_PrXg3q7Az"
      }
    },
    {
      "cell_type": "code",
      "source": [],
      "metadata": {
        "id": "-zGeF0eHq9x1"
      },
      "execution_count": null,
      "outputs": []
    },
    {
      "cell_type": "markdown",
      "source": [
        "2. Rotate a list to the left by `n` positions (e.g., [1, 2, 3, 4] becomes [3, 4, 1, 2] for `n=2`).\n"
      ],
      "metadata": {
        "id": "jouSeGLaq69X"
      }
    },
    {
      "cell_type": "code",
      "source": [],
      "metadata": {
        "id": "zhSU8A89q_9y"
      },
      "execution_count": null,
      "outputs": []
    },
    {
      "cell_type": "markdown",
      "source": [
        "3. Flatten a nested list (e.g., [[1, 2], [3, 4]] becomes [1, 2, 3, 4]).\n",
        "\n",
        "\n"
      ],
      "metadata": {
        "id": "2lAgaorWq60e"
      }
    },
    {
      "cell_type": "code",
      "source": [],
      "metadata": {
        "id": "POM1YVQOrEbW"
      },
      "execution_count": null,
      "outputs": []
    },
    {
      "cell_type": "markdown",
      "source": [
        "4. Remove duplicates from a list while maintaining order.\n"
      ],
      "metadata": {
        "id": "tmwlweoMq6xC"
      }
    },
    {
      "cell_type": "code",
      "source": [],
      "metadata": {
        "id": "Vy6QlgK3rGw9"
      },
      "execution_count": null,
      "outputs": []
    },
    {
      "cell_type": "markdown",
      "source": [
        "5. Find all pairs in a list that sum to a target value.\n"
      ],
      "metadata": {
        "id": "5BulvZQxq6uq"
      }
    },
    {
      "cell_type": "code",
      "source": [],
      "metadata": {
        "id": "00wW2gNGrJB3"
      },
      "execution_count": null,
      "outputs": []
    },
    {
      "cell_type": "markdown",
      "source": [
        "6. Merge two sorted lists into a single sorted list.\n"
      ],
      "metadata": {
        "id": "0skapbG4q6sG"
      }
    },
    {
      "cell_type": "code",
      "source": [],
      "metadata": {
        "id": "_2-vde2drL8O"
      },
      "execution_count": null,
      "outputs": []
    },
    {
      "cell_type": "markdown",
      "source": [
        "7. Split a list into chunks of size `n`.\n"
      ],
      "metadata": {
        "id": "j4DaKYUdq6pE"
      }
    },
    {
      "cell_type": "code",
      "source": [],
      "metadata": {
        "id": "FmuX7Eb8rOdy"
      },
      "execution_count": null,
      "outputs": []
    },
    {
      "cell_type": "markdown",
      "source": [
        "8. Find the intersection of two lists.\n"
      ],
      "metadata": {
        "id": "2qmH42NEq6mn"
      }
    },
    {
      "cell_type": "code",
      "source": [],
      "metadata": {
        "id": "4zP_KHeirSMF"
      },
      "execution_count": null,
      "outputs": []
    },
    {
      "cell_type": "markdown",
      "source": [
        "9. Check if a list is a palindrome."
      ],
      "metadata": {
        "id": "QFqIycUkq6kE"
      }
    },
    {
      "cell_type": "code",
      "source": [],
      "metadata": {
        "id": "Yii8TRCPrSlm"
      },
      "execution_count": null,
      "outputs": []
    },
    {
      "cell_type": "markdown",
      "source": [
        "10. Replace all occurrences of an element with another value.\n"
      ],
      "metadata": {
        "id": "fOEAmHlBq6hx"
      }
    },
    {
      "cell_type": "code",
      "source": [],
      "metadata": {
        "id": "gGyo7tYZrTBy"
      },
      "execution_count": null,
      "outputs": []
    },
    {
      "cell_type": "markdown",
      "source": [
        "### On Dictionaries"
      ],
      "metadata": {
        "id": "c3440ZcEvAQc"
      }
    },
    {
      "cell_type": "markdown",
      "source": [
        "1. Write a function to invert a dictionary (swap keys and values).\n"
      ],
      "metadata": {
        "id": "4D1hyK0FvDcc"
      }
    },
    {
      "cell_type": "code",
      "source": [],
      "metadata": {
        "id": "B8DDt-k3vHUi"
      },
      "execution_count": null,
      "outputs": []
    },
    {
      "cell_type": "markdown",
      "source": [
        "2. Merge two dictionaries, summing values for common keys.\n"
      ],
      "metadata": {
        "id": "OYrXbHWVvDVc"
      }
    },
    {
      "cell_type": "code",
      "source": [],
      "metadata": {
        "id": "Z7FCOJRdvJcm"
      },
      "execution_count": null,
      "outputs": []
    },
    {
      "cell_type": "markdown",
      "source": [
        "3. Find the key with the highest value in a dictionary.\n"
      ],
      "metadata": {
        "id": "7l5we73hvDSF"
      }
    },
    {
      "cell_type": "code",
      "source": [],
      "metadata": {
        "id": "d4Vorc-DvLLA"
      },
      "execution_count": null,
      "outputs": []
    },
    {
      "cell_type": "markdown",
      "source": [
        "4. Group a list of tuples by the first element (e.g., [(\"a\", 1), (\"b\", 2), (\"a\", 3)] becomes {\"a\": [1, 3], \"b\": [2]}).\n"
      ],
      "metadata": {
        "id": "Yix_jsUhvDPj"
      }
    },
    {
      "cell_type": "code",
      "source": [],
      "metadata": {
        "id": "hq3ukOKzvNG1"
      },
      "execution_count": null,
      "outputs": []
    },
    {
      "cell_type": "markdown",
      "source": [
        "5. Count the frequency of characters in a string using a dictionary.\n"
      ],
      "metadata": {
        "id": "zJFwo23nvDNO"
      }
    },
    {
      "cell_type": "code",
      "source": [],
      "metadata": {
        "id": "lBGo-gUwvSFw"
      },
      "execution_count": null,
      "outputs": []
    },
    {
      "cell_type": "markdown",
      "source": [
        "6. Create a nested dictionary from two lists (keys and values).\n"
      ],
      "metadata": {
        "id": "5KI7G3r9vDKs"
      }
    },
    {
      "cell_type": "code",
      "source": [],
      "metadata": {
        "id": "VGgI6Ek9vTIm"
      },
      "execution_count": null,
      "outputs": []
    },
    {
      "cell_type": "markdown",
      "source": [
        "7. Sort a dictionary by its values in descending order.\n"
      ],
      "metadata": {
        "id": "bB72M07hvDID"
      }
    },
    {
      "cell_type": "code",
      "source": [],
      "metadata": {
        "id": "N4kq_xB3vVf_"
      },
      "execution_count": null,
      "outputs": []
    },
    {
      "cell_type": "markdown",
      "source": [
        "8. Filter a dictionary to include only keys that start with a specific letter.\n"
      ],
      "metadata": {
        "id": "KTGkftyNvDFh"
      }
    },
    {
      "cell_type": "code",
      "source": [],
      "metadata": {
        "id": "Gpey-mXQvXXZ"
      },
      "execution_count": null,
      "outputs": []
    },
    {
      "cell_type": "markdown",
      "source": [
        "9. Combine multiple dictionaries into one.\n"
      ],
      "metadata": {
        "id": "LASVPUZrvDDM"
      }
    },
    {
      "cell_type": "code",
      "source": [],
      "metadata": {
        "id": "uH-3HNHWva1r"
      },
      "execution_count": null,
      "outputs": []
    },
    {
      "cell_type": "markdown",
      "source": [
        "10. Write a function to check if two dictionaries are identical.\n"
      ],
      "metadata": {
        "id": "P5RK-PwAvDAl"
      }
    },
    {
      "cell_type": "code",
      "source": [],
      "metadata": {
        "id": "GP9nshk6vCUY"
      },
      "execution_count": null,
      "outputs": []
    }
  ]
}
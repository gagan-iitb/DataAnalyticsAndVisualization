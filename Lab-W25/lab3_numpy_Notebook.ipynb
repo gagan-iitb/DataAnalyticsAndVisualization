{
  "nbformat": 4,
  "nbformat_minor": 0,
  "metadata": {
    "colab": {
      "provenance": []
    },
    "kernelspec": {
      "name": "python3",
      "display_name": "Python 3"
    },
    "language_info": {
      "name": "python"
    }
  },
  "cells": [
    {
      "cell_type": "markdown",
      "source": [
        "**Numpy**\n",
        "\n",
        "---\n",
        "\n",
        "\n",
        "**Definition:** NumPy (Numerical Python) is a fundamental library for scientific computing in Python. It provides powerful data structures, such as multi-dimensional arrays, and a large collection of mathematical functions that make it easier and faster to work with numerical data. It’s widely used in fields like data science, machine learning, scientific computing, and more."
      ],
      "metadata": {
        "id": "ez9a7X12Gb2Z"
      }
    },
    {
      "cell_type": "code",
      "execution_count": 35,
      "metadata": {
        "id": "JB8tV4pIEgi1"
      },
      "outputs": [],
      "source": [
        "#import Library\n",
        "import numpy as np"
      ]
    },
    {
      "cell_type": "markdown",
      "source": [
        "**Array Creation Functions**\n",
        "\n",
        "**1. **\n",
        "\n",
        "**np.array():** Creates a NumPy array from a Python list or another array.\n",
        "\n",
        "**np.zeros():** Creates an array filled with zeros.\n",
        "\n",
        "**np.ones():** Creates an array filled with ones.\n",
        "\n",
        "**np.arange():** Creates an array with evenly spaced values within a specified range.\n",
        "\n",
        "**np.linspace():** Creates an array with a specified number of evenly spaced values between a start and end value.\n",
        "\n",
        "**np.eye():** Creates an identity matrix."
      ],
      "metadata": {
        "id": "0qGtjphlHp3x"
      }
    },
    {
      "cell_type": "code",
      "source": [
        "import numpy as np\n",
        "\n",
        "# Creating a NumPy array from a Python list\n",
        "print('Creating Array : ')\n",
        "arr = np.array([1, 2, 3, 4])\n",
        "print(arr)\n",
        "#zero filling\n",
        "print('Creating Array with 0 fill : ')\n",
        "arr_zeros = np.zeros((3, 3))\n",
        "print(arr_zeros)\n",
        "#One filling\n",
        "print('Creating Array with 1 fill : ')\n",
        "arr_ones = np.ones((2, 3))\n",
        "print(arr_ones)\n",
        "# Creating an array with values from 0 to 9 (exclusive)\n",
        "print('Creating Array with sequence value : ')\n",
        "arr_range = np.arange(10)\n",
        "print(arr_range)\n",
        "# 5 evenly spaced numbers between 0 and 10\n",
        "print('Creating Array with evenly spaced numbers between 0 and 10 : ')\n",
        "arr = np.linspace(0, 10, 5)\n",
        "print(\"Linspace:\", arr)\n",
        "print('Creating identity matrix : ')\n",
        "arr = np.eye(3)  # 3x3 identity matrix\n",
        "print(\"Creating opposite of Identity Matrix:\\n\", arr)\n",
        "arr = np.fliplr(arr)\n",
        "print(\"Matrix with ones on the opposite diagonal:\\n\", arr)"
      ],
      "metadata": {
        "colab": {
          "base_uri": "https://localhost:8080/"
        },
        "id": "W13dBecNG4nY",
        "outputId": "1729245c-9048-485b-bf38-482579c556ce"
      },
      "execution_count": null,
      "outputs": [
        {
          "output_type": "stream",
          "name": "stdout",
          "text": [
            "Creating Array : \n",
            "[1 2 3 4]\n",
            "Creating Array with 0 fill : \n",
            "[[0. 0. 0.]\n",
            " [0. 0. 0.]\n",
            " [0. 0. 0.]]\n",
            "Creating Array with 1 fill : \n",
            "[[1. 1. 1.]\n",
            " [1. 1. 1.]]\n",
            "Creating Array with sequence value : \n",
            "[0 1 2 3 4 5 6 7 8 9]\n",
            "Creating Array with evenly spaced numbers between 0 and 10 : \n",
            "Linspace: [ 0.   2.5  5.   7.5 10. ]\n",
            "Creating identity matrix : \n",
            "Creating opposite of Identity Matrix:\n",
            " [[1. 0. 0.]\n",
            " [0. 1. 0.]\n",
            " [0. 0. 1.]]\n",
            "Matrix with ones on the opposite diagonal:\n",
            " [[0. 0. 1.]\n",
            " [0. 1. 0.]\n",
            " [1. 0. 0.]]\n"
          ]
        }
      ]
    },
    {
      "cell_type": "markdown",
      "source": [
        "**2.** The **ndim** function in NumPy is an attribute that returns the number of dimensions (also called the rank) of a NumPy array"
      ],
      "metadata": {
        "id": "UWN1t96YVq5R"
      }
    },
    {
      "cell_type": "code",
      "source": [
        "# 1. Scalar (0D Array): A scalar is just a single number, so it has 0 dimensions.\n",
        "import numpy as np\n",
        "scalar = np.array(5)\n",
        "print(scalar.ndim)  # Output: 0\n",
        "\n",
        "# 2. 1D Array (Vector): A 1D array is like a list or vector.\n",
        "vector = np.array([1, 2, 3, 4])\n",
        "print(vector.ndim)  # Output: 1\n",
        "\n",
        "# 3. 2D Array (Matrix): A 2D array is a matrix (rows and columns).\n",
        "matrix = np.array([[1, 2, 3], [4, 5, 6]])\n",
        "print(matrix.ndim)  # Output: 2\n",
        "\n",
        "# 4. 3D Array: A 3D array is a \"cube\" of numbers, with layers.\n",
        "cube = np.array([[[1, 2], [3, 4]], [[5, 6], [7, 8]]])\n",
        "print(cube.ndim)  # Output: 3\n",
        "\n",
        "# 5. Higher-Dimensional Array: For higher-dimensional arrays, ndim will return the number of axes.\n",
        "high_dim_array = np.random.rand(2, 3, 4, 5)\n",
        "print(high_dim_array.ndim)  # Output: 4 (4-dimensional array)"
      ],
      "metadata": {
        "colab": {
          "base_uri": "https://localhost:8080/"
        },
        "id": "iqjKVo34JUMH",
        "outputId": "e734628f-e45f-4248-ab07-a08ab21fd94b"
      },
      "execution_count": null,
      "outputs": [
        {
          "output_type": "stream",
          "name": "stdout",
          "text": [
            "0\n",
            "1\n",
            "2\n",
            "3\n",
            "4\n"
          ]
        }
      ]
    },
    {
      "cell_type": "markdown",
      "source": [
        "**3.** The **shape** function in NumPy is an attribute that returns the dimensions of an array."
      ],
      "metadata": {
        "id": "Gu8c3cERQbuF"
      }
    },
    {
      "cell_type": "code",
      "source": [
        "import numpy as np\n",
        "print('A scalar is a single number, so the shape is an empty tuple')\n",
        "scalar = np.array(5)\n",
        "print(scalar.shape)  # Output: ()\n",
        "print('A 1D array (vector) has only one axis')\n",
        "vector = np.array([1, 2, 3, 4])\n",
        "print(vector.shape)  # Output: (4,)  -> 4 elements in a 1D array\n",
        "\n",
        "print('A 2D array (matrix) has two axes: rows and columns.')\n",
        "matrix = np.array([[1, 2, 3], [4, 5, 6]])\n",
        "print(matrix.shape)  # Output: (2, 3)  -> 2 rows and 3 columns\n",
        "\n",
        "print('A 3D array has three axes: depth, rows, and columns.')\n",
        "cube = np.array([[[1, 2], [3, 4]], [[5, 6], [7, 8]]])\n",
        "print(cube.shape)  # Output: (2, 2, 2)  -> 2 layers, each with 2 rows and 2 columns\n",
        "\n",
        "print('For higher-dimensional arrays, shape will return a tuple with the size of each dimension.')\n",
        "high_dim_array = np.random.rand(2, 3, 4, 5)\n",
        "print(high_dim_array.shape)  # Output: (2, 3, 4, 5) -> 2 layers, 3 rows, 4 columns, 5 depth\n"
      ],
      "metadata": {
        "colab": {
          "base_uri": "https://localhost:8080/"
        },
        "id": "UelnlAE7QVhE",
        "outputId": "7297f267-e431-49dc-81f3-92f42d0ea5c7"
      },
      "execution_count": null,
      "outputs": [
        {
          "output_type": "stream",
          "name": "stdout",
          "text": [
            "A scalar is a single number, so the shape is an empty tuple\n",
            "()\n",
            "A 1D array (vector) has only one axis\n",
            "(4,)\n",
            "A 2D array (matrix) has two axes: rows and columns.\n",
            "(2, 3)\n",
            "A 3D array has three axes: depth, rows, and columns.\n",
            "(2, 2, 2)\n",
            "For higher-dimensional arrays, shape will return a tuple with the size of each dimension.\n",
            "(2, 3, 4, 5)\n"
          ]
        }
      ]
    },
    {
      "cell_type": "markdown",
      "source": [
        "**Modifying the Shape:** **reshape()**\n"
      ],
      "metadata": {
        "id": "ibk3PUmIY5u-"
      }
    },
    {
      "cell_type": "code",
      "source": [
        "# We can reshape an array to a different shape as long as the total number of elements remains the same.\n",
        "arr = np.array([1, 2, 3, 4, 5, 6])\n",
        "print(arr.shape)\n",
        "reshaped_arr = arr.reshape(2, 3)  # 2 rows, 3 columns\n",
        "print(reshaped_arr.shape)\n",
        "print('Actual Arrary')\n",
        "print(arr)\n",
        "print('Reshaped')\n",
        "print(reshaped_arr)\n"
      ],
      "metadata": {
        "colab": {
          "base_uri": "https://localhost:8080/"
        },
        "id": "go68-Tj8TMfP",
        "outputId": "68f30d0f-16a6-4462-e885-a038a853cdab"
      },
      "execution_count": null,
      "outputs": [
        {
          "output_type": "stream",
          "name": "stdout",
          "text": [
            "(6,)\n",
            "(2, 3)\n",
            "Actual Arrary\n",
            "[1 2 3 4 5 6]\n",
            "Reshaped\n",
            "[[1 2 3]\n",
            " [4 5 6]]\n"
          ]
        }
      ]
    },
    {
      "cell_type": "code",
      "source": [
        "import random\n",
        "\n",
        "random_float = random.random()\n",
        "print(f\"Random float between 0 and 1: {random_float}\")\n"
      ],
      "metadata": {
        "colab": {
          "base_uri": "https://localhost:8080/"
        },
        "id": "w0TIz0oSEsZn",
        "outputId": "b0a58c17-ef0b-408d-cdec-e26df5e6dce2"
      },
      "execution_count": null,
      "outputs": [
        {
          "output_type": "stream",
          "name": "stdout",
          "text": [
            "Random float between 0 and 1: 0.6568543881233202\n"
          ]
        }
      ]
    },
    {
      "cell_type": "code",
      "source": [
        "random_int = random.randint(1, 100)  # Random integer between 1 and 100\n",
        "print(f\"Random integer between 1 and 100: {random_int}\")\n"
      ],
      "metadata": {
        "colab": {
          "base_uri": "https://localhost:8080/"
        },
        "id": "u_vARzngEtXa",
        "outputId": "960261bb-5aa2-473b-cf69-9bb35e02104c"
      },
      "execution_count": null,
      "outputs": [
        {
          "output_type": "stream",
          "name": "stdout",
          "text": [
            "Random integer between 1 and 100: 72\n"
          ]
        }
      ]
    },
    {
      "cell_type": "code",
      "source": [
        "choices = ['apple', 'banana', 'cherry', 'date']\n",
        "random_choice = random.choice(choices)\n",
        "print(f\"Random choice from list: {random_choice}\")\n"
      ],
      "metadata": {
        "colab": {
          "base_uri": "https://localhost:8080/"
        },
        "id": "4j5WZwVNE8r5",
        "outputId": "8350c450-7d87-4962-fcb5-7db69bff6d15"
      },
      "execution_count": null,
      "outputs": [
        {
          "output_type": "stream",
          "name": "stdout",
          "text": [
            "Random choice from list: date\n"
          ]
        }
      ]
    },
    {
      "cell_type": "markdown",
      "source": [
        "\n",
        "**Create a 5x5 array filled with random integers from 0 to 10.**\n",
        "1. Create a 1D array of shape (5,) that will be added to each row of the 5x5 array using broadcasting.\n",
        "2. Multiply each column of the 5x5 array by a 1D array of shape (5,) using broadcasting.\n",
        "3. Display the final result."
      ],
      "metadata": {
        "id": "7oEzDNttMcdO"
      }
    },
    {
      "cell_type": "code",
      "source": [],
      "metadata": {
        "id": "4q06HgKYFu1c"
      },
      "execution_count": null,
      "outputs": []
    },
    {
      "cell_type": "markdown",
      "source": [
        "**Array Manipulation**\n",
        "1. Create a 1D array with values from 1 to 20.\n",
        "2. Reshape the array into a 4x5 matrix.\n",
        "3. Flatten the reshaped matrix back into a 1D array.\n",
        "4. ind the mean, standard deviation, and sum of the reshaped matrix."
      ],
      "metadata": {
        "id": "0f6SlL_wM3gi"
      }
    },
    {
      "cell_type": "markdown",
      "source": [
        "**Date: 13-01-2025**\n",
        "\n",
        "**NumPy - Indexing & Slicing**"
      ],
      "metadata": {
        "id": "oj8R3y1WTZrI"
      }
    },
    {
      "cell_type": "markdown",
      "source": [
        "Contents of ndarray object can be accessed and modified by indexing or slicing\n",
        "We know that, items in ndarray object follows zero-based index.\n",
        "Slicing is a process to extract a part of array."
      ],
      "metadata": {
        "id": "3B5T9JM2TqIz"
      }
    },
    {
      "cell_type": "code",
      "source": [
        "import numpy as np\n",
        "a = np.arange(10)\n",
        "s = slice(2,7,2)\n",
        "print (a[s])\n",
        "#The same result can also be obtained by giving the slicing parameters separated by a colon : (start:stop:step) directly to the ndarray object.\n",
        "import numpy as np\n",
        "a = np.arange(10)\n",
        "s = a[2:7:2]\n",
        "print (a[s])\n",
        "# slice single item\n",
        "a = np.arange(10)\n",
        "b = a[5]\n",
        "print (b)\n",
        "# slice items starting from index\n",
        "\n",
        "print (a[2:])"
      ],
      "metadata": {
        "id": "XsyxXVneNAFs",
        "colab": {
          "base_uri": "https://localhost:8080/"
        },
        "outputId": "b0fd5e71-0e79-4fbd-a88d-a1891472de42"
      },
      "execution_count": 6,
      "outputs": [
        {
          "output_type": "stream",
          "name": "stdout",
          "text": [
            "[2 4 6]\n",
            "[2 4 6]\n",
            "5\n",
            "[2 3 4 5 6 7 8 9]\n"
          ]
        }
      ]
    },
    {
      "cell_type": "code",
      "source": [
        "#Slicing in Mutlidimensional\n",
        "import numpy as np\n",
        "a = np.array([[1,2,3],[3,4,5],[4,5,6]])\n",
        "print(a)\n",
        "\n",
        "# slice items starting from index\n",
        "print ('Now we will slice the array from the index a[2:]' )\n",
        "print(a[2:])"
      ],
      "metadata": {
        "colab": {
          "base_uri": "https://localhost:8080/"
        },
        "id": "QnjTVKfXUUae",
        "outputId": "cb0bbd45-6be7-4126-a394-9001c67c2180"
      },
      "execution_count": 14,
      "outputs": [
        {
          "output_type": "stream",
          "name": "stdout",
          "text": [
            "[[1 2 3]\n",
            " [3 4 5]\n",
            " [4 5 6]]\n",
            "Now we will slice the array from the index a[1:]\n",
            "[[4 5 6]]\n"
          ]
        }
      ]
    },
    {
      "cell_type": "markdown",
      "source": [
        "Slicing can also include ellipsis (…) to make a selection tuple of the same length as the dimension of an array. If ellipsis is used at the row position, it will return an ndarray comprising of items in rows."
      ],
      "metadata": {
        "id": "ecrCfaEwW6HR"
      }
    },
    {
      "cell_type": "code",
      "source": [
        "# array to begin with\n",
        "import numpy as np\n",
        "a = np.array([[1,2,3],[3,4,5],[4,5,6]])\n",
        "\n",
        "print ('Our array is:' )\n",
        "print(a)\n",
        "print ('\\n')\n",
        "\n",
        "# this returns array of items in the second column\n",
        "print ('The items in the second column are:' )\n",
        "print (a[...,1] )\n",
        "print ('\\n')\n",
        "\n",
        "# Now we will slice all items from the second row\n",
        "print ('The items in the second row are:')\n",
        "print (a[1,...])\n",
        "print ('\\n')\n",
        "\n",
        "# Now we will slice all items from column 1 onwards\n",
        "print ('The items column 1 onwards are:' )\n",
        "print (a[...,1:])\n"
      ],
      "metadata": {
        "colab": {
          "base_uri": "https://localhost:8080/"
        },
        "id": "4tIcUYncWKpW",
        "outputId": "b34c94b7-e5af-4209-f10b-c161570b9c67"
      },
      "execution_count": 19,
      "outputs": [
        {
          "output_type": "stream",
          "name": "stdout",
          "text": [
            "Our array is:\n",
            "[[1 2 3]\n",
            " [3 4 5]\n",
            " [4 5 6]]\n",
            "\n",
            "\n",
            "The items in the second column are:\n",
            "[2 4 5]\n",
            "\n",
            "\n",
            "The items in the second row are:\n",
            "[3 4 5]\n",
            "\n",
            "\n",
            "The items column 1 onwards are:\n",
            "[[2 3]\n",
            " [4 5]\n",
            " [5 6]]\n"
          ]
        }
      ]
    },
    {
      "cell_type": "markdown",
      "source": [
        "**Class Assignment: Create a NumPy array of 20 elements (from 1 to 20). Using slicing, extract:**\n",
        "\n",
        "1. The first 5 elements.\n",
        "2. The elements from index 5 to 15.\n",
        "3. The last 3 elements"
      ],
      "metadata": {
        "id": "pgtkRLrmilYp"
      }
    },
    {
      "cell_type": "code",
      "source": [
        "#Write your code here"
      ],
      "metadata": {
        "id": "s4tdcxAHjcDi"
      },
      "execution_count": null,
      "outputs": []
    },
    {
      "cell_type": "markdown",
      "source": [
        "**Sorting Arrays in NumPy**"
      ],
      "metadata": {
        "id": "Krq3tL7jb1lz"
      }
    },
    {
      "cell_type": "markdown",
      "source": [],
      "metadata": {
        "id": "Jop-jCbHiheI"
      }
    },
    {
      "cell_type": "code",
      "source": [
        "import numpy as np\n",
        "\n",
        "arr = np.array([3, 1, 2, 5, 4])\n",
        "arr.sort()\n",
        "print(\"Sorted Array:\", arr)"
      ],
      "metadata": {
        "colab": {
          "base_uri": "https://localhost:8080/"
        },
        "id": "N4ygpjAPXFFZ",
        "outputId": "56a89e74-0ce3-4efc-d44d-e0912921a08f"
      },
      "execution_count": 20,
      "outputs": [
        {
          "output_type": "stream",
          "name": "stdout",
          "text": [
            "Sorted Array: [1 2 3 4 5]\n"
          ]
        }
      ]
    },
    {
      "cell_type": "code",
      "source": [
        "#Sorting Along Specific Axes\n",
        "import numpy as np\n",
        "\n",
        "arr = np.array([[3, 2, 1], [6, 5, 4]])\n",
        "axis0 = np.sort(arr, axis=0)\n",
        "axis1 = np.sort(arr, axis=1)\n",
        "\n",
        "print(\"Original Array:\\n\", arr)\n",
        "print(\"Sorted Along Axis 0:\\n\", axis0)\n",
        "print(\"Sorted Along Axis 1:\\n\", axis1)"
      ],
      "metadata": {
        "colab": {
          "base_uri": "https://localhost:8080/"
        },
        "id": "iQKyoVujcWIQ",
        "outputId": "d5726cb4-887f-462d-b51b-bac995a37ba4"
      },
      "execution_count": 21,
      "outputs": [
        {
          "output_type": "stream",
          "name": "stdout",
          "text": [
            "Original Array:\n",
            " [[3 2 1]\n",
            " [6 5 4]]\n",
            "Sorted Along Axis 0:\n",
            " [[3 2 1]\n",
            " [6 5 4]]\n",
            "Sorted Along Axis 1:\n",
            " [[1 2 3]\n",
            " [4 5 6]]\n"
          ]
        }
      ]
    },
    {
      "cell_type": "code",
      "source": [
        "#Partial Sorting Using partition()\n",
        "import numpy as np\n",
        "\n",
        "arr = np.array([3, 1, 2, 5, 4])\n",
        "arr = np.partition(arr, 2)\n",
        "\n",
        "print(\"Partitioned Array:\", arr)"
      ],
      "metadata": {
        "colab": {
          "base_uri": "https://localhost:8080/"
        },
        "id": "shIhM_BGchA7",
        "outputId": "3abb861d-16fb-4ef6-8fb7-9612d638dae2"
      },
      "execution_count": 22,
      "outputs": [
        {
          "output_type": "stream",
          "name": "stdout",
          "text": [
            "Partitioned Array: [1 2 3 5 4]\n"
          ]
        }
      ]
    },
    {
      "cell_type": "code",
      "source": [
        "#Indirect Sorting Using argsort()\n",
        "import numpy as np\n",
        "\n",
        "arr = np.array([3, 1, 2, 5, 4])\n",
        "sorted_indices = np.argsort(arr)\n",
        "\n",
        "print(\"Indices that would sort the array:\", sorted_indices)\n",
        "print(\"Sorted Array Using Indices:\", arr[sorted_indices])"
      ],
      "metadata": {
        "colab": {
          "base_uri": "https://localhost:8080/"
        },
        "id": "hn-StQh1c_lW",
        "outputId": "a6683ec7-c706-493f-c12b-2c416fc11585"
      },
      "execution_count": 23,
      "outputs": [
        {
          "output_type": "stream",
          "name": "stdout",
          "text": [
            "Indices that would sort the array: [1 2 0 4 3]\n",
            "Sorted Array Using Indices: [1 2 3 4 5]\n"
          ]
        }
      ]
    },
    {
      "cell_type": "code",
      "source": [
        "#Sorting Structured Arrays\n",
        "import numpy as np\n",
        "\n",
        "arr = np.array([('John', 25), ('Alice', 30), ('Bob', 22)],\n",
        "               dtype=[('name', 'U10'), ('age', 'i4')])\n",
        "sorted_arr = np.sort(arr, order='age')\n",
        "\n",
        "print(\"Sorted Structured Array:\\n\", sorted_arr)"
      ],
      "metadata": {
        "colab": {
          "base_uri": "https://localhost:8080/"
        },
        "id": "MTK__5ORdRXM",
        "outputId": "2b9c55e1-e1a1-4c49-8e04-ec83e07695e6"
      },
      "execution_count": 27,
      "outputs": [
        {
          "output_type": "stream",
          "name": "stdout",
          "text": [
            "Sorted Structured Array:\n",
            " [('Bob', 22) ('John', 25) ('Alice', 30)]\n"
          ]
        }
      ]
    },
    {
      "cell_type": "markdown",
      "source": [
        "**Class Assignment:** Create a NumPy array of 10 random integers. Use np.argsort() to get the indices that would sort the array in ascending order, then print the sorted array using these indices."
      ],
      "metadata": {
        "id": "BqbiuU1CjRv-"
      }
    },
    {
      "cell_type": "code",
      "source": [
        "#Write your code here"
      ],
      "metadata": {
        "id": "YKKn0rpajYN3"
      },
      "execution_count": null,
      "outputs": []
    },
    {
      "cell_type": "markdown",
      "source": [
        "**Handling Missing Data in Arrays**"
      ],
      "metadata": {
        "id": "QMIxy8BChkHI"
      }
    },
    {
      "cell_type": "code",
      "source": [
        "\n",
        "import numpy as np\n",
        "\n",
        "# Creating an array with missing values\n",
        "arr = np.array([1, 2, np.nan, 4, np.nan, 6])\n",
        "\n",
        "# Checking for missing values\n",
        "is_nan = np.isnan(arr)\n",
        "\n",
        "print(\"Array with Missing Values:\\n\", arr)\n",
        "print(\"Missing Value Mask:\\n\", is_nan)"
      ],
      "metadata": {
        "colab": {
          "base_uri": "https://localhost:8080/"
        },
        "id": "ZRhDcJaxdkXR",
        "outputId": "7d7e42e8-213a-4037-cbe6-1ce59231ceb4"
      },
      "execution_count": 28,
      "outputs": [
        {
          "output_type": "stream",
          "name": "stdout",
          "text": [
            "Array with Missing Values:\n",
            " [ 1.  2. nan  4. nan  6.]\n",
            "Missing Value Mask:\n",
            " [False False  True False  True False]\n"
          ]
        }
      ]
    },
    {
      "cell_type": "code",
      "source": [
        "#Removing Missing Data\n",
        "import numpy as np\n",
        "\n",
        "# Creating an array with missing values\n",
        "arr = np.array([1, 2, np.nan, 4, np.nan, 6])\n",
        "\n",
        "# Removing missing values\n",
        "cleaned_arr = arr[~np.isnan(arr)]\n",
        "\n",
        "print(\"Original Array:\\n\", arr)\n",
        "print(\"Array with Missing Values Removed:\\n\", cleaned_arr)"
      ],
      "metadata": {
        "colab": {
          "base_uri": "https://localhost:8080/"
        },
        "id": "KWjsDGH4ei7O",
        "outputId": "d3911086-8a3f-436e-ad96-a535c92634f9"
      },
      "execution_count": 29,
      "outputs": [
        {
          "output_type": "stream",
          "name": "stdout",
          "text": [
            "Original Array:\n",
            " [ 1.  2. nan  4. nan  6.]\n",
            "Array with Missing Values Removed:\n",
            " [1. 2. 4. 6.]\n"
          ]
        }
      ]
    },
    {
      "cell_type": "code",
      "source": [
        "#Replacing Missing Data\n",
        "import numpy as np\n",
        "\n",
        "# Creating an array with missing values\n",
        "arr = np.array([1, 2, np.nan, 4, np.nan, 6])\n",
        "\n",
        "# Replacing missing values with zero\n",
        "filled_arr = np.nan_to_num(arr, nan=0)\n",
        "\n",
        "print(\"Original Array:\\n\", arr)\n",
        "print(\"Array with Missing Values Replaced:\\n\", filled_arr)"
      ],
      "metadata": {
        "colab": {
          "base_uri": "https://localhost:8080/"
        },
        "id": "-jvSgIVsfQT_",
        "outputId": "0368a7da-f0e6-4bbf-c6cb-949530884369"
      },
      "execution_count": 30,
      "outputs": [
        {
          "output_type": "stream",
          "name": "stdout",
          "text": [
            "Original Array:\n",
            " [ 1.  2. nan  4. nan  6.]\n",
            "Array with Missing Values Replaced:\n",
            " [1. 2. 0. 4. 0. 6.]\n"
          ]
        }
      ]
    },
    {
      "cell_type": "code",
      "source": [
        "#Interpolating Missing Data: Interpolating missing data involves estimating and filling in missing values within a dataset based on the surrounding data.\n",
        "import numpy as np\n",
        "from scipy.interpolate import interp1d\n",
        "\n",
        "# Creating an array with missing values\n",
        "arr = np.array([1, 2, np.nan, 4, np.nan, 6])\n",
        "\n",
        "# Creating an index array\n",
        "indices = np.arange(len(arr))\n",
        "\n",
        "# Creating a mask for non-missing values\n",
        "mask = ~np.isnan(arr)\n",
        "\n",
        "# Performing linear interpolation\n",
        "interp_func = interp1d(indices[mask], arr[mask], kind='linear')\n",
        "filled_arr = interp_func(indices)\n",
        "\n",
        "print(\"Original Array:\\n\", arr)\n",
        "print(\"Array with Interpolated Missing Values:\\n\", filled_arr)"
      ],
      "metadata": {
        "colab": {
          "base_uri": "https://localhost:8080/"
        },
        "id": "e-kq2qncf5t1",
        "outputId": "f07fb092-cc62-4a82-c750-de8bcfc010cb"
      },
      "execution_count": 34,
      "outputs": [
        {
          "output_type": "stream",
          "name": "stdout",
          "text": [
            "Original Array:\n",
            " [ 1.  2. nan  4. nan  6.]\n",
            "Array with Interpolated Missing Values:\n",
            " [1. 2. 3. 4. 5. 6.]\n"
          ]
        }
      ]
    },
    {
      "cell_type": "markdown",
      "source": [
        "**Class Assignment**: Create a 1D NumPy array of 10 integers and randomly replace 2 elements with np.nan. Replace all NaN values in the array with the number 0."
      ],
      "metadata": {
        "id": "XaGHMOEHkdyj"
      }
    },
    {
      "cell_type": "code",
      "source": [],
      "metadata": {
        "id": "LRzC5edbgj1q"
      },
      "execution_count": null,
      "outputs": []
    }
  ]
}